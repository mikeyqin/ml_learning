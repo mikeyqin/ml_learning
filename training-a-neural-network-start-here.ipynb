{
 "cells": [
  {
   "cell_type": "markdown",
   "metadata": {},
   "source": [
    "# Training neural networks can be very confusing!\n",
    "\n",
    "What’s a good learning rate? How many hidden layers should your network have? Is dropout actually useful? Why are your gradients vanishing?\n",
    "\n",
    "In this post we'll peel the curtain behind some of the more confusing aspects of neural nets, and help you make smart decisions about your neural network architecture.\n",
    "\n",
    "**I highly recommend forking this kernel and playing with the different building blocks to hone your intuition.** I made a quick **demo** to walk you through this kernel: https://www.loom.com/share/fb64035e4576467489cf0f2ad9cff92a. If you have any more questions or feedback, please don't hesitate to [message me](https://twitter.com/lavanyaai)!\n",
    "\n",
    "## If you like this kernel, please give it an upvote. Thank you! :)\n",
    "\n",
    "NOTE: Original file was downloaded from here: https://www.kaggle.com/code/lavanyashukla01/training-a-neural-network-start-here under Apache 2.0"
   ]
  },
  {
   "cell_type": "markdown",
   "metadata": {},
   "source": [
    "Please turn the **'Internet' toggle On** in the Settings panel to your left, in order to make changes to this kernel. You'll be prompted for your Weights and Biases API key, which you can get for free @ [wandb.com](https://www.wandb.com/)."
   ]
  },
  {
   "cell_type": "markdown",
   "metadata": {},
   "source": [
    "# The Goal"
   ]
  },
  {
   "cell_type": "code",
   "execution_count": 1,
   "metadata": {
    "_kg_hide-input": false,
    "_kg_hide-output": true
   },
   "outputs": [],
   "source": [
    "# Please turn the 'Internet' toggle On in the Settings panel to your left, in order to make changes to this kernel.\n",
    "!pip install wandb -q"
   ]
  },
  {
   "cell_type": "code",
   "execution_count": 2,
   "metadata": {},
   "outputs": [
    {
     "name": "stderr",
     "output_type": "stream",
     "text": [
      "Using TensorFlow backend.\n",
      "wandb: Appending key for api.wandb.ai to your netrc file: /root/.netrc\n"
     ]
    },
    {
     "data": {
      "text/html": [
       "\n",
       "                Logging results to <a href=\"https://wandb.com\" target=\"_blank\">Weights & Biases</a> <a href=\"https://docs.wandb.com/integrations/jupyter.html\" target=\"_blank\">(Documentation)</a>.<br/>\n",
       "                Project page: <a href=\"https://app.wandb.ai/anony-mouse-22574/neural-nets-kaggle?apiKey=d380db39032b322bb131f39a0d30e0f2bfb6f899\" target=\"_blank\">https://app.wandb.ai/anony-mouse-22574/neural-nets-kaggle?apiKey=d380db39032b322bb131f39a0d30e0f2bfb6f899</a><br/>\n",
       "                Run page: <a href=\"https://app.wandb.ai/anony-mouse-22574/neural-nets-kaggle/runs/nrrrm339?apiKey=d380db39032b322bb131f39a0d30e0f2bfb6f899\" target=\"_blank\">https://app.wandb.ai/anony-mouse-22574/neural-nets-kaggle/runs/nrrrm339?apiKey=d380db39032b322bb131f39a0d30e0f2bfb6f899</a><br/>\n",
       "            "
      ],
      "text/plain": [
       "<IPython.core.display.HTML object>"
      ]
     },
     "metadata": {},
     "output_type": "display_data"
    },
    {
     "data": {
      "text/plain": [
       "W&B Run: https://app.wandb.ai/anony-mouse-22574/neural-nets-kaggle/runs/nrrrm339?apiKey=d380db39032b322bb131f39a0d30e0f2bfb6f899"
      ]
     },
     "execution_count": 2,
     "metadata": {},
     "output_type": "execute_result"
    }
   ],
   "source": [
    "from __future__ import print_function\n",
    "import keras\n",
    "from keras.datasets import cifar10\n",
    "from keras.preprocessing.image import ImageDataGenerator\n",
    "from keras.models import Sequential\n",
    "from keras.layers import Dense, Dropout, Activation, Flatten\n",
    "from keras.layers import Conv2D, MaxPooling2D\n",
    "import os\n",
    "\n",
    "# Essentials\n",
    "import numpy as np\n",
    "import pandas as pd\n",
    "\n",
    "# Models\n",
    "import tensorflow as tf\n",
    "\n",
    "# Ignore useless warnings\n",
    "import warnings\n",
    "warnings.filterwarnings(action=\"ignore\")\n",
    "\n",
    "# Set random state for numpy\n",
    "np.random.seed(42)\n",
    "\n",
    "# WandB\n",
    "import wandb\n",
    "from wandb.keras import WandbCallback\n",
    "# You can change your project name here. For more config options, see https://docs.wandb.com/docs/init.html\n",
    "wandb.init(anonymous='allow', project=\"neural-nets-kaggle\", name=\"basic_neural_network\")\n",
    "\n",
    "# Go to https://app.wandb.ai/authorize to get your WandB key"
   ]
  },
  {
   "cell_type": "code",
   "execution_count": 3,
   "metadata": {},
   "outputs": [
    {
     "name": "stdout",
     "output_type": "stream",
     "text": [
      "Downloading data from https://www.cs.toronto.edu/~kriz/cifar-10-python.tar.gz\n",
      "170500096/170498071 [==============================] - 4s 0us/step\n",
      "x_train shape: (50000, 32, 32, 3)\n",
      "50000 train samples\n",
      "10000 test samples\n"
     ]
    }
   ],
   "source": [
    "batch_size = 32\n",
    "num_classes = 10\n",
    "epochs = 100\n",
    "data_augmentation = True\n",
    "num_predictions = 20\n",
    "\n",
    "# The data, split between train and test sets:\n",
    "(x_train, y_train), (x_test, y_test) = cifar10.load_data()\n",
    "print('x_train shape:', x_train.shape)\n",
    "print(x_train.shape[0], 'train samples')\n",
    "print(x_test.shape[0], 'test samples')\n",
    "\n",
    "# Convert class vectors to binary class matrices.\n",
    "y_train = keras.utils.to_categorical(y_train, num_classes)\n",
    "y_test = keras.utils.to_categorical(y_test, num_classes)\n",
    "x_train = x_train.astype('float32') / 255.0\n",
    "x_test = x_test.astype('float32') / 255.0\n",
    "\n",
    "labels = ['airplane', 'automobile', 'bird', 'cat', 'deer', 'dog', 'frog', 'horse', 'ship', 'truck']"
   ]
  },
  {
   "cell_type": "code",
   "execution_count": 4,
   "metadata": {},
   "outputs": [
    {
     "data": {
      "text/html": [
       "\n",
       "                Logging results to <a href=\"https://wandb.com\" target=\"_blank\">Weights & Biases</a> <a href=\"https://docs.wandb.com/integrations/jupyter.html\" target=\"_blank\">(Documentation)</a>.<br/>\n",
       "                Project page: <a href=\"https://app.wandb.ai/anony-mouse-22574/building-neural-nets?apiKey=d380db39032b322bb131f39a0d30e0f2bfb6f899\" target=\"_blank\">https://app.wandb.ai/anony-mouse-22574/building-neural-nets?apiKey=d380db39032b322bb131f39a0d30e0f2bfb6f899</a><br/>\n",
       "                Run page: <a href=\"https://app.wandb.ai/anony-mouse-22574/building-neural-nets/runs/wolcx7v6?apiKey=d380db39032b322bb131f39a0d30e0f2bfb6f899\" target=\"_blank\">https://app.wandb.ai/anony-mouse-22574/building-neural-nets/runs/wolcx7v6?apiKey=d380db39032b322bb131f39a0d30e0f2bfb6f899</a><br/>\n",
       "            "
      ],
      "text/plain": [
       "<IPython.core.display.HTML object>"
      ]
     },
     "metadata": {},
     "output_type": "display_data"
    },
    {
     "data": {
      "text/plain": [
       "W&B Run: https://app.wandb.ai/anony-mouse-22574/building-neural-nets/runs/wolcx7v6?apiKey=d380db39032b322bb131f39a0d30e0f2bfb6f899"
      ]
     },
     "execution_count": 4,
     "metadata": {},
     "output_type": "execute_result"
    }
   ],
   "source": [
    "wandb.init(anonymous='allow', project=\"building-neural-nets\", name=\"cifar-10\")"
   ]
  },
  {
   "cell_type": "code",
   "execution_count": 5,
   "metadata": {},
   "outputs": [
    {
     "data": {
      "text/html": [
       "<iframe src=\"https://app.wandb.ai/anony-mouse-22574/building-neural-nets/runs/wolcx7v6?jupyter=true&state=paused&apiKey=d380db39032b322bb131f39a0d30e0f2bfb6f899\" style=\"border:none;width:100%;height:420px\">\n",
       "                </iframe>"
      ],
      "text/plain": [
       "<wandb.jupyter.Run at 0x7fbf1f774f98>"
      ]
     },
     "metadata": {},
     "output_type": "display_data"
    },
    {
     "name": "stdout",
     "output_type": "stream",
     "text": [
      "Train on 50000 samples, validate on 10000 samples\n",
      "Epoch 1/100\n",
      "50000/50000 [==============================] - 20s 407us/step - loss: 1.8189 - accuracy: 0.3325 - val_loss: 1.5400 - val_accuracy: 0.4431\n",
      "Epoch 2/100\n",
      "50000/50000 [==============================] - 15s 310us/step - loss: 1.5163 - accuracy: 0.4483 - val_loss: 1.3515 - val_accuracy: 0.5161\n",
      "Epoch 3/100\n",
      "50000/50000 [==============================] - 15s 299us/step - loss: 1.3765 - accuracy: 0.5048 - val_loss: 1.2370 - val_accuracy: 0.5577\n",
      "Epoch 4/100\n",
      "50000/50000 [==============================] - 15s 300us/step - loss: 1.2796 - accuracy: 0.5435 - val_loss: 1.1682 - val_accuracy: 0.5816\n",
      "Epoch 5/100\n",
      "50000/50000 [==============================] - 16s 320us/step - loss: 1.1941 - accuracy: 0.5751 - val_loss: 1.0992 - val_accuracy: 0.6089\n",
      "Epoch 6/100\n",
      "50000/50000 [==============================] - 16s 318us/step - loss: 1.1165 - accuracy: 0.6057 - val_loss: 1.0065 - val_accuracy: 0.6461\n",
      "Epoch 7/100\n",
      "50000/50000 [==============================] - 15s 301us/step - loss: 1.0592 - accuracy: 0.6260 - val_loss: 0.9830 - val_accuracy: 0.6595\n",
      "Epoch 8/100\n",
      "50000/50000 [==============================] - 15s 305us/step - loss: 1.0055 - accuracy: 0.6471 - val_loss: 0.9445 - val_accuracy: 0.6683\n",
      "Epoch 9/100\n",
      "50000/50000 [==============================] - 16s 315us/step - loss: 0.9631 - accuracy: 0.6612 - val_loss: 0.8939 - val_accuracy: 0.6891\n",
      "Epoch 10/100\n",
      "50000/50000 [==============================] - 15s 307us/step - loss: 0.9249 - accuracy: 0.6766 - val_loss: 0.8770 - val_accuracy: 0.6985\n",
      "Epoch 11/100\n",
      "50000/50000 [==============================] - 15s 309us/step - loss: 0.8900 - accuracy: 0.6890 - val_loss: 0.8282 - val_accuracy: 0.7136\n",
      "Epoch 12/100\n",
      "50000/50000 [==============================] - 15s 309us/step - loss: 0.8597 - accuracy: 0.7005 - val_loss: 0.8064 - val_accuracy: 0.7252\n",
      "Epoch 13/100\n",
      "50000/50000 [==============================] - 16s 317us/step - loss: 0.8265 - accuracy: 0.7102 - val_loss: 0.7893 - val_accuracy: 0.7312\n",
      "Epoch 14/100\n",
      "50000/50000 [==============================] - 15s 305us/step - loss: 0.7987 - accuracy: 0.7219 - val_loss: 0.7751 - val_accuracy: 0.7348\n",
      "Epoch 15/100\n",
      "50000/50000 [==============================] - 16s 310us/step - loss: 0.7732 - accuracy: 0.7299 - val_loss: 0.7488 - val_accuracy: 0.7406\n",
      "Epoch 16/100\n",
      "50000/50000 [==============================] - 16s 312us/step - loss: 0.7517 - accuracy: 0.7378 - val_loss: 0.7608 - val_accuracy: 0.7392\n",
      "Epoch 17/100\n",
      "50000/50000 [==============================] - 16s 322us/step - loss: 0.7289 - accuracy: 0.7455 - val_loss: 0.7278 - val_accuracy: 0.7511\n",
      "Epoch 18/100\n",
      "50000/50000 [==============================] - 15s 300us/step - loss: 0.7062 - accuracy: 0.7534 - val_loss: 0.7239 - val_accuracy: 0.7520\n",
      "Epoch 19/100\n",
      "22272/50000 [============>.................] - ETA: 7s - loss: 0.6947 - accuracy: 0.7575"
     ]
    }
   ],
   "source": [
    "%%wandb\n",
    "model = Sequential()\n",
    "model.add(Conv2D(32, (3, 3), padding='same', input_shape=x_train.shape[1:], activation='relu'))\n",
    "model.add(Conv2D(32, (3, 3), activation='relu'))\n",
    "model.add(MaxPooling2D(pool_size=(2, 2)))\n",
    "model.add(Dropout(0.25))\n",
    "model.add(Conv2D(64, (3, 3), padding='same', activation='relu'))\n",
    "model.add(Conv2D(64, (3, 3), activation='relu'))\n",
    "model.add(MaxPooling2D(pool_size=(2, 2)))\n",
    "model.add(Dropout(0.25))\n",
    "model.add(Flatten())\n",
    "model.add(Dense(512, activation='relu'))\n",
    "model.add(Dropout(0.5))\n",
    "model.add(Dense(num_classes, activation='softmax'))\n",
    "\n",
    "# Let's train the model using RMSprop\n",
    "model.compile(loss='categorical_crossentropy',\n",
    "              optimizer=keras.optimizers.Nadam(lr=0.0001, beta_1=0.9, beta_2=0.999, clipnorm=1.0),\n",
    "              metrics=['accuracy'])\n",
    "\n",
    "model.fit(x_train, y_train,\n",
    "              batch_size=batch_size,\n",
    "              epochs=epochs,\n",
    "              validation_data=(x_test, y_test),\n",
    "              callbacks=[WandbCallback(data_type=\"image\", labels=labels, validation_data=(x_test, y_test)), keras.callbacks.EarlyStopping(patience=10, restore_best_weights=True)],\n",
    "              shuffle=True)"
   ]
  },
  {
   "cell_type": "markdown",
   "metadata": {
    "toc": true
   },
   "source": [
    "<h1>Table of Contents<span class=\"tocSkip\"></span></h1>\n",
    "<div class=\"toc\"><ul class=\"toc-item\"><li><span><a href=\"#Training-neural-networks-can-be-very-confusing!\" data-toc-modified-id=\"Training-neural-networks-can-be-very-confusing!-1\"><span class=\"toc-item-num\">1&nbsp;&nbsp;</span>Training neural networks can be very confusing!</a></span></li><li><span><a href=\"#Setup\" data-toc-modified-id=\"Setup-2\"><span class=\"toc-item-num\">2&nbsp;&nbsp;</span>Setup</a></span><ul class=\"toc-item\"><li><span><a href=\"#Initialize-Hyperparameters\" data-toc-modified-id=\"Initialize-Hyperparameters-2.1\"><span class=\"toc-item-num\">2.1&nbsp;&nbsp;</span>Initialize Hyperparameters</a></span></li><li><span><a href=\"#Load-dataset\" data-toc-modified-id=\"Load-dataset-2.2\"><span class=\"toc-item-num\">2.2&nbsp;&nbsp;</span>Load dataset</a></span></li><li><span><a href=\"#Explore-Dataset\" data-toc-modified-id=\"Explore-Dataset-2.3\"><span class=\"toc-item-num\">2.3&nbsp;&nbsp;</span>Explore Dataset</a></span></li></ul></li><li><span><a href=\"#Model-Training\" data-toc-modified-id=\"Model-Training-3\"><span class=\"toc-item-num\">3&nbsp;&nbsp;</span>Model Training</a></span></li><li><span><a href=\"#Basic-Neural-Network\" data-toc-modified-id=\"Basic-Neural-Network-4\"><span class=\"toc-item-num\">4&nbsp;&nbsp;</span>Basic Neural Network</a></span></li><li><span><a href=\"#Learning-Rate\" data-toc-modified-id=\"Learning-Rate-5\"><span class=\"toc-item-num\">5&nbsp;&nbsp;</span>Learning Rate</a></span></li><li><span><a href=\"#Momentum\" data-toc-modified-id=\"Momentum-6\"><span class=\"toc-item-num\">6&nbsp;&nbsp;</span>Momentum</a></span></li><li><span><a href=\"#Vanishing-+-Exploding-Gradients\" data-toc-modified-id=\"Vanishing-+-Exploding-Gradients-7\"><span class=\"toc-item-num\">7&nbsp;&nbsp;</span>Vanishing + Exploding Gradients</a></span></li><li><span><a href=\"#Dropout\" data-toc-modified-id=\"Dropout-8\"><span class=\"toc-item-num\">8&nbsp;&nbsp;</span>Dropout</a></span></li><li><span><a href=\"#Optimizers\" data-toc-modified-id=\"Optimizers-9\"><span class=\"toc-item-num\">9&nbsp;&nbsp;</span>Optimizers</a></span></li><li><span><a href=\"#Learning-Rate-Scheduling\" data-toc-modified-id=\"Learning-Rate-Scheduling-10\"><span class=\"toc-item-num\">10&nbsp;&nbsp;</span>Learning Rate Scheduling</a></span></li><li><span><a href=\"#Make-Predictions\" data-toc-modified-id=\"Make-Predictions-11\"><span class=\"toc-item-num\">11&nbsp;&nbsp;</span>Make Predictions</a></span></li><li><span><a href=\"#A-Few-More-Things\" data-toc-modified-id=\"A-Few-More-Things-12\"><span class=\"toc-item-num\">12&nbsp;&nbsp;</span>A Few More Things</a></span></li><li><span><a href=\"#That-was-fun,-yeah?\" data-toc-modified-id=\"That-was-fun,-yeah?-13\"><span class=\"toc-item-num\">13&nbsp;&nbsp;</span>That was fun, yeah?</a></span><ul class=\"toc-item\"><li><span><a href=\"#Weights-&amp;-Biases\" data-toc-modified-id=\"Weights-&amp;-Biases-13.1\"><span class=\"toc-item-num\">13.1&nbsp;&nbsp;</span>Weights &amp; Biases</a></span></li></ul></li></ul></div>"
   ]
  },
  {
   "cell_type": "markdown",
   "metadata": {},
   "source": [
    "## Load dataset"
   ]
  },
  {
   "cell_type": "code",
   "execution_count": 6,
   "metadata": {
    "_kg_hide-input": false,
    "_kg_hide-output": false
   },
   "outputs": [
    {
     "name": "stdout",
     "output_type": "stream",
     "text": [
      "Downloading data from https://storage.googleapis.com/tensorflow/tf-keras-datasets/train-labels-idx1-ubyte.gz\n",
      "32768/29515 [=================================] - 0s 0us/step\n",
      "Downloading data from https://storage.googleapis.com/tensorflow/tf-keras-datasets/train-images-idx3-ubyte.gz\n",
      "26427392/26421880 [==============================] - 0s 0us/step\n",
      "Downloading data from https://storage.googleapis.com/tensorflow/tf-keras-datasets/t10k-labels-idx1-ubyte.gz\n",
      "8192/5148 [===============================================] - 0s 0us/step\n",
      "Downloading data from https://storage.googleapis.com/tensorflow/tf-keras-datasets/t10k-images-idx3-ubyte.gz\n",
      "4423680/4422102 [==============================] - 0s 0us/step\n"
     ]
    },
    {
     "ename": "NameError",
     "evalue": "name 'config' is not defined",
     "output_type": "error",
     "traceback": [
      "\u001b[0;31m---------------------------------------------------------------------------\u001b[0m",
      "\u001b[0;31mNameError\u001b[0m                                 Traceback (most recent call last)",
      "\u001b[0;32m<ipython-input-6-a21525231058>\u001b[0m in \u001b[0;36m<module>\u001b[0;34m\u001b[0m\n\u001b[1;32m      7\u001b[0m \u001b[0;34m\u001b[0m\u001b[0m\n\u001b[1;32m      8\u001b[0m \u001b[0;31m#reshape input data\u001b[0m\u001b[0;34m\u001b[0m\u001b[0;34m\u001b[0m\u001b[0m\n\u001b[0;32m----> 9\u001b[0;31m \u001b[0mX_train_full\u001b[0m \u001b[0;34m=\u001b[0m \u001b[0mX_train_full\u001b[0m\u001b[0;34m.\u001b[0m\u001b[0mreshape\u001b[0m\u001b[0;34m(\u001b[0m\u001b[0mX_train_full\u001b[0m\u001b[0;34m.\u001b[0m\u001b[0mshape\u001b[0m\u001b[0;34m[\u001b[0m\u001b[0;36m0\u001b[0m\u001b[0;34m]\u001b[0m\u001b[0;34m,\u001b[0m \u001b[0mconfig\u001b[0m\u001b[0;34m.\u001b[0m\u001b[0mimg_width\u001b[0m\u001b[0;34m,\u001b[0m \u001b[0mconfig\u001b[0m\u001b[0;34m.\u001b[0m\u001b[0mimg_height\u001b[0m\u001b[0;34m,\u001b[0m \u001b[0;36m1\u001b[0m\u001b[0;34m)\u001b[0m\u001b[0;34m\u001b[0m\u001b[0m\n\u001b[0m\u001b[1;32m     10\u001b[0m \u001b[0mX_test\u001b[0m \u001b[0;34m=\u001b[0m \u001b[0mX_test\u001b[0m\u001b[0;34m.\u001b[0m\u001b[0mreshape\u001b[0m\u001b[0;34m(\u001b[0m\u001b[0mX_test\u001b[0m\u001b[0;34m.\u001b[0m\u001b[0mshape\u001b[0m\u001b[0;34m[\u001b[0m\u001b[0;36m0\u001b[0m\u001b[0;34m]\u001b[0m\u001b[0;34m,\u001b[0m \u001b[0mconfig\u001b[0m\u001b[0;34m.\u001b[0m\u001b[0mimg_width\u001b[0m\u001b[0;34m,\u001b[0m \u001b[0mconfig\u001b[0m\u001b[0;34m.\u001b[0m\u001b[0mimg_height\u001b[0m\u001b[0;34m,\u001b[0m \u001b[0;36m1\u001b[0m\u001b[0;34m)\u001b[0m\u001b[0;34m\u001b[0m\u001b[0m\n\u001b[1;32m     11\u001b[0m \u001b[0;34m\u001b[0m\u001b[0m\n",
      "\u001b[0;31mNameError\u001b[0m: name 'config' is not defined"
     ]
    }
   ],
   "source": [
    "(X_train_full, y_train_full), (X_test, y_test) = tf.keras.datasets.fashion_mnist.load_data()\n",
    "labels=[\"T-shirt/top\",\"Trouser\",\"Pullover\",\"Dress\",\"Coat\",\n",
    "        \"Sandal\",\"Shirt\",\"Sneaker\",\"Bag\",\"Ankle boot\"]\n",
    "\n",
    "# Normalize pixel values\n",
    "X_train_full, X_test = X_train_full / 255.0, X_test / 255.0\n",
    "\n",
    "#reshape input data\n",
    "X_train_full = X_train_full.reshape(X_train_full.shape[0], config.img_width, config.img_height, 1)\n",
    "X_test = X_test.reshape(X_test.shape[0], config.img_width, config.img_height, 1)\n",
    "\n",
    "# one hot encode outputs\n",
    "y_train_full = tf.keras.utils.to_categorical(y_train_full)\n",
    "y_test = tf.keras.utils.to_categorical(y_test)\n",
    "num_classes = y_test.shape[1]\n",
    "\n",
    "# Split into validation, and training sets\n",
    "X_valid, X_train = X_train_full[:config.validation_size], X_train_full[config.validation_size:]\n",
    "y_valid, y_train = y_train_full[:config.validation_size], y_train_full[config.validation_size:]\n",
    "X_train_full.shape, X_train.shape, X_valid.shape, X_test.shape"
   ]
  },
  {
   "cell_type": "markdown",
   "metadata": {},
   "source": [
    "## Explore Dataset"
   ]
  },
  {
   "cell_type": "markdown",
   "metadata": {},
   "source": [
    "![](https://paper-attachments.dropbox.com/s_70ED39A7F97AC42BAB6E155E4809EB5A8988617EE839B00C0D8E924932439DDF_1565465694924_embedding.gif)\n",
    "\n",
    "\n",
    "Fashion-MNIST is a dataset of that shares the same structure as MNIST (60,000 images in training set, 10,000 in test set, with each image being a 28x28 grayscale image, and 10 label classes to predict). Fashion MNIST is slightly more complicated than MNIST and hence serves as a good dataset for benchmarking machine learning algorithms.\n",
    "\n",
    "A selection of the images in the dataset are shown below."
   ]
  },
  {
   "cell_type": "markdown",
   "metadata": {},
   "source": [
    "# Model Training"
   ]
  },
  {
   "cell_type": "markdown",
   "metadata": {},
   "source": [
    "# Basic Neural Network"
   ]
  },
  {
   "cell_type": "markdown",
   "metadata": {},
   "source": [
    "**1. Input neurons**\n",
    "The input vector needs one input neuron per feature. For tabular data, this is the number of relevant features in your dataset. You want to carefully select these features and remove any that may contain patterns that won't generalize beyond the training set (and cause overfitting). For images, this is the dimensions of your image (28*28=784 in case of MNIST).\n",
    "\n",
    "        \n",
    "**2. Output neurons**\n",
    "This is the number of predictions you want to make.\n",
    "- **Regression:** For regression tasks, this can be one value (e.g. housing price). For multi-variate regression, it is one neuron per predicted value (e.g. for bounding boxes it can be 4 neurons – one each for bounding box height, width, x-coordinate, y-coordinate).\n",
    "- **Classification:** For binary classification (spam-not spam), we use one output neuron per positive class, wherein the output represents the probability of the positive class. For multi-class classification (e.g. in object detection where an instance can be classified as a car, a dog, a house etc.), we have one output neuron per class, and use the softmax activation function on the output layer to ensure the final probabilities sum to 1.\n",
    "        \n",
    "        \n",
    "**3. Hidden Layers and Neurons per Hidden Layers**\n",
    "    The number of hidden layers is highly dependent on the problem and the architecture of your neural network. You're essentially trying to Goldilocks your way into the perfect neural network architecture - not too big, not too small, just right.\n",
    "        \n",
    "Generally, 1-5 hidden layers will serve you well for most problems. When working with image or speech data, you'd want your network to have dozens-hundreds of layers, not all of which might be fully connected. For these use cases, there are pre-trained models (YOLO, ResNet, VGG) that allow you to use large parts of their networks, and train your model on top of these networks to learn only the higher order features. In this case, your model will still have only a few layers to train.\n",
    "\n",
    "In general using the same number of neurons for all hidden layers will suffice. For some datasets, having a large first layer and following it up with smaller layers will lead to better performance as the first layer can learn a lot of lower-level features that can feed into a few higher order features in the subsequent layers.\n",
    "\n",
    "Usually you will get more of a performance boost from adding more layers than adding more neurons in each layer.\n",
    "\n",
    "I'd recommend starting with 1-5 layers and 1-100 neurons and slowly adding more layers and neurons until you start overfitting. You can track your loss and accuracy within your Weights and Biases dashboard to see which hidden layers + hidden neurons combo leads to the best loss.\n",
    "\n",
    "Something to keep in mind with choosing a smaller number of layers/neurons is that if the this number is too small, your network will not be able to learn the underlying patterns in your data and thus be useless. An approach to counteract this is to start with a huge number of hidden layers + hidden neurons and then use dropout and early stopping to let the neural network size itself down for you. Again, I'd recommend trying a few combinations and track the performance in your Weights and Biases dashboard to determine the perfect network size for your problem.\n",
    "\n",
    "Andrej Karpathy also recommends the [overfit then regularize](http://karpathy.github.io/2019/04/25/recipe/) approach – \"first get a model large enough that it can overfit (i.e. focus on training loss) and then regularize it appropriately (give up some training loss to improve the validation loss).\"\n",
    "\n",
    "        \n",
    "**4. Loss function**\n",
    "![](https://paper-attachments.dropbox.com/s_39292DB9CE2A9400103E176C2ABC438C6A626910E9DBB0D6FBE28EE673C7492C_1565307636338_image.png)\n",
    "   - **Regression:** Mean squared error is the most common loss function to optimize for, unless there are a significant number of outliers. In this case, use mean absolute error or Huber loss.     \n",
    "   - **Classification:** Cross-entropy will serve you well in most cases.\n",
    "\n",
    "\n",
    "**5. Batch Size**\n",
    "Large batch sizes can be great because they can harness the power of GPUs to process more training instances per time. [OpenAI has found](https://openai.com/blog/science-of-ai/) larger batch size (of tens of thousands for image-classification  and  language modeling, and of millions in the case of RL agents) serve well for scaling and parallelizability.\n",
    "\n",
    "There's a case to be made for smaller batch sizes too, however. According to [this paper](https://arxiv.org/abs/1804.07612) by Masters and Luschi, the advantage gained from increased parallelism from running large batches is offset by the increased performance generalization and smaller memory footprint achieved by smaller batches. They show that increased batch sizes reduce the acceptable range of learning rates that provide stable convergence. Their takeaway is that smaller is, in-fact, better; and that the best performance is obtained by mini-batch sizes between 2 and 32.\n",
    "\n",
    "If you're not operating at massive scales, I would recommend starting with lower batch sizes and slowly increasing the size and monitoring performance in your [Weights and Biases](https://www.wandb.com/) dashboard to determine the best fit.\n",
    "        \n",
    "**6. Number of epochs**\n",
    "    I'd recommend starting with a large number of epochs and use early stopping to halt training when performance stops improving.\n",
    "        \n",
    "        \n",
    "**7. Scaling your features**\n",
    "    A quick note: Make sure all your features have similar scale before using them as inputs to your neural network. This ensures faster convergence. When your features have different scales (e.g. salaries in thousands and years of experience in tens), the cost function will look like the elongated bowl on the left. This means your optimization algorithm will take a long time to traverse the valley compared to using normalized features (on the right).\n",
    "    ![](https://paper-attachments.dropbox.com/s_39292DB9CE2A9400103E176C2ABC438C6A626910E9DBB0D6FBE28EE673C7492C_1565307687940_image.png)\n",
    "        "
   ]
  },
  {
   "cell_type": "code",
   "execution_count": 7,
   "metadata": {},
   "outputs": [],
   "source": [
    "config = wandb.config # Config is a variable that holds and saves hyperparameters and inputs\n",
    "config.dropout = 0.2\n",
    "config.conv_layer_1_size  = 32\n",
    "config.conv_layer_2_size = 64\n",
    "config.conv_layer_3_size = 128\n",
    "config.hidden_layer_size = 512\n",
    "config.learn_rate = 0.01\n",
    "config.learn_rate_low = 0.001\n",
    "config.kernel_size = 3\n",
    "config.pool_size = 2\n",
    "config.decay = 1e-6\n",
    "config.momentum = 0.9\n",
    "config.n_epochs = 25\n",
    "\n",
    "config.img_width=28\n",
    "config.img_height=28\n",
    "config.num_classes = 10\n",
    "config.batch_size = 128\n",
    "config.validation_size = 5000"
   ]
  },
  {
   "cell_type": "code",
   "execution_count": 8,
   "metadata": {
    "_kg_hide-output": false
   },
   "outputs": [
    {
     "data": {
      "text/html": [
       "<iframe src=\"https://app.wandb.ai/anony-mouse-22574/building-neural-nets/runs/wolcx7v6?jupyter=true&state=paused&apiKey=d380db39032b322bb131f39a0d30e0f2bfb6f899\" style=\"border:none;width:100%;height:420px\">\n",
       "                </iframe>"
      ],
      "text/plain": [
       "<wandb.jupyter.Run at 0x7fbf1f70d5c0>"
      ]
     },
     "metadata": {},
     "output_type": "display_data"
    },
    {
     "ename": "NameError",
     "evalue": "name 'X_train' is not defined",
     "output_type": "error",
     "traceback": [
      "\u001b[0;31m---------------------------------------------------------------------------\u001b[0m",
      "\u001b[0;31mNameError\u001b[0m                                 Traceback (most recent call last)",
      "\u001b[0;32m<ipython-input-8-3255b0422ffa>\u001b[0m in \u001b[0;36m<module>\u001b[0;34m\u001b[0m\n\u001b[1;32m     13\u001b[0m \u001b[0;34m\u001b[0m\u001b[0m\n\u001b[1;32m     14\u001b[0m \u001b[0mmodel\u001b[0m\u001b[0;34m.\u001b[0m\u001b[0mcompile\u001b[0m\u001b[0;34m(\u001b[0m\u001b[0mloss\u001b[0m\u001b[0;34m=\u001b[0m\u001b[0;34m'categorical_crossentropy'\u001b[0m\u001b[0;34m,\u001b[0m \u001b[0moptimizer\u001b[0m\u001b[0;34m=\u001b[0m\u001b[0mtf\u001b[0m\u001b[0;34m.\u001b[0m\u001b[0mkeras\u001b[0m\u001b[0;34m.\u001b[0m\u001b[0moptimizers\u001b[0m\u001b[0;34m.\u001b[0m\u001b[0mSGD\u001b[0m\u001b[0;34m(\u001b[0m\u001b[0mlr\u001b[0m\u001b[0;34m=\u001b[0m\u001b[0mconfig\u001b[0m\u001b[0;34m.\u001b[0m\u001b[0mlearn_rate\u001b[0m\u001b[0;34m)\u001b[0m\u001b[0;34m,\u001b[0m \u001b[0mmetrics\u001b[0m\u001b[0;34m=\u001b[0m\u001b[0;34m[\u001b[0m\u001b[0;34m'accuracy'\u001b[0m\u001b[0;34m]\u001b[0m\u001b[0;34m)\u001b[0m\u001b[0;34m\u001b[0m\u001b[0m\n\u001b[0;32m---> 15\u001b[0;31m model.fit(X_train, y_train, verbose=0, validation_data=(X_valid, y_valid), epochs=config.n_epochs,\n\u001b[0m\u001b[1;32m     16\u001b[0m         callbacks=[WandbCallback(data_type=\"image\", validation_data=(X_valid, y_valid), labels=labels)])\n",
      "\u001b[0;31mNameError\u001b[0m: name 'X_train' is not defined"
     ]
    }
   ],
   "source": [
    "%%wandb \n",
    "# build model\n",
    "model = tf.keras.Sequential()\n",
    "model.add(tf.keras.layers.Conv2D(config.conv_layer_1_size, kernel_size=(config.kernel_size, config.kernel_size), activation='relu', input_shape=(config.img_width, config.img_height, 1)))\n",
    "model.add(tf.keras.layers.Conv2D(config.conv_layer_1_size, kernel_size=(config.kernel_size, config.kernel_size), activation='relu'))\n",
    "model.add(tf.keras.layers.MaxPooling2D((config.pool_size, config.pool_size)))\n",
    "model.add(tf.keras.layers.Conv2D(config.conv_layer_2_size, kernel_size=(config.kernel_size, config.kernel_size), activation='relu'))\n",
    "model.add(tf.keras.layers.Conv2D(config.conv_layer_2_size, kernel_size=(config.kernel_size, config.kernel_size), activation='relu'))\n",
    "model.add(tf.keras.layers.MaxPooling2D(pool_size=(config.pool_size, config.pool_size)))\n",
    "model.add(tf.keras.layers.Conv2D(config.conv_layer_3_size, (config.kernel_size, config.kernel_size), activation='relu'))\n",
    "model.add(tf.keras.layers.Flatten())\n",
    "model.add(tf.keras.layers.Dense(config.hidden_layer_size, activation='relu'))\n",
    "model.add(tf.keras.layers.Dense(config.num_classes, activation='softmax'))\n",
    "\n",
    "model.compile(loss='categorical_crossentropy', optimizer=tf.keras.optimizers.SGD(lr=config.learn_rate), metrics=['accuracy'])\n",
    "model.fit(X_train, y_train, verbose=0, validation_data=(X_valid, y_valid), epochs=config.n_epochs,\n",
    "        callbacks=[WandbCallback(data_type=\"image\", validation_data=(X_valid, y_valid), labels=labels)])"
   ]
  },
  {
   "cell_type": "markdown",
   "metadata": {},
   "source": [
    "# Learning Rate\n",
    "\n",
    "\n",
    "\n",
    "![](https://paper-attachments.dropbox.com/s_39292DB9CE2A9400103E176C2ABC438C6A626910E9DBB0D6FBE28EE673C7492C_1565307718429_image.png)\n",
    "\n",
    "Picking the learning rate is very important, and you want to make sure you get this right! Ideally you want to re-tweak the learning rate when you tweak the other hyper-parameters of your network.\n",
    "    \n",
    "To find the best learning rate, start with a very low values (10^-6) and slowly multiply it by a constant until it reaches a very high value (e.g. 10). Measure your model performance (vs the log of your learning rate) in your Weights and Biases dashboard to determine which rate served you well for your problem. You can then retrain your model using this optimal learning rate.\n",
    "    \n",
    "The best learning rate is usually half of the learning rate that causes the model to diverge. Feel free to set different values for learn_rate in the code and seeing how it affects model performance to develop your intuition around learning rates.\n",
    "\n",
    "I'd also recommend using the [Learning Rate finder](https://arxiv.org/abs/1506.01186) method proposed by Leslie Smith. It an excellent way to find a good learning rate for most gradient optimizers (most variants of SGD) and works with most network architectures.\n",
    "    \n",
    "Also, see the section on learning rate scheduling below."
   ]
  },
  {
   "cell_type": "code",
   "execution_count": 9,
   "metadata": {
    "_kg_hide-output": false
   },
   "outputs": [
    {
     "data": {
      "text/html": [
       "\n",
       "                Logging results to <a href=\"https://wandb.com\" target=\"_blank\">Weights & Biases</a> <a href=\"https://docs.wandb.com/integrations/jupyter.html\" target=\"_blank\">(Documentation)</a>.<br/>\n",
       "                Project page: <a href=\"https://app.wandb.ai/anony-mouse-22574/building-neural-nets?apiKey=d380db39032b322bb131f39a0d30e0f2bfb6f899\" target=\"_blank\">https://app.wandb.ai/anony-mouse-22574/building-neural-nets?apiKey=d380db39032b322bb131f39a0d30e0f2bfb6f899</a><br/>\n",
       "                Run page: <a href=\"https://app.wandb.ai/anony-mouse-22574/building-neural-nets/runs/vodysraz?apiKey=d380db39032b322bb131f39a0d30e0f2bfb6f899\" target=\"_blank\">https://app.wandb.ai/anony-mouse-22574/building-neural-nets/runs/vodysraz?apiKey=d380db39032b322bb131f39a0d30e0f2bfb6f899</a><br/>\n",
       "            "
      ],
      "text/plain": [
       "<IPython.core.display.HTML object>"
      ]
     },
     "metadata": {},
     "output_type": "display_data"
    },
    {
     "data": {
      "text/plain": [
       "W&B Run: https://app.wandb.ai/anony-mouse-22574/building-neural-nets/runs/vodysraz?apiKey=d380db39032b322bb131f39a0d30e0f2bfb6f899"
      ]
     },
     "execution_count": 9,
     "metadata": {},
     "output_type": "execute_result"
    }
   ],
   "source": [
    "wandb.init(anonymous='allow', project=\"building-neural-nets\", name=\"lower_learning_rate\")"
   ]
  },
  {
   "cell_type": "code",
   "execution_count": 10,
   "metadata": {
    "_kg_hide-output": false
   },
   "outputs": [
    {
     "data": {
      "text/html": [
       "<iframe src=\"https://app.wandb.ai/anony-mouse-22574/building-neural-nets/runs/vodysraz?jupyter=true&state=paused&apiKey=d380db39032b322bb131f39a0d30e0f2bfb6f899\" style=\"border:none;width:100%;height:420px\">\n",
       "                </iframe>"
      ],
      "text/plain": [
       "<wandb.jupyter.Run at 0x7fbf1c4a8278>"
      ]
     },
     "metadata": {},
     "output_type": "display_data"
    },
    {
     "ename": "NameError",
     "evalue": "name 'X_train' is not defined",
     "output_type": "error",
     "traceback": [
      "\u001b[0;31m---------------------------------------------------------------------------\u001b[0m",
      "\u001b[0;31mNameError\u001b[0m                                 Traceback (most recent call last)",
      "\u001b[0;32m<ipython-input-10-6b5afb8d6d64>\u001b[0m in \u001b[0;36m<module>\u001b[0;34m\u001b[0m\n\u001b[1;32m     13\u001b[0m \u001b[0;34m\u001b[0m\u001b[0m\n\u001b[1;32m     14\u001b[0m \u001b[0mmodel\u001b[0m\u001b[0;34m.\u001b[0m\u001b[0mcompile\u001b[0m\u001b[0;34m(\u001b[0m\u001b[0mloss\u001b[0m\u001b[0;34m=\u001b[0m\u001b[0;34m'categorical_crossentropy'\u001b[0m\u001b[0;34m,\u001b[0m \u001b[0moptimizer\u001b[0m\u001b[0;34m=\u001b[0m\u001b[0mtf\u001b[0m\u001b[0;34m.\u001b[0m\u001b[0mkeras\u001b[0m\u001b[0;34m.\u001b[0m\u001b[0moptimizers\u001b[0m\u001b[0;34m.\u001b[0m\u001b[0mSGD\u001b[0m\u001b[0;34m(\u001b[0m\u001b[0mlr\u001b[0m\u001b[0;34m=\u001b[0m\u001b[0mconfig\u001b[0m\u001b[0;34m.\u001b[0m\u001b[0mlearn_rate_low\u001b[0m\u001b[0;34m)\u001b[0m\u001b[0;34m,\u001b[0m \u001b[0mmetrics\u001b[0m\u001b[0;34m=\u001b[0m\u001b[0;34m[\u001b[0m\u001b[0;34m'accuracy'\u001b[0m\u001b[0;34m]\u001b[0m\u001b[0;34m)\u001b[0m\u001b[0;34m\u001b[0m\u001b[0m\n\u001b[0;32m---> 15\u001b[0;31m model.fit(X_train, y_train, verbose=0, validation_data=(X_valid, y_valid), epochs=config.n_epochs,\n\u001b[0m\u001b[1;32m     16\u001b[0m         callbacks=[WandbCallback(data_type=\"image\", validation_data=(X_valid, y_valid), labels=labels)])\n",
      "\u001b[0;31mNameError\u001b[0m: name 'X_train' is not defined"
     ]
    }
   ],
   "source": [
    "%%wandb\n",
    "# build model\n",
    "model = tf.keras.Sequential()\n",
    "model.add(tf.keras.layers.Conv2D(config.conv_layer_1_size, kernel_size=(config.kernel_size, config.kernel_size), activation='relu', input_shape=(config.img_width, config.img_height, 1)))\n",
    "model.add(tf.keras.layers.Conv2D(config.conv_layer_1_size, kernel_size=(config.kernel_size, config.kernel_size), activation='relu'))\n",
    "model.add(tf.keras.layers.MaxPooling2D((config.pool_size, config.pool_size)))\n",
    "model.add(tf.keras.layers.Conv2D(config.conv_layer_2_size, kernel_size=(config.kernel_size, config.kernel_size), activation='relu'))\n",
    "model.add(tf.keras.layers.Conv2D(config.conv_layer_2_size, kernel_size=(config.kernel_size, config.kernel_size), activation='relu'))\n",
    "model.add(tf.keras.layers.MaxPooling2D(pool_size=(config.pool_size, config.pool_size)))\n",
    "model.add(tf.keras.layers.Conv2D(config.conv_layer_3_size, (config.kernel_size, config.kernel_size), activation='relu'))\n",
    "model.add(tf.keras.layers.Flatten())\n",
    "model.add(tf.keras.layers.Dense(config.hidden_layer_size, activation='relu'))\n",
    "model.add(tf.keras.layers.Dense(config.num_classes, activation='softmax'))\n",
    "\n",
    "model.compile(loss='categorical_crossentropy', optimizer=tf.keras.optimizers.SGD(lr=config.learn_rate_low), metrics=['accuracy'])\n",
    "model.fit(X_train, y_train, verbose=0, validation_data=(X_valid, y_valid), epochs=config.n_epochs,\n",
    "        callbacks=[WandbCallback(data_type=\"image\", validation_data=(X_valid, y_valid), labels=labels)])"
   ]
  },
  {
   "cell_type": "markdown",
   "metadata": {},
   "source": [
    "# Momentum\n",
    "![](https://paper-attachments.dropbox.com/s_39292DB9CE2A9400103E176C2ABC438C6A626910E9DBB0D6FBE28EE673C7492C_1565307746069_image.png)\n",
    "\n",
    "Gradient Descent takes tiny, consistent steps towards the local minima and when the gradients are tiny it can take a lot of time to converge. Momentum on the other hand takes into account the previous gradients, and accelerates convergence by pushing over valleys faster and avoiding local minima.\n",
    "    \n",
    "In general you want your momentum value to be very close to one. 0.9 is a good place to start for smaller datasets, and you want to move progressively closer to one (0.999) the larger your dataset gets. (Setting nesterov=True lets momentum take into account the gradient of the cost function a few steps ahead of the current point, which makes it slightly more accurate and faster.)"
   ]
  },
  {
   "cell_type": "code",
   "execution_count": 11,
   "metadata": {
    "_kg_hide-output": false
   },
   "outputs": [
    {
     "data": {
      "text/html": [
       "\n",
       "                Logging results to <a href=\"https://wandb.com\" target=\"_blank\">Weights & Biases</a> <a href=\"https://docs.wandb.com/integrations/jupyter.html\" target=\"_blank\">(Documentation)</a>.<br/>\n",
       "                Project page: <a href=\"https://app.wandb.ai/anony-mouse-22574/building-neural-nets?apiKey=d380db39032b322bb131f39a0d30e0f2bfb6f899\" target=\"_blank\">https://app.wandb.ai/anony-mouse-22574/building-neural-nets?apiKey=d380db39032b322bb131f39a0d30e0f2bfb6f899</a><br/>\n",
       "                Run page: <a href=\"https://app.wandb.ai/anony-mouse-22574/building-neural-nets/runs/9y6q29fk?apiKey=d380db39032b322bb131f39a0d30e0f2bfb6f899\" target=\"_blank\">https://app.wandb.ai/anony-mouse-22574/building-neural-nets/runs/9y6q29fk?apiKey=d380db39032b322bb131f39a0d30e0f2bfb6f899</a><br/>\n",
       "            "
      ],
      "text/plain": [
       "<IPython.core.display.HTML object>"
      ]
     },
     "metadata": {},
     "output_type": "display_data"
    },
    {
     "data": {
      "text/plain": [
       "W&B Run: https://app.wandb.ai/anony-mouse-22574/building-neural-nets/runs/9y6q29fk?apiKey=d380db39032b322bb131f39a0d30e0f2bfb6f899"
      ]
     },
     "execution_count": 11,
     "metadata": {},
     "output_type": "execute_result"
    }
   ],
   "source": [
    "wandb.init(anonymous='allow', project=\"building-neural-nets\", name=\"momentum\")"
   ]
  },
  {
   "cell_type": "code",
   "execution_count": 12,
   "metadata": {
    "_kg_hide-output": false
   },
   "outputs": [
    {
     "data": {
      "text/html": [
       "<iframe src=\"https://app.wandb.ai/anony-mouse-22574/building-neural-nets/runs/9y6q29fk?jupyter=true&state=paused&apiKey=d380db39032b322bb131f39a0d30e0f2bfb6f899\" style=\"border:none;width:100%;height:420px\">\n",
       "                </iframe>"
      ],
      "text/plain": [
       "<wandb.jupyter.Run at 0x7fbf1ed9fc18>"
      ]
     },
     "metadata": {},
     "output_type": "display_data"
    },
    {
     "ename": "NameError",
     "evalue": "name 'X_train' is not defined",
     "output_type": "error",
     "traceback": [
      "\u001b[0;31m---------------------------------------------------------------------------\u001b[0m",
      "\u001b[0;31mNameError\u001b[0m                                 Traceback (most recent call last)",
      "\u001b[0;32m<ipython-input-12-cb9a0dd5ce22>\u001b[0m in \u001b[0;36m<module>\u001b[0;34m\u001b[0m\n\u001b[1;32m     14\u001b[0m model.compile(loss='categorical_crossentropy', optimizer=tf.keras.optimizers.SGD(lr=config.learn_rate_low, decay=config.decay, momentum=config.momentum,\n\u001b[1;32m     15\u001b[0m                             nesterov=True), metrics=['accuracy'])\n\u001b[0;32m---> 16\u001b[0;31m model.fit(X_train, y_train, verbose=0, validation_data=(X_valid, y_valid), epochs=config.n_epochs,\n\u001b[0m\u001b[1;32m     17\u001b[0m         callbacks=[WandbCallback(data_type=\"image\", validation_data=(X_valid, y_valid), labels=labels)])\n",
      "\u001b[0;31mNameError\u001b[0m: name 'X_train' is not defined"
     ]
    }
   ],
   "source": [
    "%%wandb\n",
    "# build model\n",
    "model = tf.keras.Sequential()\n",
    "model.add(tf.keras.layers.Conv2D(config.conv_layer_1_size, kernel_size=(config.kernel_size, config.kernel_size), activation='relu', input_shape=(config.img_width, config.img_height, 1)))\n",
    "model.add(tf.keras.layers.Conv2D(config.conv_layer_1_size, kernel_size=(config.kernel_size, config.kernel_size), activation='relu'))\n",
    "model.add(tf.keras.layers.MaxPooling2D((config.pool_size, config.pool_size)))\n",
    "model.add(tf.keras.layers.Conv2D(config.conv_layer_2_size, kernel_size=(config.kernel_size, config.kernel_size), activation='relu'))\n",
    "model.add(tf.keras.layers.Conv2D(config.conv_layer_2_size, kernel_size=(config.kernel_size, config.kernel_size), activation='relu'))\n",
    "model.add(tf.keras.layers.MaxPooling2D(pool_size=(config.pool_size, config.pool_size)))\n",
    "model.add(tf.keras.layers.Conv2D(config.conv_layer_3_size, (config.kernel_size, config.kernel_size), activation='relu'))\n",
    "model.add(tf.keras.layers.Flatten())\n",
    "model.add(tf.keras.layers.Dense(config.hidden_layer_size, activation='relu'))\n",
    "model.add(tf.keras.layers.Dense(config.num_classes, activation='softmax'))\n",
    "\n",
    "model.compile(loss='categorical_crossentropy', optimizer=tf.keras.optimizers.SGD(lr=config.learn_rate_low, decay=config.decay, momentum=config.momentum,\n",
    "                            nesterov=True), metrics=['accuracy'])\n",
    "model.fit(X_train, y_train, verbose=0, validation_data=(X_valid, y_valid), epochs=config.n_epochs,\n",
    "        callbacks=[WandbCallback(data_type=\"image\", validation_data=(X_valid, y_valid), labels=labels)])"
   ]
  },
  {
   "cell_type": "markdown",
   "metadata": {},
   "source": [
    "# Vanishing + Exploding Gradients\n",
    "\n",
    "![](https://paper-attachments.dropbox.com/s_39292DB9CE2A9400103E176C2ABC438C6A626910E9DBB0D6FBE28EE673C7492C_1565308012033_vanishing_gradients.gif)\n",
    "\n",
    "Just like people, not all neural network layers learn at the same speed. So when the backprop algorithm propagates the error gradient from the output layer to the first layers, the gradients get smaller and smaller until they're almost negligible when they reach the first layers. This means the weights of the first layers aren't updated significantly at each step.\n",
    "    \n",
    "This is the problem of vanishing gradients. (A similar problem of exploding gradients occurs when the gradients for certain layers get progressively larger, leading to massive weight updates for some layers as opposed to the others.)\n",
    "    \n",
    "There are a few ways to counteract vanishing gradients. Let's take a look at them now!\n",
    "    \n",
    "**1. Activation functions (non-saturating functions)**\n",
    "- **Hidden Layer Activation**\n",
    "    In general, the performance from using different [activation functions](https://isaacchanghau.github.io/post/activation_functions/) improves in this order (from lowest→highest performing): logistic → tanh → ReLU → Leaky ReLU → ELU → SELU. ReLU is the most popular activation function and if you don't want to tweak your activation function, ReLU is a great place to start. But, keep in mind ReLU is becoming increasingly less effective than [ELU](https://arxiv.org/pdf/1511.07289.pdf) or [GELU](https://arxiv.org/pdf/1606.08415.pdf). If you’re feeling more adventurous, you can try the following:\n",
    "    - to combat neural network overfitting: RReLU\n",
    "    - reduce latency at runtime: leaky ReLU\n",
    "    - for massive training sets: PReLU\n",
    "    - for fast inference times: leaky ReLU\n",
    "    - if your network doesn't self-normalize: ELU\n",
    "    - for an overall robust activation function: SELU\n",
    "    \n",
    "    [This](https://arxiv.org/pdf/1811.03378.pdf) is an excellent paper that dives deeper into the comparison of various activation functions for neural networks.\n",
    "\n",
    "    As always, don't be afraid to experiment with a few different activation functions, and turn to your Weights and Biases dashboard to help you pick the one that works best for you!    \n",
    "\n",
    "- **Output Layer Activation**\n",
    "    - **Regression:** Regression problems don't require activation functions for their output neurons because we want the output to take on any value. In cases where we want out values to be bounded into a certain range, we can use tanh for -1→1 values and logistic function for 0→1 values. In cases where we're only looking for positive output, we can use softplus activation.\n",
    "\n",
    "    - **Classification:** Use the sigmoid activation function for binary classification to ensure the output is between 0 and 1. Use softmax for multi-class classification to ensure the output probabilities add up to 1.\n",
    "            \n",
    "            \n",
    "**2. Weight initialization method**\n",
    "    The right weight initialization method can speed up time-to-convergence considerably. The choice of your initialization method depends on your activation function. Some things to try:\n",
    "- When using ReLU or leaky RELU, use [He initialization](https://arxiv.org/pdf/1502.01852.pdf)\n",
    "- When using SELU or ELU, use [LeCun initialization](http://yann.lecun.com/exdb/publis/pdf/lecun-98b.pdf)\n",
    "- When using softmax, logistic, or tanh, use [Glorot initialization](http://proceedings.mlr.press/v9/glorot10a/glorot10a.pdf)\n",
    "\n",
    "Most initialization methods come in uniform and normal distribution flavors.\n",
    "        \n",
    "        \n",
    "**3. BatchNorm**\n",
    "BatchNorm simply learns the optimal means and scales of each layer's inputs. It does so by zero-centering and normalizing its input vectors, then scaling and shifting them. It also acts like a regularizer which means we don't need dropout or L2 reg.\n",
    "\n",
    "Using BatchNorm lets us use larger learning rates (which result in faster convergence) and lead to huge improvements in most neural networks by reducing the vanishing gradients problem. The only downside is that it slightly increases training times because of the extra computations required at each layer.\n",
    "        \n",
    "        \n",
    "**4. Gradient Clipping**\n",
    "A great way to reduce gradients from exploding, specially when training RNNs, is to simply clip them when they exceed a certain value. I'd recommend trying clipnorm instead of clipvalue, which allows you to keep the direction of your gradient vector consistent. Clipnorm contains any gradients who's l2 norm is greater than a certain threshold.\n",
    "\n",
    "Try a few different threshold values to find one that works best for you.\n",
    "        \n",
    "        \n",
    "**5. Early Stopping**\n",
    "Early Stopping lets you live it up by training a model with more hidden layers, hidden neurons and for more epochs than you need, and just stopping training when performance stops improving consecutively for n epochs. It also saves the best performing model for you. You can enable Early Stopping by setting up a callback when you fit your model and setting `save_best_only=True`."
   ]
  },
  {
   "cell_type": "code",
   "execution_count": 13,
   "metadata": {
    "_kg_hide-output": false
   },
   "outputs": [
    {
     "data": {
      "text/html": [
       "\n",
       "                Logging results to <a href=\"https://wandb.com\" target=\"_blank\">Weights & Biases</a> <a href=\"https://docs.wandb.com/integrations/jupyter.html\" target=\"_blank\">(Documentation)</a>.<br/>\n",
       "                Project page: <a href=\"https://app.wandb.ai/anony-mouse-22574/building-neural-nets?apiKey=d380db39032b322bb131f39a0d30e0f2bfb6f899\" target=\"_blank\">https://app.wandb.ai/anony-mouse-22574/building-neural-nets?apiKey=d380db39032b322bb131f39a0d30e0f2bfb6f899</a><br/>\n",
       "                Run page: <a href=\"https://app.wandb.ai/anony-mouse-22574/building-neural-nets/runs/akfwszdb?apiKey=d380db39032b322bb131f39a0d30e0f2bfb6f899\" target=\"_blank\">https://app.wandb.ai/anony-mouse-22574/building-neural-nets/runs/akfwszdb?apiKey=d380db39032b322bb131f39a0d30e0f2bfb6f899</a><br/>\n",
       "            "
      ],
      "text/plain": [
       "<IPython.core.display.HTML object>"
      ]
     },
     "metadata": {},
     "output_type": "display_data"
    },
    {
     "data": {
      "text/plain": [
       "W&B Run: https://app.wandb.ai/anony-mouse-22574/building-neural-nets/runs/akfwszdb?apiKey=d380db39032b322bb131f39a0d30e0f2bfb6f899"
      ]
     },
     "execution_count": 13,
     "metadata": {},
     "output_type": "execute_result"
    }
   ],
   "source": [
    "wandb.init(anonymous='allow', project=\"building-neural-nets\", name=\"vanishing_gradients\")"
   ]
  },
  {
   "cell_type": "code",
   "execution_count": 14,
   "metadata": {
    "_kg_hide-output": false
   },
   "outputs": [
    {
     "data": {
      "text/html": [
       "<iframe src=\"https://app.wandb.ai/anony-mouse-22574/building-neural-nets/runs/akfwszdb?jupyter=true&state=paused&apiKey=d380db39032b322bb131f39a0d30e0f2bfb6f899\" style=\"border:none;width:100%;height:420px\">\n",
       "                </iframe>"
      ],
      "text/plain": [
       "<wandb.jupyter.Run at 0x7fbf1efb82b0>"
      ]
     },
     "metadata": {},
     "output_type": "display_data"
    },
    {
     "ename": "NameError",
     "evalue": "name 'X_train' is not defined",
     "output_type": "error",
     "traceback": [
      "\u001b[0;31m---------------------------------------------------------------------------\u001b[0m",
      "\u001b[0;31mNameError\u001b[0m                                 Traceback (most recent call last)",
      "\u001b[0;32m<ipython-input-14-512572ec74fe>\u001b[0m in \u001b[0;36m<module>\u001b[0;34m\u001b[0m\n\u001b[1;32m     20\u001b[0m model.compile(loss='categorical_crossentropy', optimizer=tf.keras.optimizers.SGD(lr=config.learn_rate, clipnorm=1.0),\n\u001b[1;32m     21\u001b[0m               metrics=['accuracy'])\n\u001b[0;32m---> 22\u001b[0;31m model.fit(X_train, y_train, verbose=0, validation_data=(X_test, y_test), epochs=config.n_epochs,\n\u001b[0m\u001b[1;32m     23\u001b[0m           callbacks=[WandbCallback(data_type=\"image\", validation_data=(X_valid, y_valid), labels=labels), tf.keras.callbacks.EarlyStopping(patience=10, restore_best_weights=True)])\n",
      "\u001b[0;31mNameError\u001b[0m: name 'X_train' is not defined"
     ]
    }
   ],
   "source": [
    "%%wandb\n",
    "# build model\n",
    "model = tf.keras.Sequential()\n",
    "model.add(tf.keras.layers.Conv2D(config.conv_layer_1_size, kernel_size=(config.kernel_size, config.kernel_size), activation='selu', kernel_initializer='lecun_normal',\n",
    "                 input_shape=(config.img_width, config.img_height, 1)))\n",
    "tf.keras.layers.BatchNormalization(),\n",
    "model.add(tf.keras.layers.Conv2D(config.conv_layer_1_size, kernel_size=(config.kernel_size, config.kernel_size), activation='selu', kernel_initializer='lecun_normal'))\n",
    "tf.keras.layers.BatchNormalization(),\n",
    "model.add(tf.keras.layers.MaxPooling2D((config.pool_size, config.pool_size)))\n",
    "model.add(tf.keras.layers.Conv2D(config.conv_layer_2_size, kernel_size=(config.kernel_size, config.kernel_size), activation='selu', kernel_initializer='lecun_normal'))\n",
    "tf.keras.layers.BatchNormalization(),\n",
    "model.add(tf.keras.layers.Conv2D(config.conv_layer_2_size, kernel_size=(config.kernel_size, config.kernel_size), activation='selu', kernel_initializer='lecun_normal'))\n",
    "tf.keras.layers.BatchNormalization(),\n",
    "model.add(tf.keras.layers.MaxPooling2D(pool_size=(config.pool_size, config.pool_size)))\n",
    "model.add(tf.keras.layers.Conv2D(config.conv_layer_3_size, (config.kernel_size, config.kernel_size), activation='selu', kernel_initializer='lecun_normal'))\n",
    "model.add(tf.keras.layers.Flatten())\n",
    "model.add(tf.keras.layers.Dense(config.hidden_layer_size, activation='selu', kernel_initializer='lecun_normal'))\n",
    "tf.keras.layers.BatchNormalization(),\n",
    "model.add(tf.keras.layers.Dense(config.num_classes, activation='softmax'))\n",
    "\n",
    "model.compile(loss='categorical_crossentropy', optimizer=tf.keras.optimizers.SGD(lr=config.learn_rate, clipnorm=1.0),\n",
    "              metrics=['accuracy'])\n",
    "model.fit(X_train, y_train, verbose=0, validation_data=(X_test, y_test), epochs=config.n_epochs,\n",
    "          callbacks=[WandbCallback(data_type=\"image\", validation_data=(X_valid, y_valid), labels=labels), tf.keras.callbacks.EarlyStopping(patience=10, restore_best_weights=True)])"
   ]
  },
  {
   "cell_type": "markdown",
   "metadata": {},
   "source": [
    "# Dropout\n",
    "\n",
    "Dropout is a fantastic regularization technique that gives you a massive performance boost (~2% for state-of-the-art models) for how simple the technique actually is. All dropout does is randomly turn off a percentage of neurons at each layer, at each training step. This makes the network more robust because it can't rely on any particular set of input neurons for making predictions. The knowledge is distributed amongst the whole network. Around 2^n (where n is the number of neurons in the architecture) slightly-unique neural networks are generated during the training process, and ensembled together to make predictions.\n",
    "\n",
    "A good dropout rate is between 0.1 to 0.5; 0.3 for RNNs, and 0.5 for CNNs. Use larger rates for bigger layers. Increasing the dropout rate decreases overfitting, and decreasing the rate is helpful to combat under-fitting.\n",
    "\n",
    "You want to experiment with different rates of dropout values, in earlier layers of your network, and check your Weights and Biases dashboard to pick the best performing one. You definitely don’t want to use dropout in the output layers.\n",
    "\n",
    "Read [this paper](https://arxiv.org/abs/1801.05134) before using Dropout in conjunction with BatchNorm.\n",
    "\n",
    "In this kernel I used AlphaDropout, a flavor of the vanilla dropout that works well with SELU activation functions by preserving the input's mean and standard deviations."
   ]
  },
  {
   "cell_type": "code",
   "execution_count": 15,
   "metadata": {
    "_kg_hide-output": false
   },
   "outputs": [
    {
     "data": {
      "text/html": [
       "\n",
       "                Logging results to <a href=\"https://wandb.com\" target=\"_blank\">Weights & Biases</a> <a href=\"https://docs.wandb.com/integrations/jupyter.html\" target=\"_blank\">(Documentation)</a>.<br/>\n",
       "                Project page: <a href=\"https://app.wandb.ai/anony-mouse-22574/building-neural-nets?apiKey=d380db39032b322bb131f39a0d30e0f2bfb6f899\" target=\"_blank\">https://app.wandb.ai/anony-mouse-22574/building-neural-nets?apiKey=d380db39032b322bb131f39a0d30e0f2bfb6f899</a><br/>\n",
       "                Run page: <a href=\"https://app.wandb.ai/anony-mouse-22574/building-neural-nets/runs/javxlfeh?apiKey=d380db39032b322bb131f39a0d30e0f2bfb6f899\" target=\"_blank\">https://app.wandb.ai/anony-mouse-22574/building-neural-nets/runs/javxlfeh?apiKey=d380db39032b322bb131f39a0d30e0f2bfb6f899</a><br/>\n",
       "            "
      ],
      "text/plain": [
       "<IPython.core.display.HTML object>"
      ]
     },
     "metadata": {},
     "output_type": "display_data"
    },
    {
     "data": {
      "text/plain": [
       "W&B Run: https://app.wandb.ai/anony-mouse-22574/building-neural-nets/runs/javxlfeh?apiKey=d380db39032b322bb131f39a0d30e0f2bfb6f899"
      ]
     },
     "execution_count": 15,
     "metadata": {},
     "output_type": "execute_result"
    }
   ],
   "source": [
    "wandb.init(anonymous='allow', project=\"building-neural-nets\", name=\"dropout\")"
   ]
  },
  {
   "cell_type": "code",
   "execution_count": 16,
   "metadata": {
    "_kg_hide-output": false
   },
   "outputs": [
    {
     "data": {
      "text/html": [
       "<iframe src=\"https://app.wandb.ai/anony-mouse-22574/building-neural-nets/runs/javxlfeh?jupyter=true&state=paused&apiKey=d380db39032b322bb131f39a0d30e0f2bfb6f899\" style=\"border:none;width:100%;height:420px\">\n",
       "                </iframe>"
      ],
      "text/plain": [
       "<wandb.jupyter.Run at 0x7fbf1c49d668>"
      ]
     },
     "metadata": {},
     "output_type": "display_data"
    },
    {
     "ename": "NameError",
     "evalue": "name 'X_train' is not defined",
     "output_type": "error",
     "traceback": [
      "\u001b[0;31m---------------------------------------------------------------------------\u001b[0m",
      "\u001b[0;31mNameError\u001b[0m                                 Traceback (most recent call last)",
      "\u001b[0;32m<ipython-input-16-f5f45f063e2a>\u001b[0m in \u001b[0;36m<module>\u001b[0;34m\u001b[0m\n\u001b[1;32m     24\u001b[0m model.compile(loss='categorical_crossentropy', optimizer=tf.keras.optimizers.SGD(lr=config.learn_rate, clipnorm=1.0),\n\u001b[1;32m     25\u001b[0m               metrics=['accuracy'])\n\u001b[0;32m---> 26\u001b[0;31m model.fit(X_train, y_train, verbose=0, validation_data=(X_test, y_test), epochs=config.n_epochs,\n\u001b[0m\u001b[1;32m     27\u001b[0m           callbacks=[WandbCallback(data_type=\"image\", validation_data=(X_valid, y_valid), labels=labels), tf.keras.callbacks.EarlyStopping(patience=10, restore_best_weights=True)])\n",
      "\u001b[0;31mNameError\u001b[0m: name 'X_train' is not defined"
     ]
    }
   ],
   "source": [
    "%%wandb\n",
    "# build model\n",
    "model = tf.keras.Sequential()\n",
    "model.add(tf.keras.layers.Conv2D(config.conv_layer_1_size, kernel_size=(config.kernel_size, config.kernel_size), activation='selu', kernel_initializer='lecun_normal',\n",
    "                 input_shape=(config.img_width, config.img_height, 1)))\n",
    "tf.keras.layers.BatchNormalization(),\n",
    "model.add(tf.keras.layers.Conv2D(config.conv_layer_1_size, kernel_size=(config.kernel_size, config.kernel_size), activation='selu', kernel_initializer='lecun_normal'))\n",
    "tf.keras.layers.BatchNormalization(),\n",
    "model.add(tf.keras.layers.MaxPooling2D((config.pool_size, config.pool_size)))\n",
    "tf.keras.layers.AlphaDropout(rate=config.dropout),\n",
    "model.add(tf.keras.layers.Conv2D(config.conv_layer_2_size, kernel_size=(config.kernel_size, config.kernel_size), activation='selu', kernel_initializer='lecun_normal'))\n",
    "tf.keras.layers.BatchNormalization(),\n",
    "model.add(tf.keras.layers.Conv2D(config.conv_layer_2_size, kernel_size=(config.kernel_size, config.kernel_size), activation='selu', kernel_initializer='lecun_normal'))\n",
    "tf.keras.layers.BatchNormalization(),\n",
    "model.add(tf.keras.layers.MaxPooling2D(pool_size=(config.pool_size, config.pool_size)))\n",
    "tf.keras.layers.AlphaDropout(rate=config.dropout),\n",
    "model.add(tf.keras.layers.Conv2D(config.conv_layer_3_size, (config.kernel_size, config.kernel_size), activation='selu', kernel_initializer='lecun_normal'))\n",
    "tf.keras.layers.AlphaDropout(rate=config.dropout),\n",
    "model.add(tf.keras.layers.Flatten())\n",
    "model.add(tf.keras.layers.Dense(config.hidden_layer_size, activation='selu', kernel_initializer='lecun_normal'))\n",
    "tf.keras.layers.BatchNormalization(),\n",
    "tf.keras.layers.AlphaDropout(rate=config.dropout),\n",
    "model.add(tf.keras.layers.Dense(config.num_classes, activation='softmax'))\n",
    "\n",
    "model.compile(loss='categorical_crossentropy', optimizer=tf.keras.optimizers.SGD(lr=config.learn_rate, clipnorm=1.0),\n",
    "              metrics=['accuracy'])\n",
    "model.fit(X_train, y_train, verbose=0, validation_data=(X_test, y_test), epochs=config.n_epochs,\n",
    "          callbacks=[WandbCallback(data_type=\"image\", validation_data=(X_valid, y_valid), labels=labels), tf.keras.callbacks.EarlyStopping(patience=10, restore_best_weights=True)])"
   ]
  },
  {
   "cell_type": "markdown",
   "metadata": {},
   "source": [
    "# Optimizers\n",
    "\n",
    "\n",
    "Gradient Descent isn't the only optimizer game in town! There's a few different ones to choose from. This post does a good job of describing some of the optimizers you can choose from.\n",
    "![](https://paper-attachments.dropbox.com/s_39292DB9CE2A9400103E176C2ABC438C6A626910E9DBB0D6FBE28EE673C7492C_1565307886324_optimization_algorithms.gif)\n",
    "\n",
    "My general advice is to use Stochastic Gradient Descent if you care deeply about quality of convergence and if time is not of the essence.\n",
    "\n",
    "If you care about time-to-convergence and a point close to optimal convergence will suffice, experiment with Adam, Nadam, RMSProp, and Adamax optimizers. You Weights and Biases dashboard will guide you to the optimizer that works best for you!\n",
    "\n",
    "Adam/Nadam are usually good starting points, and tend to be quite forgiving to a bad learning late and other non-optimal hyperparameters.\n",
    "\n",
    "[According to Andrej Karpathy](http://karpathy.github.io/2019/04/25/recipe/), \"a well-tuned SGD will almost always slightly outperform Adam\" in the case of ConvNets.\n",
    "\n",
    "In this kernel, I got the best performance from Nadam, which is just your regular Adam optimizer with the Nesterov trick, and thus converges faster than Adam."
   ]
  },
  {
   "cell_type": "code",
   "execution_count": 17,
   "metadata": {
    "_kg_hide-output": false
   },
   "outputs": [
    {
     "data": {
      "text/html": [
       "\n",
       "                Logging results to <a href=\"https://wandb.com\" target=\"_blank\">Weights & Biases</a> <a href=\"https://docs.wandb.com/integrations/jupyter.html\" target=\"_blank\">(Documentation)</a>.<br/>\n",
       "                Project page: <a href=\"https://app.wandb.ai/anony-mouse-22574/building-neural-nets?apiKey=d380db39032b322bb131f39a0d30e0f2bfb6f899\" target=\"_blank\">https://app.wandb.ai/anony-mouse-22574/building-neural-nets?apiKey=d380db39032b322bb131f39a0d30e0f2bfb6f899</a><br/>\n",
       "                Run page: <a href=\"https://app.wandb.ai/anony-mouse-22574/building-neural-nets/runs/q3u2j9me?apiKey=d380db39032b322bb131f39a0d30e0f2bfb6f899\" target=\"_blank\">https://app.wandb.ai/anony-mouse-22574/building-neural-nets/runs/q3u2j9me?apiKey=d380db39032b322bb131f39a0d30e0f2bfb6f899</a><br/>\n",
       "            "
      ],
      "text/plain": [
       "<IPython.core.display.HTML object>"
      ]
     },
     "metadata": {},
     "output_type": "display_data"
    },
    {
     "data": {
      "text/plain": [
       "W&B Run: https://app.wandb.ai/anony-mouse-22574/building-neural-nets/runs/q3u2j9me?apiKey=d380db39032b322bb131f39a0d30e0f2bfb6f899"
      ]
     },
     "execution_count": 17,
     "metadata": {},
     "output_type": "execute_result"
    }
   ],
   "source": [
    "wandb.init(anonymous='allow', project=\"building-neural-nets\", name=\"nadam_optimizer\")"
   ]
  },
  {
   "cell_type": "code",
   "execution_count": 18,
   "metadata": {
    "_kg_hide-output": false
   },
   "outputs": [
    {
     "data": {
      "text/html": [
       "<iframe src=\"https://app.wandb.ai/anony-mouse-22574/building-neural-nets/runs/q3u2j9me?jupyter=true&state=paused&apiKey=d380db39032b322bb131f39a0d30e0f2bfb6f899\" style=\"border:none;width:100%;height:420px\">\n",
       "                </iframe>"
      ],
      "text/plain": [
       "<wandb.jupyter.Run at 0x7fbf1e84bcf8>"
      ]
     },
     "metadata": {},
     "output_type": "display_data"
    },
    {
     "ename": "NameError",
     "evalue": "name 'X_train' is not defined",
     "output_type": "error",
     "traceback": [
      "\u001b[0;31m---------------------------------------------------------------------------\u001b[0m",
      "\u001b[0;31mNameError\u001b[0m                                 Traceback (most recent call last)",
      "\u001b[0;32m<ipython-input-18-dd535cb01b7b>\u001b[0m in \u001b[0;36m<module>\u001b[0;34m\u001b[0m\n\u001b[1;32m     23\u001b[0m \u001b[0;34m\u001b[0m\u001b[0m\n\u001b[1;32m     24\u001b[0m \u001b[0mmodel\u001b[0m\u001b[0;34m.\u001b[0m\u001b[0mcompile\u001b[0m\u001b[0;34m(\u001b[0m\u001b[0mloss\u001b[0m\u001b[0;34m=\u001b[0m\u001b[0;34m'categorical_crossentropy'\u001b[0m\u001b[0;34m,\u001b[0m \u001b[0moptimizer\u001b[0m\u001b[0;34m=\u001b[0m\u001b[0mtf\u001b[0m\u001b[0;34m.\u001b[0m\u001b[0mkeras\u001b[0m\u001b[0;34m.\u001b[0m\u001b[0moptimizers\u001b[0m\u001b[0;34m.\u001b[0m\u001b[0mNadam\u001b[0m\u001b[0;34m(\u001b[0m\u001b[0mlr\u001b[0m\u001b[0;34m=\u001b[0m\u001b[0mconfig\u001b[0m\u001b[0;34m.\u001b[0m\u001b[0mlearn_rate\u001b[0m\u001b[0;34m,\u001b[0m \u001b[0mbeta_1\u001b[0m\u001b[0;34m=\u001b[0m\u001b[0;36m0.9\u001b[0m\u001b[0;34m,\u001b[0m \u001b[0mbeta_2\u001b[0m\u001b[0;34m=\u001b[0m\u001b[0;36m0.999\u001b[0m\u001b[0;34m,\u001b[0m \u001b[0mclipnorm\u001b[0m\u001b[0;34m=\u001b[0m\u001b[0;36m1.0\u001b[0m\u001b[0;34m)\u001b[0m\u001b[0;34m,\u001b[0m \u001b[0mmetrics\u001b[0m\u001b[0;34m=\u001b[0m\u001b[0;34m[\u001b[0m\u001b[0;34m'accuracy'\u001b[0m\u001b[0;34m]\u001b[0m\u001b[0;34m)\u001b[0m\u001b[0;34m\u001b[0m\u001b[0m\n\u001b[0;32m---> 25\u001b[0;31m model.fit(X_train, y_train, verbose=0, validation_data=(X_test, y_test), epochs=config.n_epochs,\n\u001b[0m\u001b[1;32m     26\u001b[0m     callbacks=[WandbCallback(data_type=\"image\", labels=labels, validation_data=(X_valid, y_valid)), tf.keras.callbacks.EarlyStopping(patience=10, restore_best_weights=True)])\n",
      "\u001b[0;31mNameError\u001b[0m: name 'X_train' is not defined"
     ]
    }
   ],
   "source": [
    "%%wandb\n",
    "# build model\n",
    "model = tf.keras.Sequential()\n",
    "model.add(tf.keras.layers.Conv2D(config.conv_layer_1_size, kernel_size=(config.kernel_size, config.kernel_size), activation='selu', kernel_initializer='lecun_normal',\n",
    "         input_shape=(config.img_width, config.img_height, 1)))\n",
    "tf.keras.layers.BatchNormalization(),\n",
    "model.add(tf.keras.layers.Conv2D(config.conv_layer_1_size, kernel_size=(config.kernel_size, config.kernel_size), activation='selu', kernel_initializer='lecun_normal'))\n",
    "tf.keras.layers.BatchNormalization(),\n",
    "model.add(tf.keras.layers.MaxPooling2D((config.pool_size, config.pool_size)))\n",
    "tf.keras.layers.AlphaDropout(rate=config.dropout),\n",
    "model.add(tf.keras.layers.Conv2D(config.conv_layer_2_size, kernel_size=(config.kernel_size, config.kernel_size), activation='selu', kernel_initializer='lecun_normal'))\n",
    "tf.keras.layers.BatchNormalization(),\n",
    "model.add(tf.keras.layers.Conv2D(config.conv_layer_2_size, kernel_size=(config.kernel_size, config.kernel_size), activation='selu', kernel_initializer='lecun_normal'))\n",
    "tf.keras.layers.BatchNormalization(),\n",
    "model.add(tf.keras.layers.MaxPooling2D(pool_size=(config.pool_size, config.pool_size)))\n",
    "tf.keras.layers.AlphaDropout(rate=config.dropout),\n",
    "model.add(tf.keras.layers.Conv2D(config.conv_layer_3_size, (config.kernel_size, config.kernel_size), activation='selu', kernel_initializer='lecun_normal'))\n",
    "tf.keras.layers.AlphaDropout(rate=config.dropout),\n",
    "model.add(tf.keras.layers.Flatten())\n",
    "model.add(tf.keras.layers.Dense(config.hidden_layer_size, activation='selu', kernel_initializer='lecun_normal'))\n",
    "tf.keras.layers.BatchNormalization(),\n",
    "tf.keras.layers.AlphaDropout(rate=config.dropout),\n",
    "model.add(tf.keras.layers.Dense(config.num_classes, activation='softmax'))\n",
    "\n",
    "model.compile(loss='categorical_crossentropy', optimizer=tf.keras.optimizers.Nadam(lr=config.learn_rate, beta_1=0.9, beta_2=0.999, clipnorm=1.0), metrics=['accuracy'])\n",
    "model.fit(X_train, y_train, verbose=0, validation_data=(X_test, y_test), epochs=config.n_epochs,\n",
    "    callbacks=[WandbCallback(data_type=\"image\", labels=labels, validation_data=(X_valid, y_valid)), tf.keras.callbacks.EarlyStopping(patience=10, restore_best_weights=True)])"
   ]
  },
  {
   "cell_type": "markdown",
   "metadata": {},
   "source": [
    "# Learning Rate Scheduling\n",
    "\n",
    "\n",
    "![](https://paper-attachments.dropbox.com/s_39292DB9CE2A9400103E176C2ABC438C6A626910E9DBB0D6FBE28EE673C7492C_1565307910210_image.png)\n",
    "\n",
    "We talked about the importance of a good learning rate already – we don't want it to be too high, lest the cost function dance around the optimum value and diverge. We also don't want it to be too low because that means convergence will take a very long time.\n",
    "\n",
    "Babysitting the learning rate can be tough because both higher and lower learning rates have their advantages. The great news is that we don't have to commit to one learning rate! With learning rate scheduling we can start with higher rates to move faster through gradient slopes, and slow it down when we reach a gradient valley in the hyper-parameter space which requires taking smaller steps.\n",
    "\n",
    "There are many ways to schedule learning rates including decreasing the learning rate exponentially, or by using a step function, or tweaking it when the performance starts dropping, or using 1cycle scheduling. In this kernel, I show you how to use the ReduceLROnPlateau callback to reduce the learning rate by a constant factor whenever the performance drops for n epochs.\n",
    "\n",
    "I would highly recommend also trying out 1cycle scheduling.\n",
    "\n",
    "Use a constant learning rate until you've trained all other hyper-parameters. And implement learning rate decay scheduling at the end.\n",
    "\n",
    "As with most things, I'd recommend running a few different experiments with different scheduling strategies and using your Weights and Biases dashboard to pick the one that leads to the best model."
   ]
  },
  {
   "cell_type": "code",
   "execution_count": 19,
   "metadata": {
    "_kg_hide-output": false
   },
   "outputs": [
    {
     "data": {
      "text/html": [
       "\n",
       "                Logging results to <a href=\"https://wandb.com\" target=\"_blank\">Weights & Biases</a> <a href=\"https://docs.wandb.com/integrations/jupyter.html\" target=\"_blank\">(Documentation)</a>.<br/>\n",
       "                Project page: <a href=\"https://app.wandb.ai/anony-mouse-22574/building-neural-nets?apiKey=d380db39032b322bb131f39a0d30e0f2bfb6f899\" target=\"_blank\">https://app.wandb.ai/anony-mouse-22574/building-neural-nets?apiKey=d380db39032b322bb131f39a0d30e0f2bfb6f899</a><br/>\n",
       "                Run page: <a href=\"https://app.wandb.ai/anony-mouse-22574/building-neural-nets/runs/ip3oroi9?apiKey=d380db39032b322bb131f39a0d30e0f2bfb6f899\" target=\"_blank\">https://app.wandb.ai/anony-mouse-22574/building-neural-nets/runs/ip3oroi9?apiKey=d380db39032b322bb131f39a0d30e0f2bfb6f899</a><br/>\n",
       "            "
      ],
      "text/plain": [
       "<IPython.core.display.HTML object>"
      ]
     },
     "metadata": {},
     "output_type": "display_data"
    },
    {
     "data": {
      "text/plain": [
       "W&B Run: https://app.wandb.ai/anony-mouse-22574/building-neural-nets/runs/ip3oroi9?apiKey=d380db39032b322bb131f39a0d30e0f2bfb6f899"
      ]
     },
     "execution_count": 19,
     "metadata": {},
     "output_type": "execute_result"
    }
   ],
   "source": [
    "wandb.init(anonymous='allow', project=\"building-neural-nets\", name=\"learningrate\")"
   ]
  },
  {
   "cell_type": "code",
   "execution_count": 20,
   "metadata": {
    "_kg_hide-output": false
   },
   "outputs": [
    {
     "data": {
      "text/html": [
       "<iframe src=\"https://app.wandb.ai/anony-mouse-22574/building-neural-nets/runs/ip3oroi9?jupyter=true&state=paused&apiKey=d380db39032b322bb131f39a0d30e0f2bfb6f899\" style=\"border:none;width:100%;height:420px\">\n",
       "                </iframe>"
      ],
      "text/plain": [
       "<wandb.jupyter.Run at 0x7fbf1c4a5c18>"
      ]
     },
     "metadata": {},
     "output_type": "display_data"
    },
    {
     "ename": "NameError",
     "evalue": "name 'X_train' is not defined",
     "output_type": "error",
     "traceback": [
      "\u001b[0;31m---------------------------------------------------------------------------\u001b[0m",
      "\u001b[0;31mNameError\u001b[0m                                 Traceback (most recent call last)",
      "\u001b[0;32m<ipython-input-20-df03f5565bb3>\u001b[0m in \u001b[0;36m<module>\u001b[0;34m\u001b[0m\n\u001b[1;32m     24\u001b[0m \u001b[0mlr_scheduler\u001b[0m \u001b[0;34m=\u001b[0m \u001b[0mtf\u001b[0m\u001b[0;34m.\u001b[0m\u001b[0mkeras\u001b[0m\u001b[0;34m.\u001b[0m\u001b[0mcallbacks\u001b[0m\u001b[0;34m.\u001b[0m\u001b[0mReduceLROnPlateau\u001b[0m\u001b[0;34m(\u001b[0m\u001b[0mfactor\u001b[0m\u001b[0;34m=\u001b[0m\u001b[0;36m0.5\u001b[0m\u001b[0;34m,\u001b[0m \u001b[0mpatience\u001b[0m\u001b[0;34m=\u001b[0m\u001b[0;36m5\u001b[0m\u001b[0;34m)\u001b[0m\u001b[0;34m\u001b[0m\u001b[0m\n\u001b[1;32m     25\u001b[0m \u001b[0mmodel\u001b[0m\u001b[0;34m.\u001b[0m\u001b[0mcompile\u001b[0m\u001b[0;34m(\u001b[0m\u001b[0mloss\u001b[0m\u001b[0;34m=\u001b[0m\u001b[0;34m'categorical_crossentropy'\u001b[0m\u001b[0;34m,\u001b[0m \u001b[0moptimizer\u001b[0m\u001b[0;34m=\u001b[0m\u001b[0mtf\u001b[0m\u001b[0;34m.\u001b[0m\u001b[0mkeras\u001b[0m\u001b[0;34m.\u001b[0m\u001b[0moptimizers\u001b[0m\u001b[0;34m.\u001b[0m\u001b[0mNadam\u001b[0m\u001b[0;34m(\u001b[0m\u001b[0mlr\u001b[0m\u001b[0;34m=\u001b[0m\u001b[0mconfig\u001b[0m\u001b[0;34m.\u001b[0m\u001b[0mlearn_rate\u001b[0m\u001b[0;34m,\u001b[0m \u001b[0mbeta_1\u001b[0m\u001b[0;34m=\u001b[0m\u001b[0;36m0.9\u001b[0m\u001b[0;34m,\u001b[0m \u001b[0mbeta_2\u001b[0m\u001b[0;34m=\u001b[0m\u001b[0;36m0.999\u001b[0m\u001b[0;34m,\u001b[0m \u001b[0mclipnorm\u001b[0m\u001b[0;34m=\u001b[0m\u001b[0;36m1.0\u001b[0m\u001b[0;34m)\u001b[0m\u001b[0;34m,\u001b[0m \u001b[0mmetrics\u001b[0m\u001b[0;34m=\u001b[0m\u001b[0;34m[\u001b[0m\u001b[0;34m'accuracy'\u001b[0m\u001b[0;34m]\u001b[0m\u001b[0;34m)\u001b[0m\u001b[0;34m\u001b[0m\u001b[0m\n\u001b[0;32m---> 26\u001b[0;31m model.fit(X_train, y_train, verbose=0, validation_data=(X_test, y_test), epochs=config.n_epochs,\n\u001b[0m\u001b[1;32m     27\u001b[0m     callbacks=[WandbCallback(data_type=\"image\", labels=labels, validation_data=(X_valid, y_valid)), tf.keras.callbacks.EarlyStopping(patience=10, restore_best_weights=True), lr_scheduler])\n",
      "\u001b[0;31mNameError\u001b[0m: name 'X_train' is not defined"
     ]
    }
   ],
   "source": [
    "%%wandb\n",
    "# build model\n",
    "model = tf.keras.Sequential()\n",
    "model.add(tf.keras.layers.Conv2D(config.conv_layer_1_size, kernel_size=(config.kernel_size, config.kernel_size), activation='selu', kernel_initializer='lecun_normal',\n",
    "         input_shape=(config.img_width, config.img_height, 1)))\n",
    "tf.keras.layers.BatchNormalization(),\n",
    "model.add(tf.keras.layers.Conv2D(config.conv_layer_1_size, kernel_size=(config.kernel_size, config.kernel_size), activation='selu', kernel_initializer='lecun_normal'))\n",
    "tf.keras.layers.BatchNormalization(),\n",
    "model.add(tf.keras.layers.MaxPooling2D((config.pool_size, config.pool_size)))\n",
    "tf.keras.layers.AlphaDropout(rate=config.dropout),\n",
    "model.add(tf.keras.layers.Conv2D(config.conv_layer_2_size, kernel_size=(config.kernel_size, config.kernel_size), activation='selu', kernel_initializer='lecun_normal'))\n",
    "tf.keras.layers.BatchNormalization(),\n",
    "model.add(tf.keras.layers.Conv2D(config.conv_layer_2_size, kernel_size=(config.kernel_size, config.kernel_size), activation='selu', kernel_initializer='lecun_normal'))\n",
    "tf.keras.layers.BatchNormalization(),\n",
    "model.add(tf.keras.layers.MaxPooling2D(pool_size=(config.pool_size, config.pool_size)))\n",
    "tf.keras.layers.AlphaDropout(rate=config.dropout),\n",
    "model.add(tf.keras.layers.Conv2D(config.conv_layer_3_size, (config.kernel_size, config.kernel_size), activation='selu', kernel_initializer='lecun_normal'))\n",
    "tf.keras.layers.AlphaDropout(rate=config.dropout),\n",
    "model.add(tf.keras.layers.Flatten())\n",
    "model.add(tf.keras.layers.Dense(config.hidden_layer_size, activation='selu', kernel_initializer='lecun_normal'))\n",
    "tf.keras.layers.BatchNormalization(),\n",
    "tf.keras.layers.AlphaDropout(rate=config.dropout),\n",
    "model.add(tf.keras.layers.Dense(config.num_classes, activation='softmax'))\n",
    "\n",
    "lr_scheduler = tf.keras.callbacks.ReduceLROnPlateau(factor=0.5, patience=5)\n",
    "model.compile(loss='categorical_crossentropy', optimizer=tf.keras.optimizers.Nadam(lr=config.learn_rate, beta_1=0.9, beta_2=0.999, clipnorm=1.0), metrics=['accuracy'])\n",
    "model.fit(X_train, y_train, verbose=0, validation_data=(X_test, y_test), epochs=config.n_epochs,\n",
    "    callbacks=[WandbCallback(data_type=\"image\", labels=labels, validation_data=(X_valid, y_valid)), tf.keras.callbacks.EarlyStopping(patience=10, restore_best_weights=True), lr_scheduler])"
   ]
  },
  {
   "cell_type": "markdown",
   "metadata": {},
   "source": [
    "# Make Predictions"
   ]
  },
  {
   "cell_type": "code",
   "execution_count": 21,
   "metadata": {
    "_kg_hide-output": true
   },
   "outputs": [
    {
     "ename": "ValueError",
     "evalue": "Error when checking input: expected conv2d_30_input to have 4 dimensions, but got array with shape (10000, 28, 28)",
     "output_type": "error",
     "traceback": [
      "\u001b[0;31m---------------------------------------------------------------------------\u001b[0m",
      "\u001b[0;31mValueError\u001b[0m                                Traceback (most recent call last)",
      "\u001b[0;32m<ipython-input-21-acc519fcce62>\u001b[0m in \u001b[0;36m<module>\u001b[0;34m\u001b[0m\n\u001b[0;32m----> 1\u001b[0;31m \u001b[0mmodel\u001b[0m\u001b[0;34m.\u001b[0m\u001b[0mevaluate\u001b[0m\u001b[0;34m(\u001b[0m\u001b[0mX_test\u001b[0m\u001b[0;34m,\u001b[0m \u001b[0my_test\u001b[0m\u001b[0;34m)\u001b[0m\u001b[0;34m\u001b[0m\u001b[0m\n\u001b[0m",
      "\u001b[0;32m/opt/conda/lib/python3.6/site-packages/tensorflow/python/keras/engine/training.py\u001b[0m in \u001b[0;36mevaluate\u001b[0;34m(self, x, y, batch_size, verbose, sample_weight, steps, callbacks, max_queue_size, workers, use_multiprocessing)\u001b[0m\n\u001b[1;32m    939\u001b[0m         \u001b[0mcheck_steps\u001b[0m\u001b[0;34m=\u001b[0m\u001b[0;32mTrue\u001b[0m\u001b[0;34m,\u001b[0m\u001b[0;34m\u001b[0m\u001b[0m\n\u001b[1;32m    940\u001b[0m         \u001b[0msteps_name\u001b[0m\u001b[0;34m=\u001b[0m\u001b[0;34m'steps'\u001b[0m\u001b[0;34m,\u001b[0m\u001b[0;34m\u001b[0m\u001b[0m\n\u001b[0;32m--> 941\u001b[0;31m         steps=steps)\n\u001b[0m\u001b[1;32m    942\u001b[0m \u001b[0;34m\u001b[0m\u001b[0m\n\u001b[1;32m    943\u001b[0m     \u001b[0;32mif\u001b[0m \u001b[0mself\u001b[0m\u001b[0;34m.\u001b[0m\u001b[0mrun_eagerly\u001b[0m\u001b[0;34m:\u001b[0m\u001b[0;34m\u001b[0m\u001b[0m\n",
      "\u001b[0;32m/opt/conda/lib/python3.6/site-packages/tensorflow/python/keras/engine/training.py\u001b[0m in \u001b[0;36m_standardize_user_data\u001b[0;34m(self, x, y, sample_weight, class_weight, batch_size, check_steps, steps_name, steps, validation_split, shuffle, extract_tensors_from_dataset)\u001b[0m\n\u001b[1;32m   2649\u001b[0m           \u001b[0mfeed_input_shapes\u001b[0m\u001b[0;34m,\u001b[0m\u001b[0;34m\u001b[0m\u001b[0m\n\u001b[1;32m   2650\u001b[0m           \u001b[0mcheck_batch_axis\u001b[0m\u001b[0;34m=\u001b[0m\u001b[0;32mFalse\u001b[0m\u001b[0;34m,\u001b[0m  \u001b[0;31m# Don't enforce the batch size.\u001b[0m\u001b[0;34m\u001b[0m\u001b[0m\n\u001b[0;32m-> 2651\u001b[0;31m           exception_prefix='input')\n\u001b[0m\u001b[1;32m   2652\u001b[0m \u001b[0;34m\u001b[0m\u001b[0m\n\u001b[1;32m   2653\u001b[0m     \u001b[0;32mif\u001b[0m \u001b[0my\u001b[0m \u001b[0;32mis\u001b[0m \u001b[0;32mnot\u001b[0m \u001b[0;32mNone\u001b[0m\u001b[0;34m:\u001b[0m\u001b[0;34m\u001b[0m\u001b[0m\n",
      "\u001b[0;32m/opt/conda/lib/python3.6/site-packages/tensorflow/python/keras/engine/training_utils.py\u001b[0m in \u001b[0;36mstandardize_input_data\u001b[0;34m(data, names, shapes, check_batch_axis, exception_prefix)\u001b[0m\n\u001b[1;32m    374\u001b[0m                            \u001b[0;34m': expected '\u001b[0m \u001b[0;34m+\u001b[0m \u001b[0mnames\u001b[0m\u001b[0;34m[\u001b[0m\u001b[0mi\u001b[0m\u001b[0;34m]\u001b[0m \u001b[0;34m+\u001b[0m \u001b[0;34m' to have '\u001b[0m \u001b[0;34m+\u001b[0m\u001b[0;34m\u001b[0m\u001b[0m\n\u001b[1;32m    375\u001b[0m                            \u001b[0mstr\u001b[0m\u001b[0;34m(\u001b[0m\u001b[0mlen\u001b[0m\u001b[0;34m(\u001b[0m\u001b[0mshape\u001b[0m\u001b[0;34m)\u001b[0m\u001b[0;34m)\u001b[0m \u001b[0;34m+\u001b[0m \u001b[0;34m' dimensions, but got array '\u001b[0m\u001b[0;34m\u001b[0m\u001b[0m\n\u001b[0;32m--> 376\u001b[0;31m                            'with shape ' + str(data_shape))\n\u001b[0m\u001b[1;32m    377\u001b[0m         \u001b[0;32mif\u001b[0m \u001b[0;32mnot\u001b[0m \u001b[0mcheck_batch_axis\u001b[0m\u001b[0;34m:\u001b[0m\u001b[0;34m\u001b[0m\u001b[0m\n\u001b[1;32m    378\u001b[0m           \u001b[0mdata_shape\u001b[0m \u001b[0;34m=\u001b[0m \u001b[0mdata_shape\u001b[0m\u001b[0;34m[\u001b[0m\u001b[0;36m1\u001b[0m\u001b[0;34m:\u001b[0m\u001b[0;34m]\u001b[0m\u001b[0;34m\u001b[0m\u001b[0m\n",
      "\u001b[0;31mValueError\u001b[0m: Error when checking input: expected conv2d_30_input to have 4 dimensions, but got array with shape (10000, 28, 28)"
     ]
    }
   ],
   "source": [
    "model.evaluate(X_test, y_test)"
   ]
  },
  {
   "cell_type": "code",
   "execution_count": 22,
   "metadata": {
    "_kg_hide-output": true
   },
   "outputs": [],
   "source": [
    "model.save(\"fashion_mnist_model.h5\")"
   ]
  },
  {
   "cell_type": "markdown",
   "metadata": {},
   "source": [
    "# Let's make things more interesting - CIFAR100"
   ]
  },
  {
   "cell_type": "code",
   "execution_count": 23,
   "metadata": {},
   "outputs": [],
   "source": [
    "from __future__ import print_function\n",
    "import keras\n",
    "from keras.datasets import cifar10\n",
    "from keras.preprocessing.image import ImageDataGenerator\n",
    "from keras.models import Sequential\n",
    "from keras.layers import Dense, Dropout, Activation, Flatten\n",
    "from keras.layers import Conv2D, MaxPooling2D\n",
    "import os"
   ]
  },
  {
   "cell_type": "code",
   "execution_count": 24,
   "metadata": {},
   "outputs": [
    {
     "name": "stdout",
     "output_type": "stream",
     "text": [
      "x_train shape: (50000, 32, 32, 3)\n",
      "50000 train samples\n",
      "10000 test samples\n"
     ]
    }
   ],
   "source": [
    "batch_size = 32\n",
    "num_classes = 10\n",
    "epochs = 100\n",
    "data_augmentation = True\n",
    "num_predictions = 20\n",
    "\n",
    "# The data, split between train and test sets:\n",
    "(x_train, y_train), (x_test, y_test) = cifar10.load_data()\n",
    "print('x_train shape:', x_train.shape)\n",
    "print(x_train.shape[0], 'train samples')\n",
    "print(x_test.shape[0], 'test samples')\n",
    "\n",
    "# Convert class vectors to binary class matrices.\n",
    "y_train = keras.utils.to_categorical(y_train, num_classes)\n",
    "y_test = keras.utils.to_categorical(y_test, num_classes)\n",
    "x_train = x_train.astype('float32') / 255.0\n",
    "x_test = x_test.astype('float32') / 255.0\n",
    "\n",
    "labels = ['airplane', 'automobile', 'bird', 'cat', 'deer', 'dog', 'frog', 'horse', 'ship', 'truck']"
   ]
  },
  {
   "cell_type": "code",
   "execution_count": 25,
   "metadata": {},
   "outputs": [
    {
     "data": {
      "text/html": [
       "\n",
       "                Logging results to <a href=\"https://wandb.com\" target=\"_blank\">Weights & Biases</a> <a href=\"https://docs.wandb.com/integrations/jupyter.html\" target=\"_blank\">(Documentation)</a>.<br/>\n",
       "                Project page: <a href=\"https://app.wandb.ai/anony-mouse-22574/building-neural-nets?apiKey=d380db39032b322bb131f39a0d30e0f2bfb6f899\" target=\"_blank\">https://app.wandb.ai/anony-mouse-22574/building-neural-nets?apiKey=d380db39032b322bb131f39a0d30e0f2bfb6f899</a><br/>\n",
       "                Run page: <a href=\"https://app.wandb.ai/anony-mouse-22574/building-neural-nets/runs/vid02cse?apiKey=d380db39032b322bb131f39a0d30e0f2bfb6f899\" target=\"_blank\">https://app.wandb.ai/anony-mouse-22574/building-neural-nets/runs/vid02cse?apiKey=d380db39032b322bb131f39a0d30e0f2bfb6f899</a><br/>\n",
       "            "
      ],
      "text/plain": [
       "<IPython.core.display.HTML object>"
      ]
     },
     "metadata": {},
     "output_type": "display_data"
    },
    {
     "data": {
      "text/plain": [
       "W&B Run: https://app.wandb.ai/anony-mouse-22574/building-neural-nets/runs/vid02cse?apiKey=d380db39032b322bb131f39a0d30e0f2bfb6f899"
      ]
     },
     "execution_count": 25,
     "metadata": {},
     "output_type": "execute_result"
    }
   ],
   "source": [
    "wandb.init(anonymous='allow', project=\"building-neural-nets\", name=\"cifar-10\")"
   ]
  },
  {
   "cell_type": "code",
   "execution_count": 26,
   "metadata": {},
   "outputs": [
    {
     "data": {
      "text/html": [
       "<iframe src=\"https://app.wandb.ai/anony-mouse-22574/building-neural-nets/runs/vid02cse?jupyter=true&state=paused&apiKey=d380db39032b322bb131f39a0d30e0f2bfb6f899\" style=\"border:none;width:100%;height:420px\">\n",
       "                </iframe>"
      ],
      "text/plain": [
       "<wandb.jupyter.Run at 0x7fbf1c4912b0>"
      ]
     },
     "metadata": {},
     "output_type": "display_data"
    },
    {
     "name": "stdout",
     "output_type": "stream",
     "text": [
      "Train on 50000 samples, validate on 10000 samples\n",
      "Epoch 1/100\n",
      "50000/50000 [==============================] - 16s 329us/step - loss: 1.8276 - accuracy: 0.3276 - val_loss: 1.5199 - val_accuracy: 0.4521\n",
      "Epoch 2/100\n",
      "50000/50000 [==============================] - 16s 315us/step - loss: 1.5054 - accuracy: 0.4533 - val_loss: 1.4504 - val_accuracy: 0.4787\n",
      "Epoch 3/100\n",
      "50000/50000 [==============================] - 16s 327us/step - loss: 1.3744 - accuracy: 0.5035 - val_loss: 1.2411 - val_accuracy: 0.5632\n",
      "Epoch 4/100\n",
      "50000/50000 [==============================] - 16s 317us/step - loss: 1.2743 - accuracy: 0.5474 - val_loss: 1.1443 - val_accuracy: 0.5981\n",
      "Epoch 5/100\n",
      "50000/50000 [==============================] - 15s 308us/step - loss: 1.1918 - accuracy: 0.5773 - val_loss: 1.0703 - val_accuracy: 0.6245\n",
      "Epoch 6/100\n",
      "50000/50000 [==============================] - 16s 313us/step - loss: 1.1169 - accuracy: 0.6035 - val_loss: 1.0231 - val_accuracy: 0.6432\n",
      "Epoch 7/100\n",
      "50000/50000 [==============================] - 16s 325us/step - loss: 1.0549 - accuracy: 0.6287 - val_loss: 0.9766 - val_accuracy: 0.6649\n",
      "Epoch 8/100\n",
      "50000/50000 [==============================] - 16s 312us/step - loss: 1.0094 - accuracy: 0.6446 - val_loss: 0.9249 - val_accuracy: 0.6806\n",
      "Epoch 9/100\n",
      "50000/50000 [==============================] - 16s 312us/step - loss: 0.9607 - accuracy: 0.6649 - val_loss: 0.8850 - val_accuracy: 0.6916\n",
      "Epoch 10/100\n",
      "50000/50000 [==============================] - 16s 320us/step - loss: 0.9185 - accuracy: 0.6776 - val_loss: 0.8974 - val_accuracy: 0.6885\n",
      "Epoch 11/100\n",
      "50000/50000 [==============================] - 16s 321us/step - loss: 0.8830 - accuracy: 0.6931 - val_loss: 0.8232 - val_accuracy: 0.7182\n",
      "Epoch 12/100\n",
      "50000/50000 [==============================] - 16s 314us/step - loss: 0.8512 - accuracy: 0.7013 - val_loss: 0.7907 - val_accuracy: 0.7263\n",
      "Epoch 13/100\n",
      "50000/50000 [==============================] - 16s 317us/step - loss: 0.8168 - accuracy: 0.7162 - val_loss: 0.7902 - val_accuracy: 0.7323\n",
      "Epoch 14/100\n",
      "50000/50000 [==============================] - 16s 316us/step - loss: 0.7905 - accuracy: 0.7231 - val_loss: 0.7456 - val_accuracy: 0.7469\n",
      "Epoch 15/100\n",
      "50000/50000 [==============================] - 16s 325us/step - loss: 0.7657 - accuracy: 0.7310 - val_loss: 0.7360 - val_accuracy: 0.7483\n",
      "Epoch 16/100\n",
      "50000/50000 [==============================] - 15s 307us/step - loss: 0.7405 - accuracy: 0.7411 - val_loss: 0.7662 - val_accuracy: 0.7388\n",
      "Epoch 17/100\n",
      "50000/50000 [==============================] - 15s 306us/step - loss: 0.7137 - accuracy: 0.7509 - val_loss: 0.7088 - val_accuracy: 0.7556\n",
      "Epoch 18/100\n",
      "50000/50000 [==============================] - 17s 332us/step - loss: 0.6982 - accuracy: 0.7559 - val_loss: 0.6982 - val_accuracy: 0.7598\n",
      "Epoch 19/100\n",
      "50000/50000 [==============================] - 16s 321us/step - loss: 0.6778 - accuracy: 0.7624 - val_loss: 0.6902 - val_accuracy: 0.7620\n",
      "Epoch 20/100\n",
      "50000/50000 [==============================] - 16s 312us/step - loss: 0.6524 - accuracy: 0.7726 - val_loss: 0.6819 - val_accuracy: 0.7638\n",
      "Epoch 21/100\n",
      "50000/50000 [==============================] - 16s 312us/step - loss: 0.6373 - accuracy: 0.7779 - val_loss: 0.6693 - val_accuracy: 0.7709\n",
      "Epoch 22/100\n",
      "50000/50000 [==============================] - 16s 329us/step - loss: 0.6195 - accuracy: 0.7845 - val_loss: 0.6689 - val_accuracy: 0.7736\n",
      "Epoch 23/100\n",
      "50000/50000 [==============================] - 15s 306us/step - loss: 0.5963 - accuracy: 0.7921 - val_loss: 0.6612 - val_accuracy: 0.7721\n",
      "Epoch 24/100\n",
      "50000/50000 [==============================] - 15s 307us/step - loss: 0.5807 - accuracy: 0.7958 - val_loss: 0.6505 - val_accuracy: 0.7788\n",
      "Epoch 25/100\n",
      "50000/50000 [==============================] - 15s 303us/step - loss: 0.5692 - accuracy: 0.8012 - val_loss: 0.6519 - val_accuracy: 0.7793\n",
      "Epoch 26/100\n",
      "50000/50000 [==============================] - 16s 327us/step - loss: 0.5514 - accuracy: 0.8076 - val_loss: 0.6561 - val_accuracy: 0.7783\n",
      "Epoch 27/100\n",
      "50000/50000 [==============================] - 15s 308us/step - loss: 0.5398 - accuracy: 0.8109 - val_loss: 0.6304 - val_accuracy: 0.7856\n",
      "Epoch 28/100\n",
      "50000/50000 [==============================] - 16s 315us/step - loss: 0.5260 - accuracy: 0.8150 - val_loss: 0.6420 - val_accuracy: 0.7820\n",
      "Epoch 29/100\n",
      "50000/50000 [==============================] - 15s 309us/step - loss: 0.5112 - accuracy: 0.8211 - val_loss: 0.6354 - val_accuracy: 0.7828\n",
      "Epoch 30/100\n",
      "50000/50000 [==============================] - 16s 317us/step - loss: 0.4999 - accuracy: 0.8246 - val_loss: 0.6315 - val_accuracy: 0.7880\n",
      "Epoch 31/100\n",
      "50000/50000 [==============================] - 15s 306us/step - loss: 0.4828 - accuracy: 0.8295 - val_loss: 0.6260 - val_accuracy: 0.7869\n",
      "Epoch 32/100\n",
      "50000/50000 [==============================] - 15s 305us/step - loss: 0.4695 - accuracy: 0.8349 - val_loss: 0.6144 - val_accuracy: 0.7921\n",
      "Epoch 33/100\n",
      "47968/50000 [===========================>..] - ETA: 0s - loss: 0.4552 - accuracy: 0.8394"
     ]
    }
   ],
   "source": [
    "%%wandb\n",
    "model = Sequential()\n",
    "model.add(Conv2D(32, (3, 3), padding='same', input_shape=x_train.shape[1:], activation='relu'))\n",
    "model.add(Conv2D(32, (3, 3), activation='relu'))\n",
    "model.add(MaxPooling2D(pool_size=(2, 2)))\n",
    "model.add(Dropout(0.25))\n",
    "model.add(Conv2D(64, (3, 3), padding='same', activation='relu'))\n",
    "model.add(Conv2D(64, (3, 3), activation='relu'))\n",
    "model.add(MaxPooling2D(pool_size=(2, 2)))\n",
    "model.add(Dropout(0.25))\n",
    "model.add(Flatten())\n",
    "model.add(Dense(512, activation='relu'))\n",
    "model.add(Dropout(0.5))\n",
    "model.add(Dense(num_classes, activation='softmax'))\n",
    "\n",
    "# Let's train the model using RMSprop\n",
    "model.compile(loss='categorical_crossentropy',\n",
    "              optimizer=keras.optimizers.Nadam(lr=0.0001, beta_1=0.9, beta_2=0.999, clipnorm=1.0),\n",
    "              metrics=['accuracy'])\n",
    "\n",
    "model.fit(x_train, y_train,\n",
    "              batch_size=batch_size,\n",
    "              epochs=epochs,\n",
    "              validation_data=(x_test, y_test),\n",
    "              callbacks=[WandbCallback(data_type=\"image\", labels=labels, validation_data=(x_test, y_test)), keras.callbacks.EarlyStopping(patience=10, restore_best_weights=True)],\n",
    "              shuffle=True)"
   ]
  },
  {
   "cell_type": "markdown",
   "metadata": {},
   "source": [
    "# A Few More Things\n",
    "- Try [EfficientNets](https://arxiv.org/pdf/1905.11946.pdf) to scale your network in an optimal way.\n",
    "- Read [this paper](https://arxiv.org/pdf/1803.09820.pdf) for an overview of some additional learning rate, batch sizes, momentum and weight decay techniques.\n",
    "- And [this one](https://arxiv.org/abs/1803.05407) on Stochastic Weight Averaging (SWA). It shows that better generalization can be achieved by averaging multiple points along the SGD's trajectory, with a cyclical or constant learning rate.\n",
    "- Read Andrej Karpathy's [excellent guide](http://karpathy.github.io/2019/04/25/recipe/) on getting the most juice out of your neural networks.\n",
    "\n",
    "## If you like this kernel, please give it an upvote. Thank you! :)"
   ]
  },
  {
   "cell_type": "markdown",
   "metadata": {},
   "source": [
    "# That was fun, yeah?\n",
    "\n",
    "We've explored a lot of different facets of neural networks in this post!\n",
    "\n",
    "We've looked at how to setup a basic neural network (including choosing the number of hidden layers, hidden neurons, batch sizes etc.)\n",
    "\n",
    "We've learnt about the role momentum and learning rates play in influencing model performance.\n",
    "\n",
    "And finally we've explored the problem of vanishing gradients and how to tackle it using non-saturating activation functions, BatchNorm, better weight initialization techniques and early stopping.\n",
    "\n",
    "You can compare the accuracy and loss performances for the various techniques we tried in one single chart, by visiting your [Weights and Biases](https://app.wandb.ai/home) dashboard.\n",
    "\n",
    "Neural networks are powerful beasts that give you a lot of levers to tweak to get the best performance for the problems you're trying to solve! The sheer size of customizations that they offer can be overwhelming to even seasoned practitioners. Tools like Weights and Biases are your best friends in navigating the land of the hyper-parameters, trying different experiments and picking the most powerful models.\n",
    "\n",
    "I hope this guide will serve as a good starting point in your adventures.\n",
    "\n",
    "If you have any questions or feedback, please don't hesitate to [message me](https://twitter.com/lavanyaai)!\n",
    "\n",
    "Good luck!\n",
    "\n",
    "\n",
    "----------\n",
    "## Weights & Biases\n",
    "\n",
    "We're building lightweight, flexible experiment tracking tools for deep learning. Add a couple of lines to your python script, and we'll keep track of your hyperparameters and output metrics, making it easy to compare runs and see the whole history of your progress. Think of us like GitHub for deep learning. Find out more at [wandb.com](http://wandb.com).\n"
   ]
  }
 ],
 "metadata": {
  "kernelspec": {
   "display_name": "Python 3",
   "language": "python",
   "name": "python3"
  },
  "language_info": {
   "codemirror_mode": {
    "name": "ipython",
    "version": 3
   },
   "file_extension": ".py",
   "mimetype": "text/x-python",
   "name": "python",
   "nbconvert_exporter": "python",
   "pygments_lexer": "ipython3",
   "version": "3.6.6"
  },
  "toc": {
   "base_numbering": 1,
   "nav_menu": {
    "height": "85px",
    "width": "179px"
   },
   "number_sections": true,
   "sideBar": true,
   "skip_h1_title": false,
   "title_cell": "Table of Contents",
   "title_sidebar": "Contents",
   "toc_cell": true,
   "toc_position": {},
   "toc_section_display": true,
   "toc_window_display": true
  }
 },
 "nbformat": 4,
 "nbformat_minor": 4
}
