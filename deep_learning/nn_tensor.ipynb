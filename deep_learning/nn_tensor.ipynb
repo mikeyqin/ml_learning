{
 "cells": [
  {
   "cell_type": "code",
   "execution_count": 2,
   "id": "63043a7d",
   "metadata": {},
   "outputs": [],
   "source": [
    "import torch"
   ]
  },
  {
   "cell_type": "code",
   "execution_count": 4,
   "id": "129e56d5",
   "metadata": {},
   "outputs": [
    {
     "data": {
      "text/plain": [
       "tensor([[[ 0.1259,  0.9333,  1.3487],\n",
       "         [-0.1114,  0.1357,  0.6399],\n",
       "         [ 0.5633,  1.0138, -0.1472],\n",
       "         [ 1.9984, -2.2520,  0.9717]],\n",
       "\n",
       "        [[ 0.1680, -2.1899,  0.8044],\n",
       "         [ 0.1984,  1.0795, -1.1988],\n",
       "         [ 0.0077, -1.0938,  1.0544],\n",
       "         [-0.1446, -1.0935, -0.0451]]])"
      ]
     },
     "execution_count": 4,
     "metadata": {},
     "output_type": "execute_result"
    }
   ],
   "source": [
    "tensor = torch.randn(2,4,3)\n",
    "tensor"
   ]
  },
  {
   "cell_type": "code",
   "execution_count": 6,
   "id": "3f4fa8e3",
   "metadata": {},
   "outputs": [
    {
     "data": {
      "text/plain": [
       "tensor([[[ 0.1259, -0.1114,  0.5633,  1.9984],\n",
       "         [ 0.1680,  0.1984,  0.0077, -0.1446]],\n",
       "\n",
       "        [[ 0.9333,  0.1357,  1.0138, -2.2520],\n",
       "         [-2.1899,  1.0795, -1.0938, -1.0935]],\n",
       "\n",
       "        [[ 1.3487,  0.6399, -0.1472,  0.9717],\n",
       "         [ 0.8044, -1.1988,  1.0544, -0.0451]]])"
      ]
     },
     "execution_count": 6,
     "metadata": {},
     "output_type": "execute_result"
    }
   ],
   "source": [
    "tensor_permuted = torch.permute(tensor, (2, 0, 1))\n",
    "tensor_permuted"
   ]
  },
  {
   "cell_type": "code",
   "execution_count": 7,
   "id": "caf1aa68",
   "metadata": {},
   "outputs": [
    {
     "data": {
      "text/plain": [
       "(tensor(-1.1988), tensor(-1.1988))"
      ]
     },
     "execution_count": 7,
     "metadata": {},
     "output_type": "execute_result"
    }
   ],
   "source": [
    "tensor[1, 1, 2], tensor_permuted[2,1,1]"
   ]
  },
  {
   "cell_type": "code",
   "execution_count": 11,
   "id": "977aaff5",
   "metadata": {},
   "outputs": [
    {
     "data": {
      "text/plain": [
       "(tensor([[ 0.9333,  0.1357,  1.0138, -2.2520],\n",
       "         [-2.1899,  1.0795, -1.0938, -1.0935]]),\n",
       " tensor([[ 0.9333,  0.1357,  1.0138, -2.2520],\n",
       "         [-2.1899,  1.0795, -1.0938, -1.0935]]))"
      ]
     },
     "execution_count": 11,
     "metadata": {},
     "output_type": "execute_result"
    }
   ],
   "source": [
    "tensor[:, :, 1], tensor_permuted[1, :, :]"
   ]
  },
  {
   "cell_type": "code",
   "execution_count": 12,
   "id": "7bba2bb2",
   "metadata": {},
   "outputs": [
    {
     "data": {
      "text/plain": [
       "(tensor([[ 0.1259, -0.1114,  0.5633,  1.9984],\n",
       "         [ 0.1680,  0.1984,  0.0077, -0.1446]]),\n",
       " tensor([[ 0.1259, -0.1114,  0.5633,  1.9984],\n",
       "         [ 0.1680,  0.1984,  0.0077, -0.1446]]))"
      ]
     },
     "execution_count": 12,
     "metadata": {},
     "output_type": "execute_result"
    }
   ],
   "source": [
    "tensor[:,:,0], tensor_permuted[0, :, :]"
   ]
  },
  {
   "cell_type": "code",
   "execution_count": 13,
   "id": "dad02e37",
   "metadata": {},
   "outputs": [
    {
     "data": {
      "text/plain": [
       "(tensor([[ 1.3487,  0.6399, -0.1472,  0.9717],\n",
       "         [ 0.8044, -1.1988,  1.0544, -0.0451]]),\n",
       " tensor([[ 1.3487,  0.6399, -0.1472,  0.9717],\n",
       "         [ 0.8044, -1.1988,  1.0544, -0.0451]]))"
      ]
     },
     "execution_count": 13,
     "metadata": {},
     "output_type": "execute_result"
    }
   ],
   "source": [
    "tensor[:,:,2], tensor_permuted[2, :, :]"
   ]
  },
  {
   "cell_type": "code",
   "execution_count": null,
   "id": "c1e07cde",
   "metadata": {},
   "outputs": [],
   "source": []
  }
 ],
 "metadata": {
  "kernelspec": {
   "display_name": "venv",
   "language": "python",
   "name": "python3"
  },
  "language_info": {
   "codemirror_mode": {
    "name": "ipython",
    "version": 3
   },
   "file_extension": ".py",
   "mimetype": "text/x-python",
   "name": "python",
   "nbconvert_exporter": "python",
   "pygments_lexer": "ipython3",
   "version": "3.12.9"
  }
 },
 "nbformat": 4,
 "nbformat_minor": 5
}
