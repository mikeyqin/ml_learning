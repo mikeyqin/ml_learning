{
 "cells": [
  {
   "cell_type": "markdown",
   "id": "13b6c60c",
   "metadata": {},
   "source": [
    "Practice neural network model training workflow"
   ]
  },
  {
   "cell_type": "code",
   "execution_count": 217,
   "id": "1024e7ff",
   "metadata": {},
   "outputs": [],
   "source": [
    "import torch\n",
    "from torch import nn\n",
    "import numpy as np\n",
    "import pandas as pd\n",
    "import matplotlib.pyplot as plt"
   ]
  },
  {
   "cell_type": "code",
   "execution_count": 218,
   "id": "70e0984d",
   "metadata": {},
   "outputs": [
    {
     "data": {
      "text/plain": [
       "'2.7.1'"
      ]
     },
     "execution_count": 218,
     "metadata": {},
     "output_type": "execute_result"
    }
   ],
   "source": [
    "torch.__version__"
   ]
  },
  {
   "cell_type": "code",
   "execution_count": 238,
   "id": "a18a332b",
   "metadata": {},
   "outputs": [
    {
     "name": "stdout",
     "output_type": "stream",
     "text": [
      "zsh:1: command not found: nvidia-smi\n"
     ]
    }
   ],
   "source": [
    "!nvidia-smi"
   ]
  },
  {
   "cell_type": "markdown",
   "id": "d0de1d53",
   "metadata": {},
   "source": [
    "### workflow\n",
    "1. data - prepare and load\n",
    "2. build model\n",
    "3. fitting the model to data (training)\n",
    "4. making predictions and evaluating a model (inference)\n",
    "5. saving and loading a model\n",
    "\n",
    "improving through experimentation \n",
    "\n",
    "\n",
    "Machine learning is a game of two parts:\n",
    "1. Get data into a numerical representation\n",
    "2. Build a model to learn patterns in that numerical representation."
   ]
  },
  {
   "cell_type": "markdown",
   "id": "7aed7d0e",
   "metadata": {},
   "source": [
    "### 1. Data (Preparing and loading)"
   ]
  },
  {
   "cell_type": "code",
   "execution_count": 219,
   "id": "21c2b9bd",
   "metadata": {},
   "outputs": [
    {
     "data": {
      "text/plain": [
       "(tensor([[0.0000],\n",
       "         [0.0200],\n",
       "         [0.0400],\n",
       "         [0.0600],\n",
       "         [0.0800],\n",
       "         [0.1000],\n",
       "         [0.1200],\n",
       "         [0.1400],\n",
       "         [0.1600],\n",
       "         [0.1800]]),\n",
       " tensor([[0.3000],\n",
       "         [0.3140],\n",
       "         [0.3280],\n",
       "         [0.3420],\n",
       "         [0.3560],\n",
       "         [0.3700],\n",
       "         [0.3840],\n",
       "         [0.3980],\n",
       "         [0.4120],\n",
       "         [0.4260]]),\n",
       " 50,\n",
       " 50)"
      ]
     },
     "execution_count": 219,
     "metadata": {},
     "output_type": "execute_result"
    }
   ],
   "source": [
    "weight = 0.7\n",
    "bias = 0.3\n",
    "\n",
    "start = 0\n",
    "end = 1\n",
    "step = 0.02\n",
    "X = torch.arange(start, end, step).unsqueeze(dim=1)\n",
    "\n",
    "y = weight * X + bias\n",
    "\n",
    "X[:10], y[:10], len(X), len(y)"
   ]
  },
  {
   "cell_type": "markdown",
   "id": "74931b3e",
   "metadata": {},
   "source": [
    "### Three datasets\n",
    "1. Training set -- model learn patterns from\n",
    "2. Validation set -- tune model patterns\n",
    "3. Test set -- see if the model is ready for the wild\n",
    "\n",
    "Generalization: the ability for a machine leaning model to perform well on data it hasn't seen before"
   ]
  },
  {
   "cell_type": "code",
   "execution_count": 220,
   "id": "fd89642e",
   "metadata": {},
   "outputs": [
    {
     "data": {
      "text/plain": [
       "40"
      ]
     },
     "execution_count": 220,
     "metadata": {},
     "output_type": "execute_result"
    }
   ],
   "source": [
    "train_split = int(0.8 * len(X))\n",
    "train_split"
   ]
  },
  {
   "cell_type": "code",
   "execution_count": 221,
   "id": "fdf83c50",
   "metadata": {},
   "outputs": [
    {
     "data": {
      "text/plain": [
       "(40, 10)"
      ]
     },
     "execution_count": 221,
     "metadata": {},
     "output_type": "execute_result"
    }
   ],
   "source": [
    "# in our simple case, just split the data; otherwise sckit learn has sklearn.model_selection.train_test_split \n",
    "X_train, y_train = X[:train_split], y[:train_split]\n",
    "X_test, y_test = X[train_split:], y[train_split:]\n",
    "\n",
    "len(X_train), len(X_test)"
   ]
  },
  {
   "cell_type": "code",
   "execution_count": 222,
   "id": "64a95265",
   "metadata": {},
   "outputs": [],
   "source": [
    "def plot_predications(train_data=X_train, train_labels=y_train, test_data=X_test, test_labels=y_test, predications=None):\n",
    "    plt.figure(figsize=(10, 7))\n",
    "    plt.scatter(train_data, train_labels, c=\"b\", s=4, label=\"Training Data\")\n",
    "    plt.scatter(test_data, test_labels, c='g', s=4, label=\"Testing Data\")\n",
    "\n",
    "    if predications is not None:\n",
    "        plt.scatter(test_data, predications, c='r', s=4, label=\"Predictions\")\n",
    "\n",
    "    plt.legend(prop={\"size\": 4});    \n"
   ]
  },
  {
   "cell_type": "code",
   "execution_count": 223,
   "id": "003b8e89",
   "metadata": {},
   "outputs": [
    {
     "data": {
      "image/png": "[encoded data removed]",
      "text/plain": [
       "<Figure size 1000x700 with 1 Axes>"
      ]
     },
     "metadata": {},
     "output_type": "display_data"
    }
   ],
   "source": [
    "plot_predications();"
   ]
  },
  {
   "cell_type": "markdown",
   "id": "3e7cb0a9",
   "metadata": {},
   "source": [
    "### 2. build model"
   ]
  },
  {
   "cell_type": "markdown",
   "id": "5def6de6",
   "metadata": {},
   "source": [
    "# create a liner regression model class\n"
   ]
  },
  {
   "cell_type": "markdown",
   "id": "bc4b5537",
   "metadata": {},
   "source": []
  },
  {
   "cell_type": "code",
   "execution_count": null,
   "id": "7bd10a75",
   "metadata": {},
   "outputs": [],
   "source": [
    "class LinearRegressionModel(nn.Module):\n",
    "    def __init__(self):\n",
    "        super().__init__()\n",
    "        # layers, parameters, hard-coded values, or functions\n",
    "\n",
    "        # start with a random number\n",
    "        # could use nn.Linear() instead (it is also called linear transform, probing layer, fully connected layer, dense layer etc.)\n",
    "        self.weight = nn.Parameter(torch.randn(1, requires_grad=True, dtype=torch.float))\n",
    "        self.bias = nn.Parameter(torch.randn(1, requires_grad=True, dtype=float))\n",
    "\n",
    "    # requires_grad to be true, pytorch will track the gradients of the parameter, for use by torch.autograd and gradient descents\n",
    "    def forward(self, x: torch.Tensor) -> torch.Tensor:\n",
    "        return self.weight * x + self.bias\n"
   ]
  },
  {
   "cell_type": "code",
   "execution_count": 225,
   "id": "eabde639",
   "metadata": {},
   "outputs": [
    {
     "data": {
      "text/plain": [
       "LinearRegressionModel()"
      ]
     },
     "execution_count": 225,
     "metadata": {},
     "output_type": "execute_result"
    }
   ],
   "source": [
    "torch.manual_seed(42)\n",
    "model_0 = LinearRegressionModel()\n",
    "\n",
    "model_0"
   ]
  },
  {
   "cell_type": "code",
   "execution_count": 226,
   "id": "b3e21f9d",
   "metadata": {},
   "outputs": [
    {
     "data": {
      "text/plain": [
       "[Parameter containing:\n",
       " tensor([0.3367], requires_grad=True),\n",
       " Parameter containing:\n",
       " tensor([0.1288], dtype=torch.float64, requires_grad=True)]"
      ]
     },
     "execution_count": 226,
     "metadata": {},
     "output_type": "execute_result"
    }
   ],
   "source": [
    "list(model_0.parameters())"
   ]
  },
  {
   "cell_type": "code",
   "execution_count": 227,
   "id": "f5fd0e65",
   "metadata": {},
   "outputs": [
    {
     "data": {
      "text/plain": [
       "OrderedDict([('weight', tensor([0.3367])),\n",
       "             ('bias', tensor([0.1288], dtype=torch.float64))])"
      ]
     },
     "execution_count": 227,
     "metadata": {},
     "output_type": "execute_result"
    }
   ],
   "source": [
    "model_0.state_dict()"
   ]
  },
  {
   "cell_type": "code",
   "execution_count": 228,
   "id": "ae0fe373",
   "metadata": {},
   "outputs": [
    {
     "data": {
      "text/plain": [
       "tensor([[0.3982],\n",
       "        [0.4049],\n",
       "        [0.4116],\n",
       "        [0.4184],\n",
       "        [0.4251],\n",
       "        [0.4318],\n",
       "        [0.4386],\n",
       "        [0.4453],\n",
       "        [0.4520],\n",
       "        [0.4588]], dtype=torch.float64)"
      ]
     },
     "execution_count": 228,
     "metadata": {},
     "output_type": "execute_result"
    }
   ],
   "source": [
    "# make a predication for now even not trained yet\n",
    "with torch.inference_mode():\n",
    "    y_preds = model_0(X_test)\n",
    "\n",
    "# can also do this but inference_mode is prefered as it does a more that just no_grad\n",
    "# with torch.no_grad():\n",
    "#     y_preds = model_0(X_test)\n",
    "    \n",
    "y_preds"
   ]
  },
  {
   "cell_type": "code",
   "execution_count": 229,
   "id": "8d4073fd",
   "metadata": {},
   "outputs": [
    {
     "data": {
      "text/plain": [
       "tensor([[0.8600],\n",
       "        [0.8740],\n",
       "        [0.8880],\n",
       "        [0.9020],\n",
       "        [0.9160],\n",
       "        [0.9300],\n",
       "        [0.9440],\n",
       "        [0.9580],\n",
       "        [0.9720],\n",
       "        [0.9860]])"
      ]
     },
     "execution_count": 229,
     "metadata": {},
     "output_type": "execute_result"
    }
   ],
   "source": [
    "y_test"
   ]
  },
  {
   "cell_type": "code",
   "execution_count": 230,
   "id": "868e0f05",
   "metadata": {},
   "outputs": [
    {
     "data": {
      "image/png": "[encoded data removed]",
      "text/plain": [
       "<Figure size 1000x700 with 1 Axes>"
      ]
     },
     "metadata": {},
     "output_type": "display_data"
    }
   ],
   "source": [
    "plot_predications(predications=y_preds)"
   ]
  },
  {
   "cell_type": "code",
   "execution_count": 231,
   "id": "97683a03",
   "metadata": {},
   "outputs": [
    {
     "data": {
      "text/plain": [
       "0.001"
      ]
     },
     "execution_count": 231,
     "metadata": {},
     "output_type": "execute_result"
    }
   ],
   "source": [
    "1e-3"
   ]
  },
  {
   "cell_type": "code",
   "execution_count": 232,
   "id": "c27161ff",
   "metadata": {},
   "outputs": [],
   "source": [
    "# train model\n",
    "# but first, we need a loss function and an optimizer to train the model\n",
    "\n",
    "loss_fn = nn.L1Loss()\n",
    "# parameters and learning rates\n",
    "optimizer = torch.optim.SGD(model_0.parameters(), lr=1e-2)\n"
   ]
  },
  {
   "cell_type": "markdown",
   "id": "890b01a4",
   "metadata": {},
   "source": [
    "### setup training loop\n",
    "1. loop through the data\n",
    "2. forward pass also called forward propagation\n",
    "3. calculate the loss\n",
    "4. optimizer zero grad\n",
    "5. backpropagation: loss backward - move backwards through the network to caculate the gradients of each parameter, with respect to the loss\n",
    "6. optimizer step - use the optimizer to adjust our model's parameters to try and improve loss (calculate the gradient descent)"
   ]
  },
  {
   "cell_type": "code",
   "execution_count": 233,
   "id": "a22af671",
   "metadata": {},
   "outputs": [
    {
     "name": "stdout",
     "output_type": "stream",
     "text": [
      "Epoch: 0 | Loss: 0.3128813540030115 | Test Loss 0.48106518251847774\n",
      "Epoch: 10 | Loss: 0.1976713878151804 | Test Loss 0.34635525805902023\n",
      "Epoch: 20 | Loss: 0.08908726197128397 | Test Loss 0.21729659826707373\n",
      "Epoch: 30 | Loss: 0.053148534844695394 | Test Loss 0.14464020545434486\n",
      "Epoch: 40 | Loss: 0.04543796626385301 | Test Loss 0.11360953803014288\n",
      "Epoch: 50 | Loss: 0.041678633706817264 | Test Loss 0.09919951553296583\n",
      "Epoch: 60 | Loss: 0.038189322985123564 | Test Loss 0.08886642677735816\n",
      "Epoch: 70 | Loss: 0.034760873781118265 | Test Loss 0.08059397036981117\n",
      "Epoch: 80 | Loss: 0.03132381429875812 | Test Loss 0.07232151992272866\n",
      "Epoch: 90 | Loss: 0.027887363194275382 | Test Loss 0.06473596281957157\n",
      "Epoch: 100 | Loss: 0.024458912872682963 | Test Loss 0.05646351833295364\n",
      "Epoch: 110 | Loss: 0.02102017967401617 | Test Loss 0.0481910589451743\n",
      "Epoch: 120 | Loss: 0.017585401633914276 | Test Loss 0.040605486940856125\n",
      "Epoch: 130 | Loss: 0.014155356578143156 | Test Loss 0.03233303351354137\n",
      "Epoch: 140 | Loss: 0.010716545980596789 | Test Loss 0.02406059498738782\n",
      "Epoch: 150 | Loss: 0.007283444543901532 | Test Loss 0.016475022983069642\n",
      "Epoch: 160 | Loss: 0.003851723909178606 | Test Loss 0.008202578496451497\n",
      "Epoch: 170 | Loss: 0.00893141892898546 | Test Loss 0.0050241684431983295\n",
      "Epoch: 180 | Loss: 0.00893141892898546 | Test Loss 0.0050241684431983295\n",
      "Epoch: 190 | Loss: 0.00893141892898546 | Test Loss 0.0050241684431983295\n"
     ]
    }
   ],
   "source": [
    "# an epoch is one loop through the data\n",
    "epochs = 200\n",
    "\n",
    "epoch_count = []\n",
    "loss_count = []\n",
    "test_loss_count = []\n",
    "# loop through the data\n",
    "for epoch in range(epochs):\n",
    "    # set the model to training mode\n",
    "    model_0.train()\n",
    "\n",
    "    # 1. forward pass\n",
    "    y_pred = model_0(X_train)\n",
    "\n",
    "    # 2. calculate the loss\n",
    "    loss = loss_fn(y_pred, y_train)\n",
    "\n",
    "    # 3. optimizer zero grad\n",
    "    optimizer.zero_grad()\n",
    "\n",
    "    # 4. perform backpropagation on the loss with respect to the parameter of the model\n",
    "    loss.backward()\n",
    "\n",
    "    # 5. step the optimizer - perform the gradent descent -- by default, how the optimizer changes will accumulate through the loop, so we have to zero the grad\n",
    "    optimizer.step()\n",
    "\n",
    "    #\n",
    "    model_0.eval() # turn off different settings in the model not needed for evaluation/testing: dropout/batch norm layers\n",
    "    with torch.inference_mode():\n",
    "        # forward pass\n",
    "        test_pred = model_0(X_test)\n",
    "        \n",
    "        # calculate the loss\n",
    "        test_loss = loss_fn(test_pred, y_test)\n",
    "\n",
    "        #\n",
    "        if epoch % 10 == 0:\n",
    "            epoch_count.append(epoch)\n",
    "            loss_count.append(loss)\n",
    "            test_loss_count.append(test_loss)\n",
    "            print(f\"Epoch: {epoch} | Loss: {loss} | Test Loss {test_loss}\")\n",
    "\n"
   ]
  },
  {
   "cell_type": "code",
   "execution_count": 234,
   "id": "788091ed",
   "metadata": {},
   "outputs": [
    {
     "data": {
      "image/png": "[encoded data removed]",
      "text/plain": [
       "<Figure size 640x480 with 1 Axes>"
      ]
     },
     "metadata": {},
     "output_type": "display_data"
    }
   ],
   "source": [
    "plt.plot(epoch_count, torch.tensor(loss_count).numpy(), label=\"Train Loss\")\n",
    "plt.plot(epoch_count, torch.tensor(test_loss_count).numpy(), label=\"Test Loss\")\n",
    "plt.xlabel(\"Epochs\")\n",
    "plt.ylabel(\"Loss\")\n",
    "plt.title(\"Train and Test Loss Curve\")\n",
    "plt.legend();"
   ]
  },
  {
   "cell_type": "code",
   "execution_count": 235,
   "id": "4a097167",
   "metadata": {},
   "outputs": [],
   "source": [
    "with torch.inference_mode():        \n",
    "    y_preds_new = model_0(X_test)"
   ]
  },
  {
   "cell_type": "code",
   "execution_count": 236,
   "id": "d3a01221",
   "metadata": {},
   "outputs": [
    {
     "data": {
      "image/png": "[encoded data removed]",
      "text/plain": [
       "<Figure size 1000x700 with 1 Axes>"
      ]
     },
     "metadata": {},
     "output_type": "display_data"
    }
   ],
   "source": [
    "plot_predications(predications=y_preds_new)"
   ]
  },
  {
   "cell_type": "markdown",
   "id": "5eea3e00",
   "metadata": {},
   "source": [
    "### Save and load a model in PyTorch\n",
    "1. `torch.save()` in python's pickle format\n",
    "2. `torch.load()` load a saved model\n",
    "3. `torch.nn.Module.load_state_dict()` load a model's saved dictionary"
   ]
  },
  {
   "cell_type": "markdown",
   "id": "3fcae31d",
   "metadata": {},
   "source": []
  },
  {
   "cell_type": "code",
   "execution_count": 237,
   "id": "2df2f3a7",
   "metadata": {},
   "outputs": [],
   "source": [
    "from pathlib import Path"
   ]
  },
  {
   "cell_type": "code",
   "execution_count": null,
   "id": "01dbb1c3",
   "metadata": {},
   "outputs": [],
   "source": []
  }
 ],
 "metadata": {
  "kernelspec": {
   "display_name": "venv",
   "language": "python",
   "name": "python3"
  },
  "language_info": {
   "codemirror_mode": {
    "name": "ipython",
    "version": 3
   },
   "file_extension": ".py",
   "mimetype": "text/x-python",
   "name": "python",
   "nbconvert_exporter": "python",
   "pygments_lexer": "ipython3",
   "version": "3.12.9"
  }
 },
 "nbformat": 4,
 "nbformat_minor": 5
}
