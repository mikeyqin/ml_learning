{
 "cells": [
  {
   "cell_type": "code",
   "execution_count": 6,
   "id": "9b76a50b",
   "metadata": {},
   "outputs": [
    {
     "data": {
      "text/plain": [
       "'mps'"
      ]
     },
     "execution_count": 6,
     "metadata": {},
     "output_type": "execute_result"
    }
   ],
   "source": [
    "import torchvision\n",
    "import torch\n",
    "from torch import nn\n",
    "\n",
    "from torchinfo import summary\n",
    "\n",
    "device = \"mps\" if torch.mps.is_available() else \"cpu\"\n",
    "device"
   ]
  },
  {
   "cell_type": "code",
   "execution_count": 3,
   "id": "0e8412e3",
   "metadata": {},
   "outputs": [],
   "source": [
    "# put them into a function\n",
    "def create_effnetb2_model(num_classes: int = 3,\n",
    "                          seed: int = 42):\n",
    "    \n",
    "    weights = torchvision.models.EfficientNet_B2_Weights.DEFAULT\n",
    "    transforms = weights.transforms()\n",
    "    model = torchvision.models.efficientnet_b2(weights=weights)\n",
    "\n",
    "    #freeze layers\n",
    "    for param in model.parameters():\n",
    "        param.requires_grad = False\n",
    "\n",
    "    model.classifier = nn.Sequential(\n",
    "        nn.Dropout(p=0.3,\n",
    "                   inplace=True),\n",
    "        nn.Linear(in_features=1408,\n",
    "                  out_features=num_classes)\n",
    "    )\n",
    "    return model, transforms"
   ]
  },
  {
   "cell_type": "code",
   "execution_count": 4,
   "id": "9eb53787",
   "metadata": {},
   "outputs": [],
   "source": [
    "effnetb2, effnetb2_transforms = create_effnetb2_model(num_classes=101)"
   ]
  },
  {
   "cell_type": "code",
   "execution_count": 9,
   "id": "256fb7f8",
   "metadata": {},
   "outputs": [
    {
     "data": {
      "text/plain": [
       "================================================================================================================================================================\n",
       "Layer (type (var_name))                                      Input Shape               Output Shape              Param #                   Trainable\n",
       "================================================================================================================================================================\n",
       "EfficientNet (EfficientNet)                                  [1, 3, 224, 224]          [1, 101]                  --                        Partial\n",
       "├─Sequential (features)                                      [1, 3, 224, 224]          [1, 1408, 7, 7]           --                        False\n",
       "│    └─Conv2dNormActivation (0)                              [1, 3, 224, 224]          [1, 32, 112, 112]         --                        False\n",
       "│    │    └─Conv2d (0)                                       [1, 3, 224, 224]          [1, 32, 112, 112]         (864)                     False\n",
       "│    │    └─BatchNorm2d (1)                                  [1, 32, 112, 112]         [1, 32, 112, 112]         (64)                      False\n",
       "│    │    └─SiLU (2)                                         [1, 32, 112, 112]         [1, 32, 112, 112]         --                        --\n",
       "│    └─Sequential (1)                                        [1, 32, 112, 112]         [1, 16, 112, 112]         --                        False\n",
       "│    │    └─MBConv (0)                                       [1, 32, 112, 112]         [1, 16, 112, 112]         (1,448)                   False\n",
       "│    │    └─MBConv (1)                                       [1, 16, 112, 112]         [1, 16, 112, 112]         (612)                     False\n",
       "│    └─Sequential (2)                                        [1, 16, 112, 112]         [1, 24, 56, 56]           --                        False\n",
       "│    │    └─MBConv (0)                                       [1, 16, 112, 112]         [1, 24, 56, 56]           (6,004)                   False\n",
       "│    │    └─MBConv (1)                                       [1, 24, 56, 56]           [1, 24, 56, 56]           (10,710)                  False\n",
       "│    │    └─MBConv (2)                                       [1, 24, 56, 56]           [1, 24, 56, 56]           (10,710)                  False\n",
       "│    └─Sequential (3)                                        [1, 24, 56, 56]           [1, 48, 28, 28]           --                        False\n",
       "│    │    └─MBConv (0)                                       [1, 24, 56, 56]           [1, 48, 28, 28]           (16,518)                  False\n",
       "│    │    └─MBConv (1)                                       [1, 48, 28, 28]           [1, 48, 28, 28]           (43,308)                  False\n",
       "│    │    └─MBConv (2)                                       [1, 48, 28, 28]           [1, 48, 28, 28]           (43,308)                  False\n",
       "│    └─Sequential (4)                                        [1, 48, 28, 28]           [1, 88, 14, 14]           --                        False\n",
       "│    │    └─MBConv (0)                                       [1, 48, 28, 28]           [1, 88, 14, 14]           (50,300)                  False\n",
       "│    │    └─MBConv (1)                                       [1, 88, 14, 14]           [1, 88, 14, 14]           (123,750)                 False\n",
       "│    │    └─MBConv (2)                                       [1, 88, 14, 14]           [1, 88, 14, 14]           (123,750)                 False\n",
       "│    │    └─MBConv (3)                                       [1, 88, 14, 14]           [1, 88, 14, 14]           (123,750)                 False\n",
       "│    └─Sequential (5)                                        [1, 88, 14, 14]           [1, 120, 14, 14]          --                        False\n",
       "│    │    └─MBConv (0)                                       [1, 88, 14, 14]           [1, 120, 14, 14]          (149,158)                 False\n",
       "│    │    └─MBConv (1)                                       [1, 120, 14, 14]          [1, 120, 14, 14]          (237,870)                 False\n",
       "│    │    └─MBConv (2)                                       [1, 120, 14, 14]          [1, 120, 14, 14]          (237,870)                 False\n",
       "│    │    └─MBConv (3)                                       [1, 120, 14, 14]          [1, 120, 14, 14]          (237,870)                 False\n",
       "│    └─Sequential (6)                                        [1, 120, 14, 14]          [1, 208, 7, 7]            --                        False\n",
       "│    │    └─MBConv (0)                                       [1, 120, 14, 14]          [1, 208, 7, 7]            (301,406)                 False\n",
       "│    │    └─MBConv (1)                                       [1, 208, 7, 7]            [1, 208, 7, 7]            (686,868)                 False\n",
       "│    │    └─MBConv (2)                                       [1, 208, 7, 7]            [1, 208, 7, 7]            (686,868)                 False\n",
       "│    │    └─MBConv (3)                                       [1, 208, 7, 7]            [1, 208, 7, 7]            (686,868)                 False\n",
       "│    │    └─MBConv (4)                                       [1, 208, 7, 7]            [1, 208, 7, 7]            (686,868)                 False\n",
       "│    └─Sequential (7)                                        [1, 208, 7, 7]            [1, 352, 7, 7]            --                        False\n",
       "│    │    └─MBConv (0)                                       [1, 208, 7, 7]            [1, 352, 7, 7]            (846,900)                 False\n",
       "│    │    └─MBConv (1)                                       [1, 352, 7, 7]            [1, 352, 7, 7]            (1,888,920)               False\n",
       "│    └─Conv2dNormActivation (8)                              [1, 352, 7, 7]            [1, 1408, 7, 7]           --                        False\n",
       "│    │    └─Conv2d (0)                                       [1, 352, 7, 7]            [1, 1408, 7, 7]           (495,616)                 False\n",
       "│    │    └─BatchNorm2d (1)                                  [1, 1408, 7, 7]           [1, 1408, 7, 7]           (2,816)                   False\n",
       "│    │    └─SiLU (2)                                         [1, 1408, 7, 7]           [1, 1408, 7, 7]           --                        --\n",
       "├─AdaptiveAvgPool2d (avgpool)                                [1, 1408, 7, 7]           [1, 1408, 1, 1]           --                        --\n",
       "├─Sequential (classifier)                                    [1, 1408]                 [1, 101]                  --                        True\n",
       "│    └─Dropout (0)                                           [1, 1408]                 [1, 1408]                 --                        --\n",
       "│    └─Linear (1)                                            [1, 1408]                 [1, 101]                  142,309                   True\n",
       "================================================================================================================================================================\n",
       "Total params: 7,843,303\n",
       "Trainable params: 142,309\n",
       "Non-trainable params: 7,700,994\n",
       "Total mult-adds (Units.MEGABYTES): 657.78\n",
       "================================================================================================================================================================\n",
       "Input size (MB): 0.60\n",
       "Forward/backward pass size (MB): 156.80\n",
       "Params size (MB): 31.37\n",
       "Estimated Total Size (MB): 188.77\n",
       "================================================================================================================================================================"
      ]
     },
     "execution_count": 9,
     "metadata": {},
     "output_type": "execute_result"
    }
   ],
   "source": [
    "summary(model=effnetb2,\n",
    "        input_size=(1, 3,224,224),\n",
    "        col_names=[\"input_size\", \"output_size\", \"num_params\", \"trainable\"],\n",
    "        row_settings=[\"var_names\"])"
   ]
  },
  {
   "cell_type": "code",
   "execution_count": 11,
   "id": "88bb700c",
   "metadata": {},
   "outputs": [
    {
     "data": {
      "text/plain": [
       "Compose(\n",
       "    TrivialAugmentWide(num_magnitude_bins=31, interpolation=InterpolationMode.NEAREST, fill=None)\n",
       "    ImageClassification(\n",
       "    crop_size=[288]\n",
       "    resize_size=[288]\n",
       "    mean=[0.485, 0.456, 0.406]\n",
       "    std=[0.229, 0.224, 0.225]\n",
       "    interpolation=InterpolationMode.BICUBIC\n",
       ")\n",
       ")"
      ]
     },
     "execution_count": 11,
     "metadata": {},
     "output_type": "execute_result"
    }
   ],
   "source": [
    "train_transforms = torchvision.transforms.Compose(\n",
    "    [torchvision.transforms.TrivialAugmentWide(),\n",
    "    effnetb2_transforms]\n",
    ")\n",
    "train_transforms"
   ]
  },
  {
   "cell_type": "code",
   "execution_count": 12,
   "id": "a5d45c33",
   "metadata": {},
   "outputs": [
    {
     "name": "stderr",
     "output_type": "stream",
     "text": [
      "100%|██████████| 5.00G/5.00G [05:24<00:00, 15.4MB/s]  \n"
     ]
    }
   ],
   "source": [
    "from torchvision import datasets\n",
    "\n",
    "from pathlib import Path\n",
    "\n",
    "data_dir = Path(\"data\")\n",
    "\n",
    "train_data = datasets.Food101(root=data_dir,\n",
    "                              split=\"train\",\n",
    "                              transform=train_transforms,\n",
    "                              download=True)\n",
    "\n",
    "test_data = datasets.Food101(root=data_dir,\n",
    "                             split=\"test\",\n",
    "                             transform=effnetb2_transforms, # don't apply augmentation for test images\n",
    "                             download=True)\n"
   ]
  },
  {
   "cell_type": "code",
   "execution_count": 13,
   "id": "f030ed11",
   "metadata": {},
   "outputs": [
    {
     "data": {
      "text/plain": [
       "['apple_pie',\n",
       " 'baby_back_ribs',\n",
       " 'baklava',\n",
       " 'beef_carpaccio',\n",
       " 'beef_tartare',\n",
       " 'beet_salad',\n",
       " 'beignets',\n",
       " 'bibimbap',\n",
       " 'bread_pudding',\n",
       " 'breakfast_burrito']"
      ]
     },
     "execution_count": 13,
     "metadata": {},
     "output_type": "execute_result"
    }
   ],
   "source": [
    "food101_class_names = train_data.classes\n",
    "food101_class_names[:10]"
   ]
  },
  {
   "cell_type": "code",
   "execution_count": 14,
   "id": "8f04fade",
   "metadata": {},
   "outputs": [
    {
     "data": {
      "text/plain": [
       "(15150.0, 5050.0)"
      ]
     },
     "execution_count": 14,
     "metadata": {},
     "output_type": "execute_result"
    }
   ],
   "source": [
    "len(train_data)*0.2, len(test_data)*0.2"
   ]
  },
  {
   "cell_type": "code",
   "execution_count": 16,
   "id": "82af6a4f",
   "metadata": {},
   "outputs": [],
   "source": [
    "from torch.utils.data import random_split\n",
    "\n",
    "def split_dataset(dataset: torchvision.datasets,\n",
    "                  split_size: float=0.2,\n",
    "                  seed:int=42):\n",
    "    length1 = int(len(dataset)* split_size)\n",
    "    length2 = len(dataset) - length1\n",
    "\n",
    "    print(f\"Splitting dataset of length {len(dataset)} into {length1} and {length2}\")\n",
    "\n",
    "    random_split_1, random_split_2 = random_split(dataset,\n",
    "                                                  lengths=[length1, length2],\n",
    "                                                  generator=torch.manual_seed(seed))\n",
    "    return random_split_1, random_split_2"
   ]
  },
  {
   "cell_type": "code",
   "execution_count": 17,
   "id": "554ee540",
   "metadata": {},
   "outputs": [
    {
     "name": "stdout",
     "output_type": "stream",
     "text": [
      "Splitting dataset of length 75750 into 15150 and 60600\n",
      "Splitting dataset of length 25250 into 5050 and 20200\n"
     ]
    }
   ],
   "source": [
    "train_data_food101_20_percent, _ = split_dataset(train_data)\n",
    "test_data_food101_20_percent, _ = split_dataset(test_data)"
   ]
  },
  {
   "cell_type": "code",
   "execution_count": 19,
   "id": "12ad37f1",
   "metadata": {},
   "outputs": [],
   "source": [
    "import os\n",
    "\n",
    "NUM_WORKER = os.cpu_count()\n",
    "BATCH_SIZE = 32"
   ]
  },
  {
   "cell_type": "code",
   "execution_count": 21,
   "id": "652d9a01",
   "metadata": {},
   "outputs": [],
   "source": [
    "train_dataloader_food101_20_percent = torch.utils.data.DataLoader(\n",
    "    dataset=train_data_food101_20_percent,\n",
    "    batch_size=BATCH_SIZE,\n",
    "    num_workers=NUM_WORKER,\n",
    "    shuffle=True\n",
    ")\n",
    "\n",
    "test_dataloader_food101_20_percent = torch.utils.data.DataLoader(\n",
    "    dataset=test_data_food101_20_percent,\n",
    "    batch_size=BATCH_SIZE,\n",
    "    num_workers=NUM_WORKER,\n",
    "    shuffle=False\n",
    ")"
   ]
  },
  {
   "cell_type": "code",
   "execution_count": 22,
   "id": "e4cd8f53",
   "metadata": {},
   "outputs": [
    {
     "data": {
      "text/plain": [
       "(474, 158)"
      ]
     },
     "execution_count": 22,
     "metadata": {},
     "output_type": "execute_result"
    }
   ],
   "source": [
    "len(train_dataloader_food101_20_percent), len(test_dataloader_food101_20_percent)"
   ]
  },
  {
   "cell_type": "code",
   "execution_count": null,
   "id": "24509f83",
   "metadata": {},
   "outputs": [
    {
     "name": "stderr",
     "output_type": "stream",
     "text": [
      "/Users/mikeqin/code/ml-training/venv/lib/python3.12/site-packages/tqdm/auto.py:21: TqdmWarning: IProgress not found. Please update jupyter and ipywidgets. See https://ipywidgets.readthedocs.io/en/stable/user_install.html\n",
      "  from .autonotebook import tqdm as notebook_tqdm\n",
      " 20%|██        | 1/5 [04:16<17:06, 256.74s/it]"
     ]
    },
    {
     "name": "stdout",
     "output_type": "stream",
     "text": [
      "Epoch: 1 | train_loss: 3.6470 | train_acc: 0.2816 | test_loss: 2.7701 | test_acc: 0.4872\n"
     ]
    },
    {
     "name": "stderr",
     "output_type": "stream",
     "text": [
      " 40%|████      | 2/5 [08:30<12:44, 254.89s/it]"
     ]
    },
    {
     "name": "stdout",
     "output_type": "stream",
     "text": [
      "Epoch: 2 | train_loss: 2.8629 | train_acc: 0.4392 | test_loss: 2.4730 | test_acc: 0.5369\n"
     ]
    },
    {
     "name": "stderr",
     "output_type": "stream",
     "text": [
      " 60%|██████    | 3/5 [12:45<08:30, 255.06s/it]"
     ]
    },
    {
     "name": "stdout",
     "output_type": "stream",
     "text": [
      "Epoch: 3 | train_loss: 2.6418 | train_acc: 0.4888 | test_loss: 2.3527 | test_acc: 0.5588\n"
     ]
    },
    {
     "name": "stderr",
     "output_type": "stream",
     "text": [
      " 80%|████████  | 4/5 [17:00<04:14, 254.89s/it]"
     ]
    },
    {
     "name": "stdout",
     "output_type": "stream",
     "text": [
      "Epoch: 4 | train_loss: 2.5421 | train_acc: 0.5074 | test_loss: 2.3080 | test_acc: 0.5701\n"
     ]
    },
    {
     "name": "stderr",
     "output_type": "stream",
     "text": [
      "100%|██████████| 5/5 [21:17<00:00, 255.56s/it]"
     ]
    },
    {
     "name": "stdout",
     "output_type": "stream",
     "text": [
      "Epoch: 5 | train_loss: 2.4988 | train_acc: 0.5222 | test_loss: 2.2766 | test_acc: 0.5783\n"
     ]
    },
    {
     "name": "stderr",
     "output_type": "stream",
     "text": [
      "\n"
     ]
    }
   ],
   "source": [
    "# to train\n",
    "# 5 epochs\n",
    "# optimizer: Adam\n",
    "# loss function: CrossEntropyLoss(label_smoothing=0.1) <-- label_smoothing: a regularization technique to prevent overfitting\n",
    "from utils import engine\n",
    "\n",
    "loss_fn = nn.CrossEntropyLoss(label_smoothing=0.1)\n",
    "optimizer = torch.optim.Adam(params=effnetb2.parameters(), lr=1e-3)\n",
    "\n",
    "torch.manual_seed(42)\n",
    "torch.mps.manual_seed(42)\n",
    "\n",
    "effnetb2_results = engine.train(\n",
    "    model=effnetb2,\n",
    "    train_dataloader=train_dataloader_food101_20_percent,\n",
    "    test_dataloader=test_dataloader_food101_20_percent,\n",
    "    loss_fn=loss_fn,\n",
    "    optimizer=optimizer,\n",
    "    epochs=5,\n",
    "    device=device\n",
    ")\n"
   ]
  },
  {
   "cell_type": "code",
   "execution_count": 26,
   "id": "83eff9a1",
   "metadata": {},
   "outputs": [
    {
     "data": {
      "image/png": "[encoded data removed]",
      "text/plain": [
       "<Figure size 1500x700 with 2 Axes>"
      ]
     },
     "metadata": {},
     "output_type": "display_data"
    }
   ],
   "source": [
    "# plot the loss curve\n",
    "from helper_functions import plot_loss_curves\n",
    "\n",
    "plot_loss_curves(effnetb2_results)"
   ]
  },
  {
   "cell_type": "code",
   "execution_count": null,
   "id": "45de602e",
   "metadata": {},
   "outputs": [
    {
     "name": "stdout",
     "output_type": "stream",
     "text": [
      "[INFO] Saving model to: models/pretrained_effnetb2_feature_extractor_food101_20_percent.pth\n"
     ]
    }
   ],
   "source": [
    "# save the model\n",
    "from utils import utils\n",
    "\n",
    "effnetb2_food101_model_path=\"pretrained_effnetb2_feature_extractor_food101_20_percent.pth\"\n",
    "\n",
    "utils.save_model(model=effnetb2,\n",
    "                 target_dir=\"models/\",\n",
    "                 model_name=effnetb2_food101_model_path)"
   ]
  },
  {
   "cell_type": "code",
   "execution_count": 29,
   "id": "b1fb171a",
   "metadata": {},
   "outputs": [
    {
     "data": {
      "text/plain": [
       "<All keys matched successfully>"
      ]
     },
     "execution_count": 29,
     "metadata": {},
     "output_type": "execute_result"
    }
   ],
   "source": [
    "# load the model back\n",
    "loaded_effnetb2, loaded_effnetb2_transforms = create_effnetb2_model(num_classes=101)\n",
    "loaded_effnetb2.load_state_dict(torch.load(\"models/pretrained_effnetb2_feature_extractor_food101_20_percent.pth\"))\n"
   ]
  },
  {
   "cell_type": "code",
   "execution_count": 30,
   "id": "1ea8df72",
   "metadata": {},
   "outputs": [
    {
     "data": {
      "text/plain": [
       "30"
      ]
     },
     "execution_count": 30,
     "metadata": {},
     "output_type": "execute_result"
    }
   ],
   "source": [
    "# check model size\n",
    "from pathlib import Path\n",
    "\n",
    "pretrained_effnetb2_food101_model_size = Path(\n",
    "    \"models\", effnetb2_food101_model_path).stat().st_size // (1024*1024)\n",
    "\n",
    "pretrained_effnetb2_food101_model_size"
   ]
  },
  {
   "cell_type": "code",
   "execution_count": 31,
   "id": "04aadf7b",
   "metadata": {},
   "outputs": [],
   "source": [
    "from timeit import default_timer as timer\n",
    "\n",
    "def predict(img) -> tuple[dict, float]:\n",
    "  # Start a timer\n",
    "  start_time = timer()\n",
    "\n",
    "  # Transform the input image for use with EffNetB2\n",
    "  img = loaded_effnetb2_transforms(img).unsqueeze(0) # unsqueeze = add batch dimension on 0th index\n",
    "\n",
    "  # Put model into eval mode, make prediction\n",
    "  loaded_effnetb2.eval()\n",
    "  with torch.inference_mode():\n",
    "    # Pass transformed image through the model and turn the prediction logits into probaiblities\n",
    "    pred_probs = torch.softmax(loaded_effnetb2(img), dim=1)\n",
    "\n",
    "  # Create a prediction label and prediction probability dictionary\n",
    "  pred_labels_and_probs = {food101_class_names[i]: float(pred_probs[0][i]) for i in range(len(food101_class_names))}\n",
    "\n",
    "  # Calculate pred time\n",
    "  end_time = timer()\n",
    "  pred_time = round(end_time - start_time, 4)\n",
    "\n",
    "  # Return pred dict and pred time\n",
    "  return pred_labels_and_probs, pred_time"
   ]
  },
  {
   "cell_type": "code",
   "execution_count": null,
   "id": "e083b610",
   "metadata": {},
   "outputs": [
    {
     "name": "stdout",
     "output_type": "stream",
     "text": [
      "* Running on local URL:  http://127.0.0.1:7862\n",
      "* To create a public link, set `share=True` in `launch()`.\n"
     ]
    },
    {
     "data": {
      "text/html": [
       "<div><iframe src=\"http://127.0.0.1:7862/\" width=\"100%\" height=\"500\" allow=\"autoplay; camera; microphone; clipboard-read; clipboard-write;\" frameborder=\"0\" allowfullscreen></iframe></div>"
      ],
      "text/plain": [
       "<IPython.core.display.HTML object>"
      ]
     },
     "metadata": {},
     "output_type": "display_data"
    },
    {
     "data": {
      "text/plain": []
     },
     "execution_count": 35,
     "metadata": {},
     "output_type": "execute_result"
    },
    {
     "name": "stdout",
     "output_type": "stream",
     "text": [
      "Created dataset file at: .gradio/flagged/dataset1.csv\n"
     ]
    }
   ],
   "source": [
    "import gradio as gr\n",
    "# Create title, description and article\n",
    "title = \"FoodVision BIG\"\n",
    "description = \"An [EfficientNetB2 feature extractor](https://pytorch.org/vision/stable/models/generated/torchvision.models.efficientnet_b2.html#torchvision.models.efficientnet_b2) computer vision model to classify images [101 classes of food from the Food101 dataset](https://github.com/mrdbourke/pytorch-deep-learning/blob/main/extras/food101_class_names.txt).\"\n",
    "article = \"Created at [PyTorch Model Deployment](https://www.learnpytorch.io/pytorch_model_deployment/urning-our-foodvision-big-model-into-a-deployable-app).\"\n",
    "\n",
    "# Create example list\n",
    "example_list = [[\"/Users/mikeqin/code/ml-training/pytorch-deep-learning/git/pytorch-deep-learning/demos/foodvision_big/examples/\" + example] for example in os.listdir(\"/Users/mikeqin/code/ml-training/pytorch-deep-learning/git/pytorch-deep-learning/demos/foodvision_big/examples\")]\n",
    "\n",
    "# Create the Gradio demo\n",
    "demo = gr.Interface(fn=predict, # maps inputs to outputs\n",
    "                    inputs=gr.Image(type=\"pil\"),\n",
    "                    outputs=[gr.Label(num_top_classes=5, label=\"Predictions\"),\n",
    "                             gr.Number(label=\"Prediction time (s)\")],\n",
    "                    examples=example_list,\n",
    "                    title=title,\n",
    "                    description=description,\n",
    "                    article=article)\n",
    "\n",
    "# Launch the demo!\n",
    "demo.launch() "
   ]
  },
  {
   "cell_type": "code",
   "execution_count": null,
   "id": "8bc52700",
   "metadata": {},
   "outputs": [],
   "source": []
  }
 ],
 "metadata": {
  "kernelspec": {
   "display_name": "venv",
   "language": "python",
   "name": "python3"
  },
  "language_info": {
   "codemirror_mode": {
    "name": "ipython",
    "version": 3
   },
   "file_extension": ".py",
   "mimetype": "text/x-python",
   "name": "python",
   "nbconvert_exporter": "python",
   "pygments_lexer": "ipython3",
   "version": "3.12.9"
  }
 },
 "nbformat": 4,
 "nbformat_minor": 5
}
