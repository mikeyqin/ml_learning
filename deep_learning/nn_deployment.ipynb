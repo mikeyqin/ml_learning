{
 "cells": [
  {
   "cell_type": "code",
   "execution_count": 18,
   "id": "3777ebc6",
   "metadata": {},
   "outputs": [
    {
     "data": {
      "text/plain": [
       "'mps'"
      ]
     },
     "execution_count": 18,
     "metadata": {},
     "output_type": "execute_result"
    }
   ],
   "source": [
    "import torch\n",
    "from torch import nn\n",
    "\n",
    "import torchvision\n",
    "\n",
    "import matplotlib.pyplot as plt\n",
    "\n",
    "device = \"cuda\" if torch.cuda.is_available() else \"cpu\"\n",
    "device = \"mps\" if torch.backends.mps.is_available() else \"cpu\"\n",
    "device\n"
   ]
  },
  {
   "cell_type": "code",
   "execution_count": 19,
   "id": "b97d16e8",
   "metadata": {},
   "outputs": [],
   "source": [
    "import sys\n",
    "import os\n",
    "sys.path.append(\"./git/pytorch-deep-learning\")\n",
    "try:\n",
    "    from going_modular.going_modular import data_setup, engine\n",
    "except:\n",
    "    print(\"cannot import modular\")\n"
   ]
  },
  {
   "cell_type": "code",
   "execution_count": 20,
   "id": "bde805d1",
   "metadata": {},
   "outputs": [],
   "source": [
    "#from git.pytorch-deep-learning.going_modular.going_modular import data_setup, engine"
   ]
  },
  {
   "cell_type": "code",
   "execution_count": 21,
   "id": "cd4db458",
   "metadata": {},
   "outputs": [],
   "source": [
    "import importlib\n",
    "deep_learning_module = importlib.import_module(\"git.pytorch-deep-learning.going_modular.going_modular\")\n",
    "\n",
    "# cannot import from a variable, must be a module\n",
    "#\n",
    "# from deep_learning_module import data_setup\n"
   ]
  },
  {
   "cell_type": "code",
   "execution_count": 22,
   "id": "21975edf",
   "metadata": {},
   "outputs": [
    {
     "data": {
      "text/plain": [
       "(PosixPath('data/pizza_steak_sushi_20_percent/train'),\n",
       " PosixPath('data/pizza_steak_sushi_20_percent/test'))"
      ]
     },
     "execution_count": 22,
     "metadata": {},
     "output_type": "execute_result"
    }
   ],
   "source": [
    "from pathlib import Path\n",
    "train_dir = Path('data/pizza_steak_sushi_20_percent/train')\n",
    "test_dir = Path('data/pizza_steak_sushi_20_percent/test')\n",
    "train_dir, test_dir"
   ]
  },
  {
   "cell_type": "markdown",
   "id": "38e61298",
   "metadata": {},
   "source": [
    "### EffNetB2 feature extractor\n",
    "\n",
    "a transfer leaning model that has its base layers frozen and output layers (or head layers) customized to a certain problem"
   ]
  },
  {
   "cell_type": "code",
   "execution_count": 23,
   "id": "a6757dd3",
   "metadata": {},
   "outputs": [],
   "source": [
    "effnetb2_weights = torchvision.models.EfficientNet_B2_Weights.DEFAULT\n",
    "transforms = effnetb2_weights.transforms()\n",
    "effnetb2 = torchvision.models.efficientnet_b2(weights=effnetb2_weights)\n",
    "\n",
    "#freeze the base layers in the model\n",
    "\n",
    "for param in effnetb2.features.parameters():\n",
    "    param.requires_grad = False\n",
    "\n"
   ]
  },
  {
   "cell_type": "code",
   "execution_count": 24,
   "id": "dae39d75",
   "metadata": {},
   "outputs": [
    {
     "data": {
      "text/plain": [
       "============================================================================================================================================\n",
       "Layer (type (var_name))                                      Input Shape          Output Shape         Param #              Trainable\n",
       "============================================================================================================================================\n",
       "EfficientNet (EfficientNet)                                  [1, 3, 224, 224]     [1, 1000]            --                   Partial\n",
       "├─Sequential (features)                                      [1, 3, 224, 224]     [1, 1408, 7, 7]      --                   False\n",
       "│    └─Conv2dNormActivation (0)                              [1, 3, 224, 224]     [1, 32, 112, 112]    --                   False\n",
       "│    │    └─Conv2d (0)                                       [1, 3, 224, 224]     [1, 32, 112, 112]    (864)                False\n",
       "│    │    └─BatchNorm2d (1)                                  [1, 32, 112, 112]    [1, 32, 112, 112]    (64)                 False\n",
       "│    │    └─SiLU (2)                                         [1, 32, 112, 112]    [1, 32, 112, 112]    --                   --\n",
       "│    └─Sequential (1)                                        [1, 32, 112, 112]    [1, 16, 112, 112]    --                   False\n",
       "│    │    └─MBConv (0)                                       [1, 32, 112, 112]    [1, 16, 112, 112]    (1,448)              False\n",
       "│    │    └─MBConv (1)                                       [1, 16, 112, 112]    [1, 16, 112, 112]    (612)                False\n",
       "│    └─Sequential (2)                                        [1, 16, 112, 112]    [1, 24, 56, 56]      --                   False\n",
       "│    │    └─MBConv (0)                                       [1, 16, 112, 112]    [1, 24, 56, 56]      (6,004)              False\n",
       "│    │    └─MBConv (1)                                       [1, 24, 56, 56]      [1, 24, 56, 56]      (10,710)             False\n",
       "│    │    └─MBConv (2)                                       [1, 24, 56, 56]      [1, 24, 56, 56]      (10,710)             False\n",
       "│    └─Sequential (3)                                        [1, 24, 56, 56]      [1, 48, 28, 28]      --                   False\n",
       "│    │    └─MBConv (0)                                       [1, 24, 56, 56]      [1, 48, 28, 28]      (16,518)             False\n",
       "│    │    └─MBConv (1)                                       [1, 48, 28, 28]      [1, 48, 28, 28]      (43,308)             False\n",
       "│    │    └─MBConv (2)                                       [1, 48, 28, 28]      [1, 48, 28, 28]      (43,308)             False\n",
       "│    └─Sequential (4)                                        [1, 48, 28, 28]      [1, 88, 14, 14]      --                   False\n",
       "│    │    └─MBConv (0)                                       [1, 48, 28, 28]      [1, 88, 14, 14]      (50,300)             False\n",
       "│    │    └─MBConv (1)                                       [1, 88, 14, 14]      [1, 88, 14, 14]      (123,750)            False\n",
       "│    │    └─MBConv (2)                                       [1, 88, 14, 14]      [1, 88, 14, 14]      (123,750)            False\n",
       "│    │    └─MBConv (3)                                       [1, 88, 14, 14]      [1, 88, 14, 14]      (123,750)            False\n",
       "│    └─Sequential (5)                                        [1, 88, 14, 14]      [1, 120, 14, 14]     --                   False\n",
       "│    │    └─MBConv (0)                                       [1, 88, 14, 14]      [1, 120, 14, 14]     (149,158)            False\n",
       "│    │    └─MBConv (1)                                       [1, 120, 14, 14]     [1, 120, 14, 14]     (237,870)            False\n",
       "│    │    └─MBConv (2)                                       [1, 120, 14, 14]     [1, 120, 14, 14]     (237,870)            False\n",
       "│    │    └─MBConv (3)                                       [1, 120, 14, 14]     [1, 120, 14, 14]     (237,870)            False\n",
       "│    └─Sequential (6)                                        [1, 120, 14, 14]     [1, 208, 7, 7]       --                   False\n",
       "│    │    └─MBConv (0)                                       [1, 120, 14, 14]     [1, 208, 7, 7]       (301,406)            False\n",
       "│    │    └─MBConv (1)                                       [1, 208, 7, 7]       [1, 208, 7, 7]       (686,868)            False\n",
       "│    │    └─MBConv (2)                                       [1, 208, 7, 7]       [1, 208, 7, 7]       (686,868)            False\n",
       "│    │    └─MBConv (3)                                       [1, 208, 7, 7]       [1, 208, 7, 7]       (686,868)            False\n",
       "│    │    └─MBConv (4)                                       [1, 208, 7, 7]       [1, 208, 7, 7]       (686,868)            False\n",
       "│    └─Sequential (7)                                        [1, 208, 7, 7]       [1, 352, 7, 7]       --                   False\n",
       "│    │    └─MBConv (0)                                       [1, 208, 7, 7]       [1, 352, 7, 7]       (846,900)            False\n",
       "│    │    └─MBConv (1)                                       [1, 352, 7, 7]       [1, 352, 7, 7]       (1,888,920)          False\n",
       "│    └─Conv2dNormActivation (8)                              [1, 352, 7, 7]       [1, 1408, 7, 7]      --                   False\n",
       "│    │    └─Conv2d (0)                                       [1, 352, 7, 7]       [1, 1408, 7, 7]      (495,616)            False\n",
       "│    │    └─BatchNorm2d (1)                                  [1, 1408, 7, 7]      [1, 1408, 7, 7]      (2,816)              False\n",
       "│    │    └─SiLU (2)                                         [1, 1408, 7, 7]      [1, 1408, 7, 7]      --                   --\n",
       "├─AdaptiveAvgPool2d (avgpool)                                [1, 1408, 7, 7]      [1, 1408, 1, 1]      --                   --\n",
       "├─Sequential (classifier)                                    [1, 1408]            [1, 1000]            --                   True\n",
       "│    └─Dropout (0)                                           [1, 1408]            [1, 1408]            --                   --\n",
       "│    └─Linear (1)                                            [1, 1408]            [1, 1000]            1,409,000            True\n",
       "============================================================================================================================================\n",
       "Total params: 9,109,994\n",
       "Trainable params: 1,409,000\n",
       "Non-trainable params: 7,700,994\n",
       "Total mult-adds (Units.MEGABYTES): 659.05\n",
       "============================================================================================================================================\n",
       "Input size (MB): 0.60\n",
       "Forward/backward pass size (MB): 156.81\n",
       "Params size (MB): 36.44\n",
       "Estimated Total Size (MB): 193.85\n",
       "============================================================================================================================================"
      ]
     },
     "execution_count": 24,
     "metadata": {},
     "output_type": "execute_result"
    }
   ],
   "source": [
    "from torchinfo import summary\n",
    "\n",
    "summary(effnetb2, \n",
    "        input_size=(1,3,224,224),\n",
    "        col_names=[\"input_size\", \"output_size\", \"num_params\", \"trainable\"],\n",
    "        col_width=20,\n",
    "        row_settings=[\"var_names\"])"
   ]
  },
  {
   "cell_type": "code",
   "execution_count": 25,
   "id": "198e8acc",
   "metadata": {},
   "outputs": [],
   "source": [
    "# set seeds\n",
    "torch.manual_seed(42)\n",
    "\n",
    "effnetb2.classifier = nn.Sequential(\n",
    "    nn.Dropout(0.3, inplace=True),\n",
    "    nn.Linear(in_features=1408,\n",
    "              out_features=3)\n",
    ")"
   ]
  },
  {
   "cell_type": "code",
   "execution_count": 26,
   "id": "66e8f012",
   "metadata": {},
   "outputs": [],
   "source": [
    "# put them into a function\n",
    "def create_effnetb2_model(num_classes: int = 3,\n",
    "                          seed: int = 42):\n",
    "    \n",
    "    weights = torchvision.models.EfficientNet_B2_Weights.DEFAULT\n",
    "    transforms = weights.transforms()\n",
    "    model = torchvision.models.efficientnet_b2(weights=weights)\n",
    "\n",
    "    #freeze layers\n",
    "    for param in model.parameters():\n",
    "        param.requires_grad = False\n",
    "\n",
    "    model.classifier = nn.Sequential(\n",
    "        nn.Dropout(p=0.3,\n",
    "                   inplace=True),\n",
    "        nn.Linear(in_features=1408,\n",
    "                  out_features=num_classes)\n",
    "    )\n",
    "    return model, transforms\n",
    "\n"
   ]
  },
  {
   "cell_type": "code",
   "execution_count": 27,
   "id": "2a099c49",
   "metadata": {},
   "outputs": [],
   "source": [
    "effnetb2, effnetb2_transforms = create_effnetb2_model(3)"
   ]
  },
  {
   "cell_type": "code",
   "execution_count": 28,
   "id": "e454d4a8",
   "metadata": {},
   "outputs": [
    {
     "data": {
      "text/plain": [
       "ImageClassification(\n",
       "    crop_size=[288]\n",
       "    resize_size=[288]\n",
       "    mean=[0.485, 0.456, 0.406]\n",
       "    std=[0.229, 0.224, 0.225]\n",
       "    interpolation=InterpolationMode.BICUBIC\n",
       ")"
      ]
     },
     "execution_count": 28,
     "metadata": {},
     "output_type": "execute_result"
    }
   ],
   "source": [
    "effnetb2_transforms"
   ]
  },
  {
   "cell_type": "code",
   "execution_count": 29,
   "id": "dcc896d6",
   "metadata": {},
   "outputs": [
    {
     "data": {
      "text/plain": [
       "============================================================================================================================================\n",
       "Layer (type (var_name))                                      Input Shape          Output Shape         Param #              Trainable\n",
       "============================================================================================================================================\n",
       "EfficientNet (EfficientNet)                                  [1, 3, 224, 224]     [1, 3]               --                   Partial\n",
       "├─Sequential (features)                                      [1, 3, 224, 224]     [1, 1408, 7, 7]      --                   False\n",
       "│    └─Conv2dNormActivation (0)                              [1, 3, 224, 224]     [1, 32, 112, 112]    --                   False\n",
       "│    │    └─Conv2d (0)                                       [1, 3, 224, 224]     [1, 32, 112, 112]    (864)                False\n",
       "│    │    └─BatchNorm2d (1)                                  [1, 32, 112, 112]    [1, 32, 112, 112]    (64)                 False\n",
       "│    │    └─SiLU (2)                                         [1, 32, 112, 112]    [1, 32, 112, 112]    --                   --\n",
       "│    └─Sequential (1)                                        [1, 32, 112, 112]    [1, 16, 112, 112]    --                   False\n",
       "│    │    └─MBConv (0)                                       [1, 32, 112, 112]    [1, 16, 112, 112]    (1,448)              False\n",
       "│    │    └─MBConv (1)                                       [1, 16, 112, 112]    [1, 16, 112, 112]    (612)                False\n",
       "│    └─Sequential (2)                                        [1, 16, 112, 112]    [1, 24, 56, 56]      --                   False\n",
       "│    │    └─MBConv (0)                                       [1, 16, 112, 112]    [1, 24, 56, 56]      (6,004)              False\n",
       "│    │    └─MBConv (1)                                       [1, 24, 56, 56]      [1, 24, 56, 56]      (10,710)             False\n",
       "│    │    └─MBConv (2)                                       [1, 24, 56, 56]      [1, 24, 56, 56]      (10,710)             False\n",
       "│    └─Sequential (3)                                        [1, 24, 56, 56]      [1, 48, 28, 28]      --                   False\n",
       "│    │    └─MBConv (0)                                       [1, 24, 56, 56]      [1, 48, 28, 28]      (16,518)             False\n",
       "│    │    └─MBConv (1)                                       [1, 48, 28, 28]      [1, 48, 28, 28]      (43,308)             False\n",
       "│    │    └─MBConv (2)                                       [1, 48, 28, 28]      [1, 48, 28, 28]      (43,308)             False\n",
       "│    └─Sequential (4)                                        [1, 48, 28, 28]      [1, 88, 14, 14]      --                   False\n",
       "│    │    └─MBConv (0)                                       [1, 48, 28, 28]      [1, 88, 14, 14]      (50,300)             False\n",
       "│    │    └─MBConv (1)                                       [1, 88, 14, 14]      [1, 88, 14, 14]      (123,750)            False\n",
       "│    │    └─MBConv (2)                                       [1, 88, 14, 14]      [1, 88, 14, 14]      (123,750)            False\n",
       "│    │    └─MBConv (3)                                       [1, 88, 14, 14]      [1, 88, 14, 14]      (123,750)            False\n",
       "│    └─Sequential (5)                                        [1, 88, 14, 14]      [1, 120, 14, 14]     --                   False\n",
       "│    │    └─MBConv (0)                                       [1, 88, 14, 14]      [1, 120, 14, 14]     (149,158)            False\n",
       "│    │    └─MBConv (1)                                       [1, 120, 14, 14]     [1, 120, 14, 14]     (237,870)            False\n",
       "│    │    └─MBConv (2)                                       [1, 120, 14, 14]     [1, 120, 14, 14]     (237,870)            False\n",
       "│    │    └─MBConv (3)                                       [1, 120, 14, 14]     [1, 120, 14, 14]     (237,870)            False\n",
       "│    └─Sequential (6)                                        [1, 120, 14, 14]     [1, 208, 7, 7]       --                   False\n",
       "│    │    └─MBConv (0)                                       [1, 120, 14, 14]     [1, 208, 7, 7]       (301,406)            False\n",
       "│    │    └─MBConv (1)                                       [1, 208, 7, 7]       [1, 208, 7, 7]       (686,868)            False\n",
       "│    │    └─MBConv (2)                                       [1, 208, 7, 7]       [1, 208, 7, 7]       (686,868)            False\n",
       "│    │    └─MBConv (3)                                       [1, 208, 7, 7]       [1, 208, 7, 7]       (686,868)            False\n",
       "│    │    └─MBConv (4)                                       [1, 208, 7, 7]       [1, 208, 7, 7]       (686,868)            False\n",
       "│    └─Sequential (7)                                        [1, 208, 7, 7]       [1, 352, 7, 7]       --                   False\n",
       "│    │    └─MBConv (0)                                       [1, 208, 7, 7]       [1, 352, 7, 7]       (846,900)            False\n",
       "│    │    └─MBConv (1)                                       [1, 352, 7, 7]       [1, 352, 7, 7]       (1,888,920)          False\n",
       "│    └─Conv2dNormActivation (8)                              [1, 352, 7, 7]       [1, 1408, 7, 7]      --                   False\n",
       "│    │    └─Conv2d (0)                                       [1, 352, 7, 7]       [1, 1408, 7, 7]      (495,616)            False\n",
       "│    │    └─BatchNorm2d (1)                                  [1, 1408, 7, 7]      [1, 1408, 7, 7]      (2,816)              False\n",
       "│    │    └─SiLU (2)                                         [1, 1408, 7, 7]      [1, 1408, 7, 7]      --                   --\n",
       "├─AdaptiveAvgPool2d (avgpool)                                [1, 1408, 7, 7]      [1, 1408, 1, 1]      --                   --\n",
       "├─Sequential (classifier)                                    [1, 1408]            [1, 3]               --                   True\n",
       "│    └─Dropout (0)                                           [1, 1408]            [1, 1408]            --                   --\n",
       "│    └─Linear (1)                                            [1, 1408]            [1, 3]               4,227                True\n",
       "============================================================================================================================================\n",
       "Total params: 7,705,221\n",
       "Trainable params: 4,227\n",
       "Non-trainable params: 7,700,994\n",
       "Total mult-adds (Units.MEGABYTES): 657.64\n",
       "============================================================================================================================================\n",
       "Input size (MB): 0.60\n",
       "Forward/backward pass size (MB): 156.80\n",
       "Params size (MB): 30.82\n",
       "Estimated Total Size (MB): 188.22\n",
       "============================================================================================================================================"
      ]
     },
     "execution_count": 29,
     "metadata": {},
     "output_type": "execute_result"
    }
   ],
   "source": [
    "summary(effnetb2, \n",
    "        input_size=(1,3,224,224),\n",
    "        col_names=[\"input_size\", \"output_size\", \"num_params\", \"trainable\"],\n",
    "        col_width=20,\n",
    "        row_settings=[\"var_names\"])"
   ]
  },
  {
   "cell_type": "code",
   "execution_count": 30,
   "id": "94081039",
   "metadata": {},
   "outputs": [],
   "source": [
    "import sys\n",
    "import os\n",
    "sys.path.append(\"./git/pytorch-deep-learning\")\n",
    "try:\n",
    "    from going_modular.going_modular import data_setup, engine\n",
    "except:\n",
    "    print(\"cannot import modular\")"
   ]
  },
  {
   "cell_type": "code",
   "execution_count": 31,
   "id": "ac1b79b4",
   "metadata": {},
   "outputs": [
    {
     "data": {
      "text/plain": [
       "(<torch.utils.data.dataloader.DataLoader at 0x13fe6b800>,\n",
       " <torch.utils.data.dataloader.DataLoader at 0x13fe6a450>,\n",
       " ['pizza', 'steak', 'sushi'])"
      ]
     },
     "execution_count": 31,
     "metadata": {},
     "output_type": "execute_result"
    }
   ],
   "source": [
    "# dataloader\n",
    "train_dataloader_effnetb2, test_dataloader_effnetb2, class_names = data_setup.create_dataloaders(\n",
    "    train_dir=train_dir,\n",
    "    test_dir=test_dir,\n",
    "    transform=effnetb2_transforms,\n",
    "    batch_size=32)\n",
    "train_dataloader_effnetb2, test_dataloader_effnetb2, class_names"
   ]
  },
  {
   "cell_type": "code",
   "execution_count": 32,
   "id": "36840acc",
   "metadata": {},
   "outputs": [
    {
     "data": {
      "text/plain": [
       "(15, 5, ['pizza', 'steak', 'sushi'])"
      ]
     },
     "execution_count": 32,
     "metadata": {},
     "output_type": "execute_result"
    }
   ],
   "source": [
    "len(train_dataloader_effnetb2), len(test_dataloader_effnetb2), class_names"
   ]
  },
  {
   "cell_type": "code",
   "execution_count": 21,
   "id": "980a8852",
   "metadata": {},
   "outputs": [
    {
     "name": "stderr",
     "output_type": "stream",
     "text": [
      "  0%|          | 0/10 [00:00<?, ?it/s]/Users/mikeqin/code/ml-training/venv/lib/python3.12/site-packages/torch/utils/data/dataloader.py:683: UserWarning: 'pin_memory' argument is set as true but not supported on MPS now, then device pinned memory won't be used.\n",
      "  warnings.warn(warn_msg)\n",
      " 10%|█         | 1/10 [01:39<14:54, 99.43s/it]"
     ]
    },
    {
     "name": "stdout",
     "output_type": "stream",
     "text": [
      "Epoch: 1 | train_loss: 0.9850 | train_acc: 0.5208 | test_loss: 0.7801 | test_acc: 0.9011\n"
     ]
    },
    {
     "name": "stderr",
     "output_type": "stream",
     "text": [
      " 20%|██        | 2/10 [03:12<12:43, 95.47s/it]"
     ]
    },
    {
     "name": "stdout",
     "output_type": "stream",
     "text": [
      "Epoch: 2 | train_loss: 0.7363 | train_acc: 0.8021 | test_loss: 0.5852 | test_acc: 0.9500\n"
     ]
    },
    {
     "name": "stderr",
     "output_type": "stream",
     "text": [
      " 30%|███       | 3/10 [04:44<10:59, 94.22s/it]"
     ]
    },
    {
     "name": "stdout",
     "output_type": "stream",
     "text": [
      "Epoch: 3 | train_loss: 0.5509 | train_acc: 0.8833 | test_loss: 0.4957 | test_acc: 0.9597\n"
     ]
    },
    {
     "name": "stderr",
     "output_type": "stream",
     "text": [
      " 40%|████      | 4/10 [1:02:14<2:21:53, 1418.98s/it]"
     ]
    },
    {
     "name": "stdout",
     "output_type": "stream",
     "text": [
      "Epoch: 4 | train_loss: 0.4702 | train_acc: 0.9104 | test_loss: 0.4406 | test_acc: 0.9472\n"
     ]
    },
    {
     "name": "stderr",
     "output_type": "stream",
     "text": [
      " 50%|█████     | 5/10 [1:03:47<1:18:24, 940.90s/it] "
     ]
    },
    {
     "name": "stdout",
     "output_type": "stream",
     "text": [
      "Epoch: 5 | train_loss: 0.4337 | train_acc: 0.8688 | test_loss: 0.3815 | test_acc: 0.9625\n"
     ]
    },
    {
     "name": "stderr",
     "output_type": "stream",
     "text": [
      " 60%|██████    | 6/10 [1:05:20<43:29, 652.48s/it]  "
     ]
    },
    {
     "name": "stdout",
     "output_type": "stream",
     "text": [
      "Epoch: 6 | train_loss: 0.3708 | train_acc: 0.9229 | test_loss: 0.3457 | test_acc: 0.9534\n"
     ]
    },
    {
     "name": "stderr",
     "output_type": "stream",
     "text": [
      " 70%|███████   | 7/10 [1:06:53<23:28, 469.52s/it]"
     ]
    },
    {
     "name": "stdout",
     "output_type": "stream",
     "text": [
      "Epoch: 7 | train_loss: 0.3907 | train_acc: 0.8771 | test_loss: 0.3400 | test_acc: 0.9534\n"
     ]
    },
    {
     "name": "stderr",
     "output_type": "stream",
     "text": [
      " 80%|████████  | 8/10 [1:08:27<11:39, 349.89s/it]"
     ]
    },
    {
     "name": "stdout",
     "output_type": "stream",
     "text": [
      "Epoch: 8 | train_loss: 0.3535 | train_acc: 0.9146 | test_loss: 0.3129 | test_acc: 0.9534\n"
     ]
    },
    {
     "name": "stderr",
     "output_type": "stream",
     "text": [
      " 90%|█████████ | 9/10 [1:10:00<04:29, 269.84s/it]"
     ]
    },
    {
     "name": "stdout",
     "output_type": "stream",
     "text": [
      "Epoch: 9 | train_loss: 0.3800 | train_acc: 0.9062 | test_loss: 0.2934 | test_acc: 0.9688\n"
     ]
    },
    {
     "name": "stderr",
     "output_type": "stream",
     "text": [
      "100%|██████████| 10/10 [1:11:33<00:00, 429.40s/it]"
     ]
    },
    {
     "name": "stdout",
     "output_type": "stream",
     "text": [
      "Epoch: 10 | train_loss: 0.3292 | train_acc: 0.8833 | test_loss: 0.2844 | test_acc: 0.9472\n",
      "test is done in 937.785838 seconds\n"
     ]
    },
    {
     "name": "stderr",
     "output_type": "stream",
     "text": [
      "\n"
     ]
    }
   ],
   "source": [
    "# train\n",
    "effnetb2_loss_fn = nn.CrossEntropyLoss()\n",
    "effnetb2_optimizer = torch.optim.Adam(effnetb2.parameters(), lr=0.001)\n",
    "\n",
    "from timeit import default_timer as timer\n",
    "\n",
    "start = timer()\n",
    "\n",
    "effnetb2_results = engine.train(model=effnetb2,\n",
    "             train_dataloader=train_dataloader_effnetb2,\n",
    "             test_dataloader=test_dataloader_effnetb2,\n",
    "             loss_fn=effnetb2_loss_fn,\n",
    "             optimizer=effnetb2_optimizer,\n",
    "             epochs=10,\n",
    "             device=device\n",
    "             )\n",
    "\n",
    "end = timer()\n",
    "\n",
    "print(f\"test is done in {end-start:3f} seconds\")"
   ]
  },
  {
   "cell_type": "code",
   "execution_count": 22,
   "id": "3d24478c",
   "metadata": {},
   "outputs": [
    {
     "data": {
      "image/png": "[encoded data removed]",
      "text/plain": [
       "<Figure size 1500x700 with 2 Axes>"
      ]
     },
     "metadata": {},
     "output_type": "display_data"
    }
   ],
   "source": [
    "# plot the loss curve\n",
    "from helper_functions import plot_loss_curves\n",
    "\n",
    "plot_loss_curves(effnetb2_results)"
   ]
  },
  {
   "cell_type": "code",
   "execution_count": 23,
   "id": "94e5cbac",
   "metadata": {},
   "outputs": [
    {
     "name": "stdout",
     "output_type": "stream",
     "text": [
      "[INFO] Saving model to: models/pretrained_effnetb2_feature_extractor_pizza_sushi_steak_20_percent.pth\n"
     ]
    }
   ],
   "source": [
    "# save effnetb2 to file\n",
    "from going_modular.going_modular import utils\n",
    "\n",
    "utils.save_model(model=effnetb2,\n",
    "                 target_dir=\"models\",\n",
    "                 model_name=\"pretrained_effnetb2_feature_extractor_pizza_sushi_steak_20_percent.pth\")\n"
   ]
  },
  {
   "cell_type": "code",
   "execution_count": 24,
   "id": "cb9b43a5",
   "metadata": {},
   "outputs": [
    {
     "name": "stdout",
     "output_type": "stream",
     "text": [
      "model size: 29.86 MB\n"
     ]
    }
   ],
   "source": [
    "# check the size of the model\n",
    "from pathlib import Path\n",
    "\n",
    "size = Path(\"models/pretrained_effnetb2_feature_extractor_pizza_sushi_steak_20_percent.pth\").stat().st_size\n",
    "print(f\"model size: {size/(1024*1024):.2f} MB\")"
   ]
  },
  {
   "cell_type": "code",
   "execution_count": 25,
   "id": "6aaab09e",
   "metadata": {},
   "outputs": [
    {
     "data": {
      "text/plain": [
       "{'test_loss': 0.28441075384616854,\n",
       " 'test_acc': 0.947159090909091,\n",
       " 'nuber_of_parameter': 7705221,\n",
       " 'model_size (MB)': 29.86}"
      ]
     },
     "execution_count": 25,
     "metadata": {},
     "output_type": "execute_result"
    }
   ],
   "source": [
    "# collect effnetb2 feature extractor model stats for later comparison\n",
    "# number of parameters\n",
    "effnetb2_total_params = sum(torch.numel(param) for param in effnetb2.parameters())\n",
    "effnetb2_total_params\n",
    "\n",
    "effnetb2_stats = {\"test_loss\": effnetb2_results[\"test_loss\"][-1],\n",
    "                  \"test_acc\": effnetb2_results[\"test_acc\"][-1],\n",
    "                  \"nuber_of_parameter\": effnetb2_total_params,\n",
    "                  \"model_size (MB)\": 29.86}\n",
    "effnetb2_stats"
   ]
  },
  {
   "cell_type": "markdown",
   "id": "30061355",
   "metadata": {},
   "source": [
    "### ViT feature extractor \n",
    "\n",
    "ViT: vision transformer"
   ]
  },
  {
   "cell_type": "code",
   "execution_count": 26,
   "id": "20f0d5e6",
   "metadata": {},
   "outputs": [
    {
     "data": {
      "text/plain": [
       "Sequential(\n",
       "  (head): Linear(in_features=768, out_features=1000, bias=True)\n",
       ")"
      ]
     },
     "execution_count": 26,
     "metadata": {},
     "output_type": "execute_result"
    }
   ],
   "source": [
    "vit = torchvision.models.vit_b_16()\n",
    "vit.heads"
   ]
  },
  {
   "cell_type": "code",
   "execution_count": 27,
   "id": "c5918203",
   "metadata": {},
   "outputs": [],
   "source": [
    "def create_vit_model(num_class:int = 3,\n",
    "                     seed: int = 42):\n",
    "    weights = torchvision.models.ViT_B_16_Weights.DEFAULT\n",
    "    transforms = weights.transforms()\n",
    "    model = torchvision.models.vit_b_16(weights=weights)\n",
    "\n",
    "    for param in model.parameters():\n",
    "        param.requires_grad=False\n",
    "\n",
    "    torch.manual_seed(seed)\n",
    "    model.heads = nn.Sequential(\n",
    "        nn.Linear(in_features=768, out_features=num_class)\n",
    "    )\n",
    "    return model, transforms\n"
   ]
  },
  {
   "cell_type": "code",
   "execution_count": 28,
   "id": "a1c2fe09",
   "metadata": {},
   "outputs": [
    {
     "data": {
      "text/plain": [
       "(VisionTransformer(\n",
       "   (conv_proj): Conv2d(3, 768, kernel_size=(16, 16), stride=(16, 16))\n",
       "   (encoder): Encoder(\n",
       "     (dropout): Dropout(p=0.0, inplace=False)\n",
       "     (layers): Sequential(\n",
       "       (encoder_layer_0): EncoderBlock(\n",
       "         (ln_1): LayerNorm((768,), eps=1e-06, elementwise_affine=True)\n",
       "         (self_attention): MultiheadAttention(\n",
       "           (out_proj): NonDynamicallyQuantizableLinear(in_features=768, out_features=768, bias=True)\n",
       "         )\n",
       "         (dropout): Dropout(p=0.0, inplace=False)\n",
       "         (ln_2): LayerNorm((768,), eps=1e-06, elementwise_affine=True)\n",
       "         (mlp): MLPBlock(\n",
       "           (0): Linear(in_features=768, out_features=3072, bias=True)\n",
       "           (1): GELU(approximate='none')\n",
       "           (2): Dropout(p=0.0, inplace=False)\n",
       "           (3): Linear(in_features=3072, out_features=768, bias=True)\n",
       "           (4): Dropout(p=0.0, inplace=False)\n",
       "         )\n",
       "       )\n",
       "       (encoder_layer_1): EncoderBlock(\n",
       "         (ln_1): LayerNorm((768,), eps=1e-06, elementwise_affine=True)\n",
       "         (self_attention): MultiheadAttention(\n",
       "           (out_proj): NonDynamicallyQuantizableLinear(in_features=768, out_features=768, bias=True)\n",
       "         )\n",
       "         (dropout): Dropout(p=0.0, inplace=False)\n",
       "         (ln_2): LayerNorm((768,), eps=1e-06, elementwise_affine=True)\n",
       "         (mlp): MLPBlock(\n",
       "           (0): Linear(in_features=768, out_features=3072, bias=True)\n",
       "           (1): GELU(approximate='none')\n",
       "           (2): Dropout(p=0.0, inplace=False)\n",
       "           (3): Linear(in_features=3072, out_features=768, bias=True)\n",
       "           (4): Dropout(p=0.0, inplace=False)\n",
       "         )\n",
       "       )\n",
       "       (encoder_layer_2): EncoderBlock(\n",
       "         (ln_1): LayerNorm((768,), eps=1e-06, elementwise_affine=True)\n",
       "         (self_attention): MultiheadAttention(\n",
       "           (out_proj): NonDynamicallyQuantizableLinear(in_features=768, out_features=768, bias=True)\n",
       "         )\n",
       "         (dropout): Dropout(p=0.0, inplace=False)\n",
       "         (ln_2): LayerNorm((768,), eps=1e-06, elementwise_affine=True)\n",
       "         (mlp): MLPBlock(\n",
       "           (0): Linear(in_features=768, out_features=3072, bias=True)\n",
       "           (1): GELU(approximate='none')\n",
       "           (2): Dropout(p=0.0, inplace=False)\n",
       "           (3): Linear(in_features=3072, out_features=768, bias=True)\n",
       "           (4): Dropout(p=0.0, inplace=False)\n",
       "         )\n",
       "       )\n",
       "       (encoder_layer_3): EncoderBlock(\n",
       "         (ln_1): LayerNorm((768,), eps=1e-06, elementwise_affine=True)\n",
       "         (self_attention): MultiheadAttention(\n",
       "           (out_proj): NonDynamicallyQuantizableLinear(in_features=768, out_features=768, bias=True)\n",
       "         )\n",
       "         (dropout): Dropout(p=0.0, inplace=False)\n",
       "         (ln_2): LayerNorm((768,), eps=1e-06, elementwise_affine=True)\n",
       "         (mlp): MLPBlock(\n",
       "           (0): Linear(in_features=768, out_features=3072, bias=True)\n",
       "           (1): GELU(approximate='none')\n",
       "           (2): Dropout(p=0.0, inplace=False)\n",
       "           (3): Linear(in_features=3072, out_features=768, bias=True)\n",
       "           (4): Dropout(p=0.0, inplace=False)\n",
       "         )\n",
       "       )\n",
       "       (encoder_layer_4): EncoderBlock(\n",
       "         (ln_1): LayerNorm((768,), eps=1e-06, elementwise_affine=True)\n",
       "         (self_attention): MultiheadAttention(\n",
       "           (out_proj): NonDynamicallyQuantizableLinear(in_features=768, out_features=768, bias=True)\n",
       "         )\n",
       "         (dropout): Dropout(p=0.0, inplace=False)\n",
       "         (ln_2): LayerNorm((768,), eps=1e-06, elementwise_affine=True)\n",
       "         (mlp): MLPBlock(\n",
       "           (0): Linear(in_features=768, out_features=3072, bias=True)\n",
       "           (1): GELU(approximate='none')\n",
       "           (2): Dropout(p=0.0, inplace=False)\n",
       "           (3): Linear(in_features=3072, out_features=768, bias=True)\n",
       "           (4): Dropout(p=0.0, inplace=False)\n",
       "         )\n",
       "       )\n",
       "       (encoder_layer_5): EncoderBlock(\n",
       "         (ln_1): LayerNorm((768,), eps=1e-06, elementwise_affine=True)\n",
       "         (self_attention): MultiheadAttention(\n",
       "           (out_proj): NonDynamicallyQuantizableLinear(in_features=768, out_features=768, bias=True)\n",
       "         )\n",
       "         (dropout): Dropout(p=0.0, inplace=False)\n",
       "         (ln_2): LayerNorm((768,), eps=1e-06, elementwise_affine=True)\n",
       "         (mlp): MLPBlock(\n",
       "           (0): Linear(in_features=768, out_features=3072, bias=True)\n",
       "           (1): GELU(approximate='none')\n",
       "           (2): Dropout(p=0.0, inplace=False)\n",
       "           (3): Linear(in_features=3072, out_features=768, bias=True)\n",
       "           (4): Dropout(p=0.0, inplace=False)\n",
       "         )\n",
       "       )\n",
       "       (encoder_layer_6): EncoderBlock(\n",
       "         (ln_1): LayerNorm((768,), eps=1e-06, elementwise_affine=True)\n",
       "         (self_attention): MultiheadAttention(\n",
       "           (out_proj): NonDynamicallyQuantizableLinear(in_features=768, out_features=768, bias=True)\n",
       "         )\n",
       "         (dropout): Dropout(p=0.0, inplace=False)\n",
       "         (ln_2): LayerNorm((768,), eps=1e-06, elementwise_affine=True)\n",
       "         (mlp): MLPBlock(\n",
       "           (0): Linear(in_features=768, out_features=3072, bias=True)\n",
       "           (1): GELU(approximate='none')\n",
       "           (2): Dropout(p=0.0, inplace=False)\n",
       "           (3): Linear(in_features=3072, out_features=768, bias=True)\n",
       "           (4): Dropout(p=0.0, inplace=False)\n",
       "         )\n",
       "       )\n",
       "       (encoder_layer_7): EncoderBlock(\n",
       "         (ln_1): LayerNorm((768,), eps=1e-06, elementwise_affine=True)\n",
       "         (self_attention): MultiheadAttention(\n",
       "           (out_proj): NonDynamicallyQuantizableLinear(in_features=768, out_features=768, bias=True)\n",
       "         )\n",
       "         (dropout): Dropout(p=0.0, inplace=False)\n",
       "         (ln_2): LayerNorm((768,), eps=1e-06, elementwise_affine=True)\n",
       "         (mlp): MLPBlock(\n",
       "           (0): Linear(in_features=768, out_features=3072, bias=True)\n",
       "           (1): GELU(approximate='none')\n",
       "           (2): Dropout(p=0.0, inplace=False)\n",
       "           (3): Linear(in_features=3072, out_features=768, bias=True)\n",
       "           (4): Dropout(p=0.0, inplace=False)\n",
       "         )\n",
       "       )\n",
       "       (encoder_layer_8): EncoderBlock(\n",
       "         (ln_1): LayerNorm((768,), eps=1e-06, elementwise_affine=True)\n",
       "         (self_attention): MultiheadAttention(\n",
       "           (out_proj): NonDynamicallyQuantizableLinear(in_features=768, out_features=768, bias=True)\n",
       "         )\n",
       "         (dropout): Dropout(p=0.0, inplace=False)\n",
       "         (ln_2): LayerNorm((768,), eps=1e-06, elementwise_affine=True)\n",
       "         (mlp): MLPBlock(\n",
       "           (0): Linear(in_features=768, out_features=3072, bias=True)\n",
       "           (1): GELU(approximate='none')\n",
       "           (2): Dropout(p=0.0, inplace=False)\n",
       "           (3): Linear(in_features=3072, out_features=768, bias=True)\n",
       "           (4): Dropout(p=0.0, inplace=False)\n",
       "         )\n",
       "       )\n",
       "       (encoder_layer_9): EncoderBlock(\n",
       "         (ln_1): LayerNorm((768,), eps=1e-06, elementwise_affine=True)\n",
       "         (self_attention): MultiheadAttention(\n",
       "           (out_proj): NonDynamicallyQuantizableLinear(in_features=768, out_features=768, bias=True)\n",
       "         )\n",
       "         (dropout): Dropout(p=0.0, inplace=False)\n",
       "         (ln_2): LayerNorm((768,), eps=1e-06, elementwise_affine=True)\n",
       "         (mlp): MLPBlock(\n",
       "           (0): Linear(in_features=768, out_features=3072, bias=True)\n",
       "           (1): GELU(approximate='none')\n",
       "           (2): Dropout(p=0.0, inplace=False)\n",
       "           (3): Linear(in_features=3072, out_features=768, bias=True)\n",
       "           (4): Dropout(p=0.0, inplace=False)\n",
       "         )\n",
       "       )\n",
       "       (encoder_layer_10): EncoderBlock(\n",
       "         (ln_1): LayerNorm((768,), eps=1e-06, elementwise_affine=True)\n",
       "         (self_attention): MultiheadAttention(\n",
       "           (out_proj): NonDynamicallyQuantizableLinear(in_features=768, out_features=768, bias=True)\n",
       "         )\n",
       "         (dropout): Dropout(p=0.0, inplace=False)\n",
       "         (ln_2): LayerNorm((768,), eps=1e-06, elementwise_affine=True)\n",
       "         (mlp): MLPBlock(\n",
       "           (0): Linear(in_features=768, out_features=3072, bias=True)\n",
       "           (1): GELU(approximate='none')\n",
       "           (2): Dropout(p=0.0, inplace=False)\n",
       "           (3): Linear(in_features=3072, out_features=768, bias=True)\n",
       "           (4): Dropout(p=0.0, inplace=False)\n",
       "         )\n",
       "       )\n",
       "       (encoder_layer_11): EncoderBlock(\n",
       "         (ln_1): LayerNorm((768,), eps=1e-06, elementwise_affine=True)\n",
       "         (self_attention): MultiheadAttention(\n",
       "           (out_proj): NonDynamicallyQuantizableLinear(in_features=768, out_features=768, bias=True)\n",
       "         )\n",
       "         (dropout): Dropout(p=0.0, inplace=False)\n",
       "         (ln_2): LayerNorm((768,), eps=1e-06, elementwise_affine=True)\n",
       "         (mlp): MLPBlock(\n",
       "           (0): Linear(in_features=768, out_features=3072, bias=True)\n",
       "           (1): GELU(approximate='none')\n",
       "           (2): Dropout(p=0.0, inplace=False)\n",
       "           (3): Linear(in_features=3072, out_features=768, bias=True)\n",
       "           (4): Dropout(p=0.0, inplace=False)\n",
       "         )\n",
       "       )\n",
       "     )\n",
       "     (ln): LayerNorm((768,), eps=1e-06, elementwise_affine=True)\n",
       "   )\n",
       "   (heads): Sequential(\n",
       "     (0): Linear(in_features=768, out_features=3, bias=True)\n",
       "   )\n",
       " ),\n",
       " ImageClassification(\n",
       "     crop_size=[224]\n",
       "     resize_size=[256]\n",
       "     mean=[0.485, 0.456, 0.406]\n",
       "     std=[0.229, 0.224, 0.225]\n",
       "     interpolation=InterpolationMode.BILINEAR\n",
       " ))"
      ]
     },
     "execution_count": 28,
     "metadata": {},
     "output_type": "execute_result"
    }
   ],
   "source": [
    "vit, vit_transforms = create_vit_model()\n",
    "vit, vit_transforms"
   ]
  },
  {
   "cell_type": "code",
   "execution_count": 29,
   "id": "4cc6051b",
   "metadata": {},
   "outputs": [
    {
     "data": {
      "text/plain": [
       "============================================================================================================================================\n",
       "Layer (type (var_name))                                      Input Shape          Output Shape         Param #              Trainable\n",
       "============================================================================================================================================\n",
       "VisionTransformer (VisionTransformer)                        [1, 3, 224, 224]     [1, 3]               768                  Partial\n",
       "├─Conv2d (conv_proj)                                         [1, 3, 224, 224]     [1, 768, 14, 14]     (590,592)            False\n",
       "├─Encoder (encoder)                                          [1, 197, 768]        [1, 197, 768]        151,296              False\n",
       "│    └─Dropout (dropout)                                     [1, 197, 768]        [1, 197, 768]        --                   --\n",
       "│    └─Sequential (layers)                                   [1, 197, 768]        [1, 197, 768]        --                   False\n",
       "│    │    └─EncoderBlock (encoder_layer_0)                   [1, 197, 768]        [1, 197, 768]        (7,087,872)          False\n",
       "│    │    └─EncoderBlock (encoder_layer_1)                   [1, 197, 768]        [1, 197, 768]        (7,087,872)          False\n",
       "│    │    └─EncoderBlock (encoder_layer_2)                   [1, 197, 768]        [1, 197, 768]        (7,087,872)          False\n",
       "│    │    └─EncoderBlock (encoder_layer_3)                   [1, 197, 768]        [1, 197, 768]        (7,087,872)          False\n",
       "│    │    └─EncoderBlock (encoder_layer_4)                   [1, 197, 768]        [1, 197, 768]        (7,087,872)          False\n",
       "│    │    └─EncoderBlock (encoder_layer_5)                   [1, 197, 768]        [1, 197, 768]        (7,087,872)          False\n",
       "│    │    └─EncoderBlock (encoder_layer_6)                   [1, 197, 768]        [1, 197, 768]        (7,087,872)          False\n",
       "│    │    └─EncoderBlock (encoder_layer_7)                   [1, 197, 768]        [1, 197, 768]        (7,087,872)          False\n",
       "│    │    └─EncoderBlock (encoder_layer_8)                   [1, 197, 768]        [1, 197, 768]        (7,087,872)          False\n",
       "│    │    └─EncoderBlock (encoder_layer_9)                   [1, 197, 768]        [1, 197, 768]        (7,087,872)          False\n",
       "│    │    └─EncoderBlock (encoder_layer_10)                  [1, 197, 768]        [1, 197, 768]        (7,087,872)          False\n",
       "│    │    └─EncoderBlock (encoder_layer_11)                  [1, 197, 768]        [1, 197, 768]        (7,087,872)          False\n",
       "│    └─LayerNorm (ln)                                        [1, 197, 768]        [1, 197, 768]        (1,536)              False\n",
       "├─Sequential (heads)                                         [1, 768]             [1, 3]               --                   True\n",
       "│    └─Linear (0)                                            [1, 768]             [1, 3]               2,307                True\n",
       "============================================================================================================================================\n",
       "Total params: 85,800,963\n",
       "Trainable params: 2,307\n",
       "Non-trainable params: 85,798,656\n",
       "Total mult-adds (Units.MEGABYTES): 172.47\n",
       "============================================================================================================================================\n",
       "Input size (MB): 0.60\n",
       "Forward/backward pass size (MB): 104.09\n",
       "Params size (MB): 229.20\n",
       "Estimated Total Size (MB): 333.89\n",
       "============================================================================================================================================"
      ]
     },
     "execution_count": 29,
     "metadata": {},
     "output_type": "execute_result"
    }
   ],
   "source": [
    "summary(vit,\n",
    "        input_size=(1,3, 224,224),\n",
    "        col_names=[\"input_size\", \"output_size\", \"num_params\", \"trainable\"],\n",
    "        col_width=20,\n",
    "        row_settings=['var_names'])"
   ]
  },
  {
   "cell_type": "code",
   "execution_count": 30,
   "id": "de9ad827",
   "metadata": {},
   "outputs": [
    {
     "data": {
      "text/plain": [
       "(15, 5, ['pizza', 'steak', 'sushi'])"
      ]
     },
     "execution_count": 30,
     "metadata": {},
     "output_type": "execute_result"
    }
   ],
   "source": [
    "# create dataloader\n",
    "from going_modular.going_modular import data_setup\n",
    "\n",
    "train_dataloader_vit, test_dataloader_vit, class_names = data_setup.create_dataloaders(\n",
    "    train_dir=train_dir,\n",
    "    test_dir=test_dir,\n",
    "    transform=vit_transforms,# <-- most important parameter\n",
    "    batch_size=32)\n",
    "len(train_dataloader_vit), len(test_dataloader_vit), class_names"
   ]
  },
  {
   "cell_type": "code",
   "execution_count": 31,
   "id": "97d1a92e",
   "metadata": {},
   "outputs": [
    {
     "name": "stderr",
     "output_type": "stream",
     "text": [
      "  0%|          | 0/10 [00:00<?, ?it/s]/Users/mikeqin/code/ml-training/venv/lib/python3.12/site-packages/torch/utils/data/dataloader.py:683: UserWarning: 'pin_memory' argument is set as true but not supported on MPS now, then device pinned memory won't be used.\n",
      "  warnings.warn(warn_msg)\n",
      " 10%|█         | 1/10 [01:38<14:50, 98.94s/it]"
     ]
    },
    {
     "name": "stdout",
     "output_type": "stream",
     "text": [
      "Epoch: 1 | train_loss: 0.7020 | train_acc: 0.7521 | test_loss: 0.2714 | test_acc: 0.9381\n"
     ]
    },
    {
     "name": "stderr",
     "output_type": "stream",
     "text": [
      " 20%|██        | 2/10 [03:15<13:02, 97.77s/it]"
     ]
    },
    {
     "name": "stdout",
     "output_type": "stream",
     "text": [
      "Epoch: 2 | train_loss: 0.2532 | train_acc: 0.9062 | test_loss: 0.1672 | test_acc: 0.9602\n"
     ]
    },
    {
     "name": "stderr",
     "output_type": "stream",
     "text": [
      " 30%|███       | 3/10 [04:52<11:20, 97.17s/it]"
     ]
    },
    {
     "name": "stdout",
     "output_type": "stream",
     "text": [
      "Epoch: 3 | train_loss: 0.1764 | train_acc: 0.9542 | test_loss: 0.1273 | test_acc: 0.9693\n"
     ]
    },
    {
     "name": "stderr",
     "output_type": "stream",
     "text": [
      " 40%|████      | 4/10 [06:29<09:41, 96.97s/it]"
     ]
    },
    {
     "name": "stdout",
     "output_type": "stream",
     "text": [
      "Epoch: 4 | train_loss: 0.1276 | train_acc: 0.9625 | test_loss: 0.1074 | test_acc: 0.9722\n"
     ]
    },
    {
     "name": "stderr",
     "output_type": "stream",
     "text": [
      " 50%|█████     | 5/10 [08:05<08:04, 96.86s/it]"
     ]
    },
    {
     "name": "stdout",
     "output_type": "stream",
     "text": [
      "Epoch: 5 | train_loss: 0.1159 | train_acc: 0.9646 | test_loss: 0.0953 | test_acc: 0.9784\n"
     ]
    },
    {
     "name": "stderr",
     "output_type": "stream",
     "text": [
      " 60%|██████    | 6/10 [09:42<06:27, 96.80s/it]"
     ]
    },
    {
     "name": "stdout",
     "output_type": "stream",
     "text": [
      "Epoch: 6 | train_loss: 0.1274 | train_acc: 0.9375 | test_loss: 0.0832 | test_acc: 0.9722\n"
     ]
    },
    {
     "name": "stderr",
     "output_type": "stream",
     "text": [
      " 70%|███████   | 7/10 [27:37<20:49, 416.60s/it]"
     ]
    },
    {
     "name": "stdout",
     "output_type": "stream",
     "text": [
      "Epoch: 7 | train_loss: 0.0897 | train_acc: 0.9771 | test_loss: 0.0845 | test_acc: 0.9784\n"
     ]
    },
    {
     "name": "stderr",
     "output_type": "stream",
     "text": [
      " 80%|████████  | 8/10 [53:35<26:00, 780.04s/it]"
     ]
    },
    {
     "name": "stdout",
     "output_type": "stream",
     "text": [
      "Epoch: 8 | train_loss: 0.0919 | train_acc: 0.9812 | test_loss: 0.0764 | test_acc: 0.9722\n"
     ]
    },
    {
     "name": "stderr",
     "output_type": "stream",
     "text": [
      " 90%|█████████ | 9/10 [55:12<09:26, 566.57s/it]"
     ]
    },
    {
     "name": "stdout",
     "output_type": "stream",
     "text": [
      "Epoch: 9 | train_loss: 0.0922 | train_acc: 0.9792 | test_loss: 0.0734 | test_acc: 0.9784\n"
     ]
    },
    {
     "name": "stderr",
     "output_type": "stream",
     "text": [
      "100%|██████████| 10/10 [56:49<00:00, 340.94s/it]"
     ]
    },
    {
     "name": "stdout",
     "output_type": "stream",
     "text": [
      "Epoch: 10 | train_loss: 0.0658 | train_acc: 0.9833 | test_loss: 0.0644 | test_acc: 0.9847\n"
     ]
    },
    {
     "name": "stderr",
     "output_type": "stream",
     "text": [
      "\n"
     ]
    }
   ],
   "source": [
    "# train\n",
    "\n",
    "from going_modular.going_modular import engine\n",
    "\n",
    "loss_fn = nn.CrossEntropyLoss()\n",
    "optimizer = torch.optim.Adam(params=vit.parameters(), lr=1e-3)\n",
    "\n",
    "torch.manual_seed(42)\n",
    "torch.mps.manual_seed(42)\n",
    "\n",
    "vit_results = engine.train(model=vit,\n",
    "                           train_dataloader=train_dataloader_vit,\n",
    "                           test_dataloader=test_dataloader_vit,\n",
    "                           epochs=10, \n",
    "                           device=device,\n",
    "                           loss_fn=loss_fn,\n",
    "                           optimizer=optimizer)"
   ]
  },
  {
   "cell_type": "markdown",
   "id": "478d994c",
   "metadata": {},
   "source": []
  },
  {
   "cell_type": "code",
   "execution_count": 32,
   "id": "f02d1bd7",
   "metadata": {},
   "outputs": [
    {
     "data": {
      "image/png": "[encoded data removed]",
      "text/plain": [
       "<Figure size 1500x700 with 2 Axes>"
      ]
     },
     "metadata": {},
     "output_type": "display_data"
    }
   ],
   "source": [
    "# plot loss curve\n",
    "from helper_functions import plot_loss_curves\n",
    "plot_loss_curves(vit_results)"
   ]
  },
  {
   "cell_type": "code",
   "execution_count": 33,
   "id": "ecf84e20",
   "metadata": {},
   "outputs": [
    {
     "name": "stdout",
     "output_type": "stream",
     "text": [
      "[INFO] Saving model to: models/pretrained_vit_feature_extractor_pizza_sushi_steak_20_percent.pth\n"
     ]
    }
   ],
   "source": [
    "utils.save_model(model=vit,\n",
    "                 target_dir=\"models\",\n",
    "                 model_name=\"pretrained_vit_feature_extractor_pizza_sushi_steak_20_percent.pth\")"
   ]
  },
  {
   "cell_type": "code",
   "execution_count": 34,
   "id": "3a2fb776",
   "metadata": {},
   "outputs": [
    {
     "name": "stdout",
     "output_type": "stream",
     "text": [
      "model size: 327.37 MB\n"
     ]
    }
   ],
   "source": [
    "# check the size of the model\n",
    "from pathlib import Path\n",
    "\n",
    "size = Path(\"models/pretrained_vit_feature_extractor_pizza_sushi_steak_20_percent.pth\").stat().st_size\n",
    "print(f\"model size: {size/(1024*1024):.2f} MB\")"
   ]
  },
  {
   "cell_type": "code",
   "execution_count": 35,
   "id": "01e5f763",
   "metadata": {},
   "outputs": [
    {
     "data": {
      "text/plain": [
       "[0.2713926985859871,\n",
       " 0.16721019744873047,\n",
       " 0.12734051682054998,\n",
       " 0.1073614213615656,\n",
       " 0.09531818283721805,\n",
       " 0.0832292520441115,\n",
       " 0.08448818549513817,\n",
       " 0.07639315174892544,\n",
       " 0.0734323781915009,\n",
       " 0.06443448606878519]"
      ]
     },
     "execution_count": 35,
     "metadata": {},
     "output_type": "execute_result"
    }
   ],
   "source": [
    "vit_results[\"test_loss\"]\n"
   ]
  },
  {
   "cell_type": "code",
   "execution_count": 36,
   "id": "b264a76b",
   "metadata": {},
   "outputs": [
    {
     "data": {
      "text/plain": [
       "{'test_loss': 0.06443448606878519,\n",
       " 'test_acc': 0.984659090909091,\n",
       " 'nuber_of_parameter': 85800963,\n",
       " 'model_size (MB)': 327.37}"
      ]
     },
     "execution_count": 36,
     "metadata": {},
     "output_type": "execute_result"
    }
   ],
   "source": [
    "# collect effnetb2 feature extractor model stats for later comparison\n",
    "# number of parameters\n",
    "vit_total_params = sum(torch.numel(param) for param in vit.parameters())\n",
    "vit_total_params\n",
    "\n",
    "vit_stats = {\"test_loss\": vit_results[\"test_loss\"][-1],\n",
    "                  \"test_acc\": vit_results[\"test_acc\"][-1],\n",
    "                  \"nuber_of_parameter\": vit_total_params,\n",
    "                  \"model_size (MB)\": 327.37}\n",
    "vit_stats"
   ]
  },
  {
   "cell_type": "code",
   "execution_count": 37,
   "id": "a70f0a89",
   "metadata": {},
   "outputs": [
    {
     "data": {
      "text/plain": [
       "[PosixPath('data/pizza_steak_sushi_20_percent/test/steak/413497.jpg'),\n",
       " PosixPath('data/pizza_steak_sushi_20_percent/test/steak/2246332.jpg'),\n",
       " PosixPath('data/pizza_steak_sushi_20_percent/test/steak/2475366.jpg'),\n",
       " PosixPath('data/pizza_steak_sushi_20_percent/test/steak/1982192.jpg'),\n",
       " PosixPath('data/pizza_steak_sushi_20_percent/test/steak/2353677.jpg')]"
      ]
     },
     "execution_count": 37,
     "metadata": {},
     "output_type": "execute_result"
    }
   ],
   "source": [
    "# compare how fast for a prediction\n",
    "# loop through test images, time how long each model takes to make a prediction on the image\n",
    "\n",
    "from pathlib import Path\n",
    "\n",
    "test_data_paths = list(Path(test_dir).glob(\"*/*.jpg\"))\n",
    "test_data_paths[:5]"
   ]
  },
  {
   "cell_type": "code",
   "execution_count": 38,
   "id": "3caae838",
   "metadata": {},
   "outputs": [],
   "source": [
    "from PIL import Image\n",
    "from timeit import default_timer as timer\n",
    "from tqdm.auto import tqdm\n",
    "\n",
    "def pred_and_store(paths: list[Path],\n",
    "                   model: torch.nn.Module,\n",
    "                   transform: torchvision.transforms,\n",
    "                   class_names: list[str],\n",
    "                   device: str) -> list[dict]:\n",
    "    pred_list = []\n",
    "\n",
    "    for path in tqdm(paths):\n",
    "        pred_dict = {}\n",
    "        pred_dict[\"image_path\"] = path\n",
    "        class_name = path.parent.stem\n",
    "        pred_dict[\"class_name\"] = class_name\n",
    "\n",
    "        start_pred_store = timer()\n",
    "\n",
    "        img = Image.open(path)\n",
    "\n",
    "        transformed_image = transform(img).unsqueeze(0).to(device)\n",
    "\n",
    "        model = model.to(device)\n",
    "        model.eval()\n",
    "\n",
    "        with torch.inference_mode():\n",
    "            pred_logit = model(transformed_image)\n",
    "            pred_prob = torch.softmax(pred_logit, dim=1)\n",
    "            pred_label = torch.argmax(pred_prob, dim=1)\n",
    "\n",
    "            # hard code to cpu here, python variable, class_names is a Python native list and live on CPU\n",
    "            # pred_label is a tensor and live on MPS/GPU accelerator\n",
    "            pred_class = class_names[pred_label.cpu()]\n",
    "  \n",
    "            pred_dict[\"pred_prob\"] = round(pred_prob.unsqueeze(0).max().cpu().item(), 4)\n",
    "            pred_dict[\"pred_class\"] = pred_class\n",
    "\n",
    "            end_pred_store = timer()\n",
    "            pred_dict[\"time_for_pred\"] = round(end_pred_store-start_pred_store, 4)\n",
    "\n",
    "        pred_dict[\"correct\"] = class_name == pred_class\n",
    "        pred_list.append(pred_dict)\n",
    "\n",
    "    return pred_list"
   ]
  },
  {
   "cell_type": "markdown",
   "id": "6bf73b8c",
   "metadata": {},
   "source": [
    "Predicate EffNetB2"
   ]
  },
  {
   "cell_type": "code",
   "execution_count": 39,
   "id": "ce538834",
   "metadata": {},
   "outputs": [
    {
     "name": "stderr",
     "output_type": "stream",
     "text": [
      "100%|██████████| 150/150 [00:31<00:00,  4.74it/s]\n"
     ]
    }
   ],
   "source": [
    "effnetb2_test_pred_dicts = pred_and_store(paths=test_data_paths,\n",
    "                                          model=effnetb2,\n",
    "                                          transform=effnetb2_transforms,\n",
    "                                          class_names=class_names,\n",
    "                                          device=\"cpu\")"
   ]
  },
  {
   "cell_type": "code",
   "execution_count": 40,
   "id": "0c17da8b",
   "metadata": {},
   "outputs": [
    {
     "data": {
      "text/plain": [
       "[{'image_path': PosixPath('data/pizza_steak_sushi_20_percent/test/steak/413497.jpg'),\n",
       "  'class_name': 'steak',\n",
       "  'pred_prob': 0.961,\n",
       "  'pred_class': 'steak',\n",
       "  'time_for_pred': 0.2906,\n",
       "  'correct': True},\n",
       " {'image_path': PosixPath('data/pizza_steak_sushi_20_percent/test/steak/2246332.jpg'),\n",
       "  'class_name': 'steak',\n",
       "  'pred_prob': 0.9238,\n",
       "  'pred_class': 'steak',\n",
       "  'time_for_pred': 0.2032,\n",
       "  'correct': True}]"
      ]
     },
     "execution_count": 40,
     "metadata": {},
     "output_type": "execute_result"
    }
   ],
   "source": [
    "effnetb2_test_pred_dicts[:2]"
   ]
  },
  {
   "cell_type": "code",
   "execution_count": 41,
   "id": "ad7ad5bb",
   "metadata": {},
   "outputs": [
    {
     "data": {
      "text/plain": [
       "150"
      ]
     },
     "execution_count": 41,
     "metadata": {},
     "output_type": "execute_result"
    }
   ],
   "source": [
    "len(effnetb2_test_pred_dicts)"
   ]
  },
  {
   "cell_type": "code",
   "execution_count": 42,
   "id": "14367c69",
   "metadata": {},
   "outputs": [
    {
     "data": {
      "text/html": [
       "<div>\n",
       "<style scoped>\n",
       "    .dataframe tbody tr th:only-of-type {\n",
       "        vertical-align: middle;\n",
       "    }\n",
       "\n",
       "    .dataframe tbody tr th {\n",
       "        vertical-align: top;\n",
       "    }\n",
       "\n",
       "    .dataframe thead th {\n",
       "        text-align: right;\n",
       "    }\n",
       "</style>\n",
       "<table border=\"1\" class=\"dataframe\">\n",
       "  <thead>\n",
       "    <tr style=\"text-align: right;\">\n",
       "      <th></th>\n",
       "      <th>image_path</th>\n",
       "      <th>class_name</th>\n",
       "      <th>pred_prob</th>\n",
       "      <th>pred_class</th>\n",
       "      <th>time_for_pred</th>\n",
       "      <th>correct</th>\n",
       "    </tr>\n",
       "  </thead>\n",
       "  <tbody>\n",
       "    <tr>\n",
       "      <th>0</th>\n",
       "      <td>data/pizza_steak_sushi_20_percent/test/steak/4...</td>\n",
       "      <td>steak</td>\n",
       "      <td>0.9610</td>\n",
       "      <td>steak</td>\n",
       "      <td>0.2906</td>\n",
       "      <td>True</td>\n",
       "    </tr>\n",
       "    <tr>\n",
       "      <th>1</th>\n",
       "      <td>data/pizza_steak_sushi_20_percent/test/steak/2...</td>\n",
       "      <td>steak</td>\n",
       "      <td>0.9238</td>\n",
       "      <td>steak</td>\n",
       "      <td>0.2032</td>\n",
       "      <td>True</td>\n",
       "    </tr>\n",
       "    <tr>\n",
       "      <th>2</th>\n",
       "      <td>data/pizza_steak_sushi_20_percent/test/steak/2...</td>\n",
       "      <td>steak</td>\n",
       "      <td>0.9242</td>\n",
       "      <td>steak</td>\n",
       "      <td>0.2598</td>\n",
       "      <td>True</td>\n",
       "    </tr>\n",
       "    <tr>\n",
       "      <th>3</th>\n",
       "      <td>data/pizza_steak_sushi_20_percent/test/steak/1...</td>\n",
       "      <td>steak</td>\n",
       "      <td>0.8321</td>\n",
       "      <td>steak</td>\n",
       "      <td>0.2041</td>\n",
       "      <td>True</td>\n",
       "    </tr>\n",
       "    <tr>\n",
       "      <th>4</th>\n",
       "      <td>data/pizza_steak_sushi_20_percent/test/steak/2...</td>\n",
       "      <td>steak</td>\n",
       "      <td>0.6745</td>\n",
       "      <td>steak</td>\n",
       "      <td>0.2011</td>\n",
       "      <td>True</td>\n",
       "    </tr>\n",
       "  </tbody>\n",
       "</table>\n",
       "</div>"
      ],
      "text/plain": [
       "                                          image_path class_name  pred_prob  \\\n",
       "0  data/pizza_steak_sushi_20_percent/test/steak/4...      steak     0.9610   \n",
       "1  data/pizza_steak_sushi_20_percent/test/steak/2...      steak     0.9238   \n",
       "2  data/pizza_steak_sushi_20_percent/test/steak/2...      steak     0.9242   \n",
       "3  data/pizza_steak_sushi_20_percent/test/steak/1...      steak     0.8321   \n",
       "4  data/pizza_steak_sushi_20_percent/test/steak/2...      steak     0.6745   \n",
       "\n",
       "  pred_class  time_for_pred  correct  \n",
       "0      steak         0.2906     True  \n",
       "1      steak         0.2032     True  \n",
       "2      steak         0.2598     True  \n",
       "3      steak         0.2041     True  \n",
       "4      steak         0.2011     True  "
      ]
     },
     "execution_count": 42,
     "metadata": {},
     "output_type": "execute_result"
    }
   ],
   "source": [
    "import pandas as pd\n",
    "\n",
    "effnetb2_test_pred_df = pd.DataFrame(effnetb2_test_pred_dicts)\n",
    "effnetb2_test_pred_df.head()\n"
   ]
  },
  {
   "cell_type": "code",
   "execution_count": 43,
   "id": "a5ecbf74",
   "metadata": {},
   "outputs": [
    {
     "data": {
      "text/plain": [
       "correct\n",
       "True     142\n",
       "False      8\n",
       "Name: count, dtype: int64"
      ]
     },
     "execution_count": 43,
     "metadata": {},
     "output_type": "execute_result"
    }
   ],
   "source": [
    "effnetb2_test_pred_df[\"correct\"].value_counts()"
   ]
  },
  {
   "cell_type": "code",
   "execution_count": 44,
   "id": "37beb1f6",
   "metadata": {},
   "outputs": [
    {
     "data": {
      "text/plain": [
       "np.float64(0.2105)"
      ]
     },
     "execution_count": 44,
     "metadata": {},
     "output_type": "execute_result"
    }
   ],
   "source": [
    "effnetb2_average_time_per_pred = round(effnetb2_test_pred_df[\"time_for_pred\"].mean(), 4)\n",
    "effnetb2_average_time_per_pred"
   ]
  },
  {
   "cell_type": "markdown",
   "id": "0365cf49",
   "metadata": {},
   "source": [
    "**Note** prediction times will vary much like the training times, depending on the hardware you're using... so generally the faster your compute (ex. CPU or GPU), the faster the prediction will happen"
   ]
  },
  {
   "cell_type": "code",
   "execution_count": 45,
   "id": "387dbf9b",
   "metadata": {},
   "outputs": [],
   "source": [
    "effnetb2_stats[\"time_per_pred_cpu\"] = effnetb2_average_time_per_pred"
   ]
  },
  {
   "cell_type": "markdown",
   "id": "902fce68",
   "metadata": {},
   "source": [
    "Predicate ViT"
   ]
  },
  {
   "cell_type": "code",
   "execution_count": 46,
   "id": "05b5dc1c",
   "metadata": {},
   "outputs": [
    {
     "name": "stderr",
     "output_type": "stream",
     "text": [
      "100%|██████████| 150/150 [00:10<00:00, 14.50it/s]\n"
     ]
    }
   ],
   "source": [
    "vit_test_pred_dicts = pred_and_store(paths=test_data_paths,\n",
    "                                          model=vit,\n",
    "                                          transform=vit_transforms,\n",
    "                                          class_names=class_names,\n",
    "                                          device=\"cpu\")"
   ]
  },
  {
   "cell_type": "code",
   "execution_count": 47,
   "id": "8b360165",
   "metadata": {},
   "outputs": [
    {
     "data": {
      "text/html": [
       "<div>\n",
       "<style scoped>\n",
       "    .dataframe tbody tr th:only-of-type {\n",
       "        vertical-align: middle;\n",
       "    }\n",
       "\n",
       "    .dataframe tbody tr th {\n",
       "        vertical-align: top;\n",
       "    }\n",
       "\n",
       "    .dataframe thead th {\n",
       "        text-align: right;\n",
       "    }\n",
       "</style>\n",
       "<table border=\"1\" class=\"dataframe\">\n",
       "  <thead>\n",
       "    <tr style=\"text-align: right;\">\n",
       "      <th></th>\n",
       "      <th>image_path</th>\n",
       "      <th>class_name</th>\n",
       "      <th>pred_prob</th>\n",
       "      <th>pred_class</th>\n",
       "      <th>time_for_pred</th>\n",
       "      <th>correct</th>\n",
       "    </tr>\n",
       "  </thead>\n",
       "  <tbody>\n",
       "    <tr>\n",
       "      <th>0</th>\n",
       "      <td>data/pizza_steak_sushi_20_percent/test/steak/4...</td>\n",
       "      <td>steak</td>\n",
       "      <td>0.7962</td>\n",
       "      <td>steak</td>\n",
       "      <td>0.1755</td>\n",
       "      <td>True</td>\n",
       "    </tr>\n",
       "    <tr>\n",
       "      <th>1</th>\n",
       "      <td>data/pizza_steak_sushi_20_percent/test/steak/2...</td>\n",
       "      <td>steak</td>\n",
       "      <td>0.9981</td>\n",
       "      <td>steak</td>\n",
       "      <td>0.0775</td>\n",
       "      <td>True</td>\n",
       "    </tr>\n",
       "    <tr>\n",
       "      <th>2</th>\n",
       "      <td>data/pizza_steak_sushi_20_percent/test/steak/2...</td>\n",
       "      <td>steak</td>\n",
       "      <td>0.9959</td>\n",
       "      <td>steak</td>\n",
       "      <td>0.0709</td>\n",
       "      <td>True</td>\n",
       "    </tr>\n",
       "    <tr>\n",
       "      <th>3</th>\n",
       "      <td>data/pizza_steak_sushi_20_percent/test/steak/1...</td>\n",
       "      <td>steak</td>\n",
       "      <td>0.9863</td>\n",
       "      <td>steak</td>\n",
       "      <td>0.0656</td>\n",
       "      <td>True</td>\n",
       "    </tr>\n",
       "    <tr>\n",
       "      <th>4</th>\n",
       "      <td>data/pizza_steak_sushi_20_percent/test/steak/2...</td>\n",
       "      <td>steak</td>\n",
       "      <td>0.9519</td>\n",
       "      <td>steak</td>\n",
       "      <td>0.0676</td>\n",
       "      <td>True</td>\n",
       "    </tr>\n",
       "  </tbody>\n",
       "</table>\n",
       "</div>"
      ],
      "text/plain": [
       "                                          image_path class_name  pred_prob  \\\n",
       "0  data/pizza_steak_sushi_20_percent/test/steak/4...      steak     0.7962   \n",
       "1  data/pizza_steak_sushi_20_percent/test/steak/2...      steak     0.9981   \n",
       "2  data/pizza_steak_sushi_20_percent/test/steak/2...      steak     0.9959   \n",
       "3  data/pizza_steak_sushi_20_percent/test/steak/1...      steak     0.9863   \n",
       "4  data/pizza_steak_sushi_20_percent/test/steak/2...      steak     0.9519   \n",
       "\n",
       "  pred_class  time_for_pred  correct  \n",
       "0      steak         0.1755     True  \n",
       "1      steak         0.0775     True  \n",
       "2      steak         0.0709     True  \n",
       "3      steak         0.0656     True  \n",
       "4      steak         0.0676     True  "
      ]
     },
     "execution_count": 47,
     "metadata": {},
     "output_type": "execute_result"
    }
   ],
   "source": [
    "\n",
    "vit_test_pred_df = pd.DataFrame(vit_test_pred_dicts)\n",
    "vit_test_pred_df.head()\n"
   ]
  },
  {
   "cell_type": "code",
   "execution_count": 48,
   "id": "d3a6ef3e",
   "metadata": {},
   "outputs": [
    {
     "data": {
      "text/plain": [
       "correct\n",
       "True     148\n",
       "False      2\n",
       "Name: count, dtype: int64"
      ]
     },
     "execution_count": 48,
     "metadata": {},
     "output_type": "execute_result"
    }
   ],
   "source": [
    "vit_test_pred_df[\"correct\"].value_counts()"
   ]
  },
  {
   "cell_type": "code",
   "execution_count": 49,
   "id": "084b4f22",
   "metadata": {},
   "outputs": [
    {
     "data": {
      "text/plain": [
       "pred_class\n",
       "steak    57\n",
       "pizza    47\n",
       "sushi    46\n",
       "Name: count, dtype: int64"
      ]
     },
     "execution_count": 49,
     "metadata": {},
     "output_type": "execute_result"
    }
   ],
   "source": [
    "vit_test_pred_df[\"pred_class\"].value_counts()"
   ]
  },
  {
   "cell_type": "code",
   "execution_count": 50,
   "id": "ac0003ff",
   "metadata": {},
   "outputs": [],
   "source": [
    "vit_average_time_per_pred = round(vit_test_pred_df[\"time_for_pred\"].mean(), 4)"
   ]
  },
  {
   "cell_type": "code",
   "execution_count": 51,
   "id": "1d4c0e7a",
   "metadata": {},
   "outputs": [
    {
     "data": {
      "text/plain": [
       "{'test_loss': 0.06443448606878519,\n",
       " 'test_acc': 0.984659090909091,\n",
       " 'nuber_of_parameter': 85800963,\n",
       " 'model_size (MB)': 327.37,\n",
       " 'time_per_pred_cpu': np.float64(0.0688)}"
      ]
     },
     "execution_count": 51,
     "metadata": {},
     "output_type": "execute_result"
    }
   ],
   "source": [
    "vit_stats[\"time_per_pred_cpu\"] = vit_average_time_per_pred\n",
    "vit_stats"
   ]
  },
  {
   "cell_type": "code",
   "execution_count": 56,
   "id": "638cd127",
   "metadata": {},
   "outputs": [
    {
     "data": {
      "text/html": [
       "<div>\n",
       "<style scoped>\n",
       "    .dataframe tbody tr th:only-of-type {\n",
       "        vertical-align: middle;\n",
       "    }\n",
       "\n",
       "    .dataframe tbody tr th {\n",
       "        vertical-align: top;\n",
       "    }\n",
       "\n",
       "    .dataframe thead th {\n",
       "        text-align: right;\n",
       "    }\n",
       "</style>\n",
       "<table border=\"1\" class=\"dataframe\">\n",
       "  <thead>\n",
       "    <tr style=\"text-align: right;\">\n",
       "      <th></th>\n",
       "      <th>test_loss</th>\n",
       "      <th>test_acc</th>\n",
       "      <th>nuber_of_parameter</th>\n",
       "      <th>model_size (MB)</th>\n",
       "      <th>time_per_pred_cpu</th>\n",
       "      <th>model</th>\n",
       "    </tr>\n",
       "  </thead>\n",
       "  <tbody>\n",
       "    <tr>\n",
       "      <th>0</th>\n",
       "      <td>0.284411</td>\n",
       "      <td>94.72</td>\n",
       "      <td>7705221</td>\n",
       "      <td>29.86</td>\n",
       "      <td>0.2105</td>\n",
       "      <td>EfficientNetB2</td>\n",
       "    </tr>\n",
       "    <tr>\n",
       "      <th>1</th>\n",
       "      <td>0.064434</td>\n",
       "      <td>98.47</td>\n",
       "      <td>85800963</td>\n",
       "      <td>327.37</td>\n",
       "      <td>0.0688</td>\n",
       "      <td>ViT</td>\n",
       "    </tr>\n",
       "  </tbody>\n",
       "</table>\n",
       "</div>"
      ],
      "text/plain": [
       "   test_loss  test_acc  nuber_of_parameter  model_size (MB)  \\\n",
       "0   0.284411     94.72             7705221            29.86   \n",
       "1   0.064434     98.47            85800963           327.37   \n",
       "\n",
       "   time_per_pred_cpu           model  \n",
       "0             0.2105  EfficientNetB2  \n",
       "1             0.0688             ViT  "
      ]
     },
     "execution_count": 56,
     "metadata": {},
     "output_type": "execute_result"
    }
   ],
   "source": [
    "# compare the model results\n",
    "df = pd.DataFrame([effnetb2_stats, vit_stats])\n",
    "df[\"model\"] = [\"EfficientNetB2\", \"ViT\"]\n",
    "df[\"test_acc\"] = round(df[\"test_acc\"] * 100, 2)\n",
    "df"
   ]
  },
  {
   "cell_type": "code",
   "execution_count": 53,
   "id": "fc9f22a7",
   "metadata": {},
   "outputs": [
    {
     "data": {
      "text/plain": [
       "{'test_loss': 0.28441075384616854,\n",
       " 'test_acc': 0.947159090909091,\n",
       " 'nuber_of_parameter': 7705221,\n",
       " 'model_size (MB)': 29.86,\n",
       " 'time_per_pred_cpu': np.float64(0.2105)}"
      ]
     },
     "execution_count": 53,
     "metadata": {},
     "output_type": "execute_result"
    }
   ],
   "source": [
    "effnetb2_stats"
   ]
  },
  {
   "cell_type": "code",
   "execution_count": 54,
   "id": "31d34bb9",
   "metadata": {},
   "outputs": [
    {
     "data": {
      "text/plain": [
       "{'test_loss': 0.06443448606878519,\n",
       " 'test_acc': 0.984659090909091,\n",
       " 'nuber_of_parameter': 85800963,\n",
       " 'model_size (MB)': 327.37,\n",
       " 'time_per_pred_cpu': np.float64(0.0688)}"
      ]
     },
     "execution_count": 54,
     "metadata": {},
     "output_type": "execute_result"
    }
   ],
   "source": [
    "vit_stats"
   ]
  },
  {
   "cell_type": "code",
   "execution_count": 57,
   "id": "e3f27937",
   "metadata": {},
   "outputs": [
    {
     "data": {
      "text/plain": [
       "test_loss              0.226554\n",
       "test_acc               1.039590\n",
       "nuber_of_parameter    11.135432\n",
       "model_size (MB)       10.963496\n",
       "time_per_pred_cpu      0.326841\n",
       "dtype: float64"
      ]
     },
     "execution_count": 57,
     "metadata": {},
     "output_type": "execute_result"
    }
   ],
   "source": [
    "df.set_index(\"model\").loc['ViT']/df.set_index(\"model\").loc[\"EfficientNetB2\"]"
   ]
  },
  {
   "cell_type": "code",
   "execution_count": 59,
   "id": "8fbfedf2",
   "metadata": {},
   "outputs": [
    {
     "data": {
      "text/html": [
       "<div>\n",
       "<style scoped>\n",
       "    .dataframe tbody tr th:only-of-type {\n",
       "        vertical-align: middle;\n",
       "    }\n",
       "\n",
       "    .dataframe tbody tr th {\n",
       "        vertical-align: top;\n",
       "    }\n",
       "\n",
       "    .dataframe thead th {\n",
       "        text-align: right;\n",
       "    }\n",
       "</style>\n",
       "<table border=\"1\" class=\"dataframe\">\n",
       "  <thead>\n",
       "    <tr style=\"text-align: right;\">\n",
       "      <th></th>\n",
       "      <th>ViT to EffNetB2 ratios</th>\n",
       "    </tr>\n",
       "  </thead>\n",
       "  <tbody>\n",
       "    <tr>\n",
       "      <th>test_loss</th>\n",
       "      <td>0.226554</td>\n",
       "    </tr>\n",
       "    <tr>\n",
       "      <th>test_acc</th>\n",
       "      <td>1.039590</td>\n",
       "    </tr>\n",
       "    <tr>\n",
       "      <th>nuber_of_parameter</th>\n",
       "      <td>11.135432</td>\n",
       "    </tr>\n",
       "    <tr>\n",
       "      <th>model_size (MB)</th>\n",
       "      <td>10.963496</td>\n",
       "    </tr>\n",
       "    <tr>\n",
       "      <th>time_per_pred_cpu</th>\n",
       "      <td>0.326841</td>\n",
       "    </tr>\n",
       "  </tbody>\n",
       "</table>\n",
       "</div>"
      ],
      "text/plain": [
       "                    ViT to EffNetB2 ratios\n",
       "test_loss                         0.226554\n",
       "test_acc                          1.039590\n",
       "nuber_of_parameter               11.135432\n",
       "model_size (MB)                  10.963496\n",
       "time_per_pred_cpu                 0.326841"
      ]
     },
     "execution_count": 59,
     "metadata": {},
     "output_type": "execute_result"
    }
   ],
   "source": [
    "pd.DataFrame(data=(df.set_index(\"model\").loc['ViT']/df.set_index(\"model\").loc[\"EfficientNetB2\"]),\n",
    "             columns=['ViT to EffNetB2 ratios'])"
   ]
  },
  {
   "cell_type": "code",
   "execution_count": 91,
   "id": "002f0b9f",
   "metadata": {},
   "outputs": [
    {
     "data": {
      "image/png": "[encoded data removed]",
      "text/plain": [
       "<Figure size 1200x800 with 1 Axes>"
      ]
     },
     "metadata": {},
     "output_type": "display_data"
    }
   ],
   "source": [
    "import matplotlib.pyplot as plt\n",
    "\n",
    "fig, ax = plt.subplots(figsize=(12,8))\n",
    "scatter = ax.scatter(data=df, \n",
    "                     x=\"time_per_pred_cpu\",\n",
    "                     y=\"test_acc\",\n",
    "                     c=[\"blue\", \"orange\"],\n",
    "                     s=\"model_size (MB)\") # <-- size in the same ratio as this column \n",
    "\n",
    "ax.set_title(\"FoodVision Mini Inference Speed vs Performance\", fontsize=18)\n",
    "ax.set_xlabel(\"Prediction time per image (seconds)\", fontsize=14)\n",
    "ax.set_ylabel(\"Test accuracy (%)\", fontsize=14)\n",
    "ax.tick_params(axis=\"both\", labelsize=12)\n",
    "ax.grid(True)\n",
    "\n",
    "\n",
    "for index, row in df.iterrows():\n",
    "    ax.annotate(text=row[\"model\"],\n",
    "                xy=(row[\"time_per_pred_cpu\"]+0.0006, row[\"test_acc\"]+0.03))\n",
    "    \n",
    "handles,labels = scatter.legend_elements(prop=\"sizes\", alpha=0.5)\n",
    "model_size_legend = ax.legend(handles,\n",
    "                              labels,\n",
    "                              loc=\"lower left\",\n",
    "                              title=\"Model size (MB)\",\n",
    "                              fontsize=12)\n",
    "\n",
    "plt.savefig(\"foodvison_mini_inference_speed_vs_performance.png\")"
   ]
  },
  {
   "cell_type": "markdown",
   "id": "1f72d3d8",
   "metadata": {},
   "source": [
    "### Bring FoodVision to life"
   ]
  },
  {
   "cell_type": "code",
   "execution_count": 93,
   "id": "29271c30",
   "metadata": {},
   "outputs": [
    {
     "data": {
      "text/plain": [
       "'5.36.2'"
      ]
     },
     "execution_count": 93,
     "metadata": {},
     "output_type": "execute_result"
    }
   ],
   "source": [
    "import gradio as gr\n",
    "gr.__version__"
   ]
  },
  {
   "cell_type": "code",
   "execution_count": 92,
   "id": "c18ddfb2",
   "metadata": {},
   "outputs": [
    {
     "data": {
      "text/plain": [
       "device(type='cpu')"
      ]
     },
     "execution_count": 92,
     "metadata": {},
     "output_type": "execute_result"
    }
   ],
   "source": [
    "# gradio is to map inputs -> function/model -> outputs\n",
    "effnetb2 = effnetb2.to(\"cpu\")\n",
    "next(iter(effnetb2.parameters())).device\n"
   ]
  },
  {
   "cell_type": "code",
   "execution_count": 33,
   "id": "83037df5",
   "metadata": {},
   "outputs": [
    {
     "data": {
      "text/plain": [
       "<All keys matched successfully>"
      ]
     },
     "execution_count": 33,
     "metadata": {},
     "output_type": "execute_result"
    }
   ],
   "source": [
    "# load the model in case the notebook restarted\n",
    "# Create Food101 compatible EffNetB2 instance\n",
    "loaded_effnetb2, loaded_effnetb2_transforms = create_effnetb2_model(num_classes=3)\n",
    "\n",
    "# Load the saved model's state_dict()\n",
    "loaded_effnetb2.load_state_dict(torch.load(\"models/pretrained_effnetb2_feature_extractor_pizza_sushi_steak_20_percent.pth\"))"
   ]
  },
  {
   "cell_type": "code",
   "execution_count": 37,
   "id": "1cea8b97",
   "metadata": {},
   "outputs": [],
   "source": [
    "# predict: image of food -> ML model -> outputs (food class label, prediction time)\n",
    "# function name can be anything you like\n",
    "from timeit import default_timer as timer\n",
    "\n",
    "def predict(img) -> tuple[dict, float]: # <-- pay attention to the return tuple with a square branket\n",
    "    pred_start = timer()\n",
    "    \n",
    "    img = loaded_effnetb2_transforms(img).unsqueeze(0) #effnetb2_transforms(img).unsqueeze(0) # add batch dimension to the 0th index\n",
    "\n",
    "    loaded_effnetb2.eval()\n",
    "    with torch.inference_mode():\n",
    "        pred_probs = torch.softmax(loaded_effnetb2(img), dim=-1)\n",
    "    \n",
    "    pred_labels_and_prods = {class_names[i]: float(pred_probs[0][i]) for i in range(len(class_names))}\n",
    "\n",
    "    pred_end = timer()\n",
    "    pred_time = round(pred_end - pred_start, 4)\n",
    "\n",
    "    return pred_labels_and_prods, pred_time\n"
   ]
  },
  {
   "cell_type": "code",
   "execution_count": 38,
   "id": "9fd4bccd",
   "metadata": {},
   "outputs": [
    {
     "name": "stdout",
     "output_type": "stream",
     "text": [
      "{'pizza': 0.020717216655611992, 'steak': 0.964011549949646, 'sushi': 0.015271252952516079}\n",
      "0.2348\n"
     ]
    }
   ],
   "source": [
    "import random\n",
    "from PIL import Image\n",
    "\n",
    "test_data_paths = list(Path(test_dir).glob(\"*/*.jpg\"))\n",
    "random_image_path = random.sample(test_data_paths, k=1)[0]\n",
    "random_image_path\n",
    "\n",
    "image = Image.open(random_image_path)\n",
    "pred_dict, pred_time = predict(img=image)\n",
    "print(pred_dict)\n",
    "print(pred_time)"
   ]
  },
  {
   "cell_type": "code",
   "execution_count": 40,
   "id": "6838a3d3",
   "metadata": {},
   "outputs": [
    {
     "data": {
      "text/plain": [
       "[['data/pizza_steak_sushi_20_percent/test/steak/48208.jpg'],\n",
       " ['data/pizza_steak_sushi_20_percent/test/pizza/796922.jpg'],\n",
       " ['data/pizza_steak_sushi_20_percent/test/pizza/1001116.jpg']]"
      ]
     },
     "execution_count": 40,
     "metadata": {},
     "output_type": "execute_result"
    }
   ],
   "source": [
    "example_list = [[str(filepath)] for filepath in random.sample(test_data_paths, k=3)]\n",
    "example_list"
   ]
  },
  {
   "cell_type": "code",
   "execution_count": 41,
   "id": "ff730d8a",
   "metadata": {},
   "outputs": [
    {
     "name": "stdout",
     "output_type": "stream",
     "text": [
      "* Running on local URL:  http://127.0.0.1:7860\n",
      "* Running on public URL: https://b64fdef3c5eae95e9c.gradio.live\n",
      "\n",
      "This share link expires in 1 week. For free permanent hosting and GPU upgrades, run `gradio deploy` from the terminal in the working directory to deploy to Hugging Face Spaces (https://huggingface.co/spaces)\n"
     ]
    },
    {
     "data": {
      "text/html": [
       "<div><iframe src=\"https://b64fdef3c5eae95e9c.gradio.live\" width=\"100%\" height=\"500\" allow=\"autoplay; camera; microphone; clipboard-read; clipboard-write;\" frameborder=\"0\" allowfullscreen></iframe></div>"
      ],
      "text/plain": [
       "<IPython.core.display.HTML object>"
      ]
     },
     "metadata": {},
     "output_type": "display_data"
    },
    {
     "data": {
      "text/plain": []
     },
     "execution_count": 41,
     "metadata": {},
     "output_type": "execute_result"
    }
   ],
   "source": [
    "import gradio as gr\n",
    "\n",
    "title=\"FoodVision Mini (Demo)🥩🍣🍕\" #<-- Cmd + Ctrl + Space on macOS\n",
    "# use MarkDown style to create description and article: text with its hyperlink:\n",
    "description=\"An [EfficientNetB2 feature extractor](https://docs.pytorch.org/vision/stable/models/generated/torchvision.models.efficientnet_b2.html#torchvision.models.EfficientNet_B2_Weights)\" \n",
    "article = \"Created at [PyTorch Model Deployment](https://www.learnpytorch.io/09_pytorch_model_deployment/#74-building-a-gradio-interface)\"\n",
    "demo = gr.Interface(fn=predict,  # map inputs to outputs\n",
    "                    inputs=gr.Image(type='pil'),\n",
    "                    outputs=[gr.Label(num_top_classes=3, label=\"Predictions\"), # <-- only the top 3 classes will shown. For us we only have 3 so all of them\n",
    "                             gr.Number(label=\"Prediction time (s)\")],\n",
    "                    examples=example_list,\n",
    "                    title=title,\n",
    "                    description=description,\n",
    "                    article=article\n",
    "                    )\n",
    "\n",
    "demo.launch(debug=False, # <-- debug info\n",
    "            share=True) # <-- generate a public url link\n",
    "\n",
    "# click on the flag button on the display of the url, indicate that the image is not inferenced/predicted properly, and will added to the flagged folterd under gradio in our files"
   ]
  },
  {
   "cell_type": "markdown",
   "id": "9df67630",
   "metadata": {},
   "source": [
    "### Hugging Face Spaces\n",
    "https://huggingface.co/docs/hub/spaces-overview\n",
    "\n",
    "Under the hood, Spaces stores your code inside a git repository, just like the model and dataset repositories. Thanks to this, the same tools we use for all the other repositories on the Hub (git and git-lfs) also work for Spaces. Follow the same flow as in Getting Started with Repositories to add files to your Space. Each time a new commit is pushed, the Space will automatically rebuild and restart.\n"
   ]
  },
  {
   "cell_type": "markdown",
   "id": "4a40b6f0",
   "metadata": {},
   "source": [
    "File structure\n",
    "\n",
    "```\n",
    "demos/\n",
    "└── foodvision_mini/\n",
    "    ├── 09_pretrained_effnetb2_feature_extractor_pizza_steak_sushi_20_percent.pth\n",
    "    ├── app.py\n",
    "    ├── examples/\n",
    "    │   ├── example_1.jpg\n",
    "    │   ├── example_2.jpg\n",
    "    │   └── example_3.jpg\n",
    "    ├── model.py\n",
    "    └── requirements.txt\n",
    "```"
   ]
  },
  {
   "cell_type": "code",
   "execution_count": null,
   "id": "e4afa0f8",
   "metadata": {},
   "outputs": [],
   "source": [
    "# default app file is app.py that hugging face spaces will start from. You can chanage that in the readme file:\n",
    "# for reference, see https://huggingface.co/spaces/mrdbourke/foodvision_mini/tree/main"
   ]
  },
  {
   "cell_type": "code",
   "execution_count": 7,
   "id": "7d01ba6d",
   "metadata": {},
   "outputs": [
    {
     "name": "stdout",
     "output_type": "stream",
     "text": [
      "mkdir: test: File exists\n"
     ]
    }
   ],
   "source": [
    "!mkdir test"
   ]
  },
  {
   "cell_type": "code",
   "execution_count": 6,
   "id": "254dcf10",
   "metadata": {},
   "outputs": [
    {
     "name": "stderr",
     "output_type": "stream",
     "text": [
      "UsageError: Line magic function `%%writefile` not found.\n"
     ]
    }
   ],
   "source": [
    "#there is no space after %%\n",
    "#folder has to exist first\n",
    "%%writefile test/test.py\n",
    "\n",
    "import torch\n",
    "import torchvision\n",
    "from torch import nn"
   ]
  },
  {
   "cell_type": "code",
   "execution_count": null,
   "id": "f1081569",
   "metadata": {},
   "outputs": [],
   "source": []
  }
 ],
 "metadata": {
  "kernelspec": {
   "display_name": "venv",
   "language": "python",
   "name": "python3"
  },
  "language_info": {
   "codemirror_mode": {
    "name": "ipython",
    "version": 3
   },
   "file_extension": ".py",
   "mimetype": "text/x-python",
   "name": "python",
   "nbconvert_exporter": "python",
   "pygments_lexer": "ipython3",
   "version": "3.12.9"
  }
 },
 "nbformat": 4,
 "nbformat_minor": 5
}
